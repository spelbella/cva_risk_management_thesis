{
 "cells": [
  {
   "cell_type": "code",
   "execution_count": null,
   "metadata": {},
   "outputs": [],
   "source": [
    "import numpy as np\n",
    "import scipy as sp\n",
    "\n",
    "def delta_hedge(Swapts,Q,T_s,t):\n",
    "    T_sl = T_s.copy()\n",
    "    T_sl = [T_sl[i] for i in range(len(T_sl)-1) if T_sl[i+1] > t] + [T_sl[-1]]\n",
    "\n",
    "    swapts_hedge_amount = np.zeros(len(Swapts))\n",
    "    Q_Hedge_Amount = np.zeros(len(Q))\n",
    "\n",
    "    if len(T_sl) <= 2:\n",
    "        return (swapts_hedge_amount,Q_Hedge_Amount)\n",
    "\n",
    "    else: \n",
    "        Q_vec = [Q[T] for T in T_sl] # Q from T_a to T_b\n",
    "        croppedSwapts = [Swapts[T] for T in T_sl[:-1]] # Swaptions from T_a to T_b-1\n",
    "\n",
    "        SwapHedgeAmount = [(Q_vec[k-1] - Q_vec[k])  for k in range(1,len(T_sl))] \n",
    "\n",
    "        Swapts0 = croppedSwapts + [0.0]                         # Zero padded swaptions so that we can loop over a sum of swaptions\n",
    "        QHedgeAmount = [0] + [Swapts0[k] - Swapts0[k-1] for k in range(1,len(T_sl))]   # How much to hedge in Q starting at indx a and ending at Q(T_b-1)\n",
    "\n",
    "        # Adjustment term\n",
    "        if t > T_s[0]: \n",
    "            SwapHedgeAmount[0] = 0\n",
    "            SwapHedgeAmount[1] = (1 - Q_vec[2])\n",
    "            \n",
    "            QHedgeAmount[1] = 0\n",
    "            QHedgeAmount[2] = -Swapts0[1] + Swapts0[2]\n",
    "            Q_Hedge_Amount[0] = Swapts0[1]# Just for value balance, since Q0 never moves this has no effect on the efficacy of the hedge, but balances the books s.t the delta hedge costs exactly twice the value of the CVA\n",
    "        \n",
    "        # The Qvector and Swapts vector are at the latest possible position, so\n",
    "        offsetS = len(swapts_hedge_amount) - len(SwapHedgeAmount)\n",
    "        offsetQ = len(Q_Hedge_Amount) - len(QHedgeAmount)\n",
    "        swapts_hedge_amount[offsetS:] = SwapHedgeAmount\n",
    "        Q_Hedge_Amount[offsetQ:] = QHedgeAmount\n",
    "\n",
    "    return (swapts_hedge_amount, Q_Hedge_Amount)"
   ]
  }
 ],
 "metadata": {
  "language_info": {
   "name": "python"
  },
  "orig_nbformat": 4
 },
 "nbformat": 4,
 "nbformat_minor": 2
}
