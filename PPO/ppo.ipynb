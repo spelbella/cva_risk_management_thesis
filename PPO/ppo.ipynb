{
 "cells": [
  {
   "cell_type": "code",
   "execution_count": 1,
   "metadata": {},
   "outputs": [],
   "source": [
    "# Imports\n",
    "import gymnasium as gym\n",
    "\n",
    "from stable_baselines3 import PPO\n",
    "from stable_baselines3.common.env_util import make_vec_env\n",
    "\n",
    "import pickle\n",
    "\n",
    "# Import\n",
    "# Math\n",
    "import numpy as np\n",
    "import scipy as sp\n",
    "import matplotlib.pyplot as plt\n",
    "from numpy.random import Generator, PCG64\n",
    "import random\n",
    "from scipy.stats import norm\n",
    "import scipy.optimize as optimize\n",
    "import time\n",
    "import math as m\n",
    "\n",
    "# Ez parallelization\n",
    "from joblib import Parallel, delayed\n",
    "\n",
    "# File Handling\n",
    "from sys import getsizeof\n",
    "import _pickle as pickle\n",
    "# Alternatively use JSON which will be human readable\n",
    "# import json\n",
    "\n",
    "import sys\n",
    "import os\n",
    "sys.path.append(os.path.abspath(os.path.join(os.getcwd(), \"..\")))\n",
    "os.environ[\"KMP_DUPLICATE_LIB_OK\"]=\"TRUE\"\n",
    "\n",
    "import torch as th\n",
    "import pandas as pd\n",
    "from stable_baselines3.common.noise import NormalActionNoise, OrnsteinUhlenbeckActionNoise\n",
    "from stable_baselines3.common.monitor import Monitor\n",
    "import numpy as np\n",
    "from matplotlib import pyplot as plt\n",
    "from typing import Any, List, Sequence, Tuple\n",
    "from env import tradingEng\n",
    "\n",
    "sys.path.append(os.path.abspath(os.path.join(os.getcwd(), \"..\")))\n",
    "\n",
    "\n",
    "# Custom imports\n",
    "from MarketGeneratingFunctions.global_cache import Global_Cache\n",
    "import MarketGeneratingFunctions.base_from_gen as bg\n",
    "import MarketGeneratingFunctions.pricing_func as pf\n",
    "from MarketGeneratingFunctions.path_datatype import Path"
   ]
  },
  {
   "cell_type": "code",
   "execution_count": 2,
   "metadata": {},
   "outputs": [
    {
     "name": "stderr",
     "output_type": "stream",
     "text": [
      "/Users/isabellebyman/opt/anaconda3/envs/exjobb/lib/python3.13/site-packages/gymnasium/spaces/box.py:130: UserWarning: \u001b[33mWARN: Box bound precision lowered by casting to float32\u001b[0m\n",
      "  gym.logger.warn(f\"Box bound precision lowered by casting to {self.dtype}\")\n"
     ]
    }
   ],
   "source": [
    "# Define environment\n",
    "file_path = os.path.abspath(\"../MarketGeneratingFunctions/1corr100pathsHWRunDemo.pkl\")\n",
    "with open(file_path,\"rb\") as fp:\n",
    "    paths = pickle.load(fp)\n",
    "env = tradingEng(paths)"
   ]
  },
  {
   "cell_type": "code",
   "execution_count": 3,
   "metadata": {},
   "outputs": [
    {
     "ename": "ImportError",
     "evalue": "cannot import name 'DeltaHedge' from 'MarketGeneratingFunctions' (/Users/isabellebyman/Documents/Courses_LTH/Exjobb/cva_risk_management_thesis/MarketGeneratingFunctions/__init__.py)",
     "output_type": "error",
     "traceback": [
      "\u001b[31m---------------------------------------------------------------------------\u001b[39m",
      "\u001b[31mImportError\u001b[39m                               Traceback (most recent call last)",
      "\u001b[36mCell\u001b[39m\u001b[36m \u001b[39m\u001b[32mIn[3]\u001b[39m\u001b[32m, line 17\u001b[39m\n\u001b[32m     15\u001b[39m \u001b[38;5;28;01mif\u001b[39;00m \u001b[38;5;129;01mnot\u001b[39;00m \u001b[33m'\u001b[39m\u001b[33mT_s\u001b[39m\u001b[33m'\u001b[39m \u001b[38;5;129;01min\u001b[39;00m \u001b[38;5;28mvars\u001b[39m() \u001b[38;5;129;01mor\u001b[39;00m \u001b[33m'\u001b[39m\u001b[33mT_s\u001b[39m\u001b[33m'\u001b[39m \u001b[38;5;129;01min\u001b[39;00m \u001b[38;5;28mglobals\u001b[39m():\n\u001b[32m     16\u001b[39m     T_s = np.arange(\u001b[32m0\u001b[39m,\u001b[32m11\u001b[39m)\n\u001b[32m---> \u001b[39m\u001b[32m17\u001b[39m \u001b[38;5;28;01mfrom\u001b[39;00m\u001b[38;5;250m \u001b[39m\u001b[34;01mMarketGeneratingFunctions\u001b[39;00m\u001b[38;5;250m \u001b[39m\u001b[38;5;28;01mimport\u001b[39;00m DeltaHedge\n\u001b[32m     18\u001b[39m \u001b[38;5;28;01mdef\u001b[39;00m\u001b[38;5;250m \u001b[39m\u001b[34mDeltaFromFunc\u001b[39m(path):\n\u001b[32m     19\u001b[39m     pnl = np.zeros(\u001b[38;5;28mlen\u001b[39m(path.CVA)-\u001b[32m1\u001b[39m)\n",
      "\u001b[31mImportError\u001b[39m: cannot import name 'DeltaHedge' from 'MarketGeneratingFunctions' (/Users/isabellebyman/Documents/Courses_LTH/Exjobb/cva_risk_management_thesis/MarketGeneratingFunctions/__init__.py)"
     ]
    }
   ],
   "source": [
    "### Unhedged PnL\n",
    "def pnl_cva(path):\n",
    "    pnl_without_hedge = np.zeros(len(path.CVA)-1)\n",
    "    for i in range(1, len(path.CVA)):\n",
    "        pnl_without_hedge[i-1] = path.CVA[i]-path.CVA[i-1]\n",
    "    return pnl_without_hedge\n",
    "\n",
    "pnl_without_hedge = [None]*len(paths)\n",
    "for i in range(len(pnl_without_hedge)):\n",
    "    pnl_without_hedge[i] = pnl_cva(paths[i])\n",
    "\n",
    "\n",
    "\n",
    "### Delta Hedged PnL\n",
    "if not 'T_s' in vars() or 'T_s' in globals():\n",
    "    T_s = np.arange(0,11)\n",
    "from MarketGeneratingFunctions import DeltaHedge\n",
    "def DeltaFromFunc(path):\n",
    "    pnl = np.zeros(len(path.CVA)-1)\n",
    "    for i in range(len(path.CVA)-1):\n",
    "        t = path.t_s[i]\n",
    "        Q = [path.Q_s[j][i] for j in range(0,11)]\n",
    "        Swapts = [path.Swaptions[j][i] for j in range(0,10)]\n",
    "        T_sl = T_s.copy()\n",
    "        \n",
    "        [SwapsHedge,Qhedge] = DeltaHedge.delta_hedge(Swapts,Q,T_sl,t)\n",
    "\n",
    "        cost = np.inner(SwapsHedge,Swapts) + np.inner(Qhedge,Q)\n",
    "        \n",
    "        futureSwapts = [path.Swaptions[j][i+1] for j in range(0,10)]\n",
    "        futureQ = [path.Q_s[j][i+1] for j in range(0,11)]\n",
    "\n",
    "        value = np.inner(SwapsHedge,futureSwapts) + np.inner(Qhedge,futureQ)\n",
    "\n",
    "        pnl[i] = ((path.CVA[i+1] - path.CVA[i]) - (value - cost))\n",
    "    return pnl\n",
    "\n",
    "pnl_delta_hedge = [None]*len(paths)\n",
    "for i in range(len(pnl_without_hedge)):\n",
    "    pnl_delta_hedge[i] = DeltaFromFunc(paths[i])"
   ]
  },
  {
   "attachments": {},
   "cell_type": "markdown",
   "metadata": {},
   "source": [
    "## RL hedge"
   ]
  },
  {
   "cell_type": "code",
   "execution_count": null,
   "metadata": {},
   "outputs": [],
   "source": [
    "modelG = PPO.load(\"ppo_trading\")\n",
    "\n",
    "def rlHedge(path, model):\n",
    "    pnl = np.zeros(len(path.CVA)-1)\n",
    "    for i in range(round((len(path.CVA)-1)/10)):\n",
    "        # Get State\n",
    "        lambdax = path.lambdas[i]\n",
    "        r = path.r[i]\n",
    "        t = path.t_s[i]\n",
    "\n",
    "        Q = [path.Q_s[j][i] for j in range(0,11)]\n",
    "        Swapts = [path.Swaptions[j][i] for j in range(0,10)]\n",
    "\n",
    "        futureSwapts = [path.Swaptions[j][i+1] for j in range(0,10)]\n",
    "        futureQ = [path.Q_s[j][i+1] for j in range(0,11)]\n",
    "\n",
    "        # Create Hedge\n",
    "        hedgPos = model.predict(np.asarray([lambdax,r,t]))\n",
    "        hedgPos = hedgPos[0]\n",
    "        \n",
    "        #print(hedgPos)\n",
    "\n",
    "        # Split into swp and Q\n",
    "        swpPos = hedgPos[0]\n",
    "        QPos = hedgPos[1]\n",
    "\n",
    "        # Test Hedge\n",
    "        cost = Q[-1]*QPos + Swapts[-1]*swpPos\n",
    "        #print(cost)\n",
    "        value = futureQ[-1]*QPos + futureSwapts[-1]*swpPos\n",
    "        #print(value)\n",
    "        #print(value - cost)\n",
    "        #print(path.CVA[i+1] - path.CVA[i]) \n",
    "        pnl[i] = ((path.CVA[i+1] - path.CVA[i]) - (value - cost))\n",
    "    return pnl\n",
    "\n",
    "pnl_RL_hedge = [None]*len(paths)\n",
    "for i in range(len(pnl_without_hedge)):\n",
    "    pnl_RL_hedge[i] = rlHedge(paths[i], modelG)"
   ]
  }
 ],
 "metadata": {
  "kernelspec": {
   "display_name": "exjobb",
   "language": "python",
   "name": "python3"
  },
  "language_info": {
   "codemirror_mode": {
    "name": "ipython",
    "version": 3
   },
   "file_extension": ".py",
   "mimetype": "text/x-python",
   "name": "python",
   "nbconvert_exporter": "python",
   "pygments_lexer": "ipython3",
   "version": "3.13.2"
  },
  "orig_nbformat": 4
 },
 "nbformat": 4,
 "nbformat_minor": 2
}
