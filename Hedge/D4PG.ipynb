{
 "cells": [
  {
   "attachments": {},
   "cell_type": "markdown",
   "metadata": {},
   "source": [
    "## D4PG-QR"
   ]
  },
  {
   "cell_type": "code",
   "execution_count": null,
   "metadata": {},
   "outputs": [],
   "source": []
  },
  {
   "attachments": {},
   "cell_type": "markdown",
   "metadata": {},
   "source": [
    "## RAYLIB"
   ]
  },
  {
   "cell_type": "code",
   "execution_count": null,
   "metadata": {},
   "outputs": [],
   "source": [
    "pip install \"ray[rllib]\" torch torchvision\n"
   ]
  },
  {
   "cell_type": "code",
   "execution_count": null,
   "metadata": {},
   "outputs": [],
   "source": [
    "from ray.rllib.agents.ddpg import DDPGTrainer\n",
    "\n",
    "config = {\n",
    "    \"env\": \"Pendulum-v1\",  # Replace with hedging environment\n",
    "    \"num_workers\": 4,  # Parallel training\n",
    "    \"framework\": \"torch\",\n",
    "    \"exploration_config\": {\"type\": \"OrnsteinUhlenbeckNoise\"},  # Better exploration\n",
    "    \"model\": {\n",
    "        \"custom_model\": \"quantile_critic_model\",  # Specify custom critic model\n",
    "        \"custom_model_config\": {\"num_quantiles\": 32},  # Number of quantiles\n",
    "    },\n",
    "    \"critic_loss_fn\": \"quantile_huber_loss\",  # Use Quantile Regression Loss\n",
    "}\n",
    "\n",
    "trainer = DDPGTrainer(config=config)\n",
    "\n",
    "for _ in range(100):\n",
    "    result = trainer.train()\n",
    "    print(result)\n"
   ]
  },
  {
   "cell_type": "code",
   "execution_count": null,
   "metadata": {},
   "outputs": [],
   "source": [
    "# making critic outputs quantiles instead of a single Q-value\n",
    "import torch\n",
    "import torch.nn as nn\n",
    "import torch.nn.functional as F\n",
    "from ray.rllib.models.torch.torch_modelv2 import TorchModelV2\n",
    "from ray.rllib.models.torch.fcnet import FullyConnectedNetwork\n",
    "from ray.rllib.utils.torch_ops import huber_loss\n",
    "from ray.rllib.utils.annotations import override\n",
    "\n",
    "class QuantileCritic(TorchModelV2, nn.Module):\n",
    "    def __init__(self, obs_space, action_space, num_outputs, model_config, name):\n",
    "        TorchModelV2.__init__(self, obs_space, action_space, num_outputs, model_config, name)\n",
    "        nn.Module.__init__(self)\n",
    "\n",
    "        self.num_quantiles = model_config.get(\"custom_model_config\", {}).get(\"num_quantiles\", 32)\n",
    "        self.base_model = FullyConnectedNetwork(\n",
    "            obs_space, action_space, self.num_quantiles, model_config, name + \"_base\"\n",
    "        )\n",
    "\n",
    "    def forward(self, input_dict, state, seq_lens):\n",
    "        # Predict quantiles instead of single Q-value\n",
    "        features = self.base_model(input_dict, state, seq_lens)\n",
    "        return features, state\n",
    "\n",
    "    def get_q_values(self, obs):\n",
    "        # Return quantile estimates\n",
    "        return self.base_model(obs)\n"
   ]
  },
  {
   "cell_type": "code",
   "execution_count": null,
   "metadata": {},
   "outputs": [],
   "source": [
    "def quantile_huber_loss(predictions, targets, taus):\n",
    "    \"\"\"Quantile Huber loss for QR-DQN / D4PG-QR.\"\"\"\n",
    "    delta = targets - predictions\n",
    "    loss = torch.where(delta > 0, taus * delta, (taus - 1) * delta)\n",
    "    return huber_loss(loss, delta)\n",
    "\n",
    "\n"
   ]
  },
  {
   "cell_type": "code",
   "execution_count": null,
   "metadata": {},
   "outputs": [],
   "source": [
    "\n",
    "from ray.rllib.models import ModelCatalog\n",
    "\n",
    "ModelCatalog.register_custom_model(\"quantile_critic_model\", QuantileCritic)"
   ]
  }
 ],
 "metadata": {
  "language_info": {
   "name": "python"
  },
  "orig_nbformat": 4
 },
 "nbformat": 4,
 "nbformat_minor": 2
}
