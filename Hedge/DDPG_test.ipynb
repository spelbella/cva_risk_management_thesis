{
 "cells": [
  {
   "cell_type": "markdown",
   "metadata": {},
   "source": [
    "### Imports and Environment"
   ]
  },
  {
   "cell_type": "code",
   "execution_count": 77,
   "metadata": {},
   "outputs": [
    {
     "name": "stderr",
     "output_type": "stream",
     "text": [
      "/Users/isabellebyman/opt/anaconda3/envs/exjobb/lib/python3.13/site-packages/gymnasium/spaces/box.py:130: UserWarning: \u001b[33mWARN: Box bound precision lowered by casting to float32\u001b[0m\n",
      "  gym.logger.warn(f\"Box bound precision lowered by casting to {self.dtype}\")\n"
     ]
    }
   ],
   "source": [
    "import gymnasium as gym\n",
    "from stable_baselines3 import DDPG\n",
    "from stable_baselines3.common.noise import NormalActionNoise, OrnsteinUhlenbeckActionNoise\n",
    "\n",
    "import numpy as np\n",
    "\n",
    "import collections\n",
    "import gymnasium as gym\n",
    "import numpy as np\n",
    "import os\n",
    "\n",
    "import tqdm\n",
    "\n",
    "from matplotlib import pyplot as plt\n",
    "from typing import Any, List, Sequence, Tuple\n",
    "\n",
    "import pickle\n",
    "\n",
    "import path_datatype\n",
    "import sys\n",
    "\n",
    "from env import tradingEng\n",
    "\n",
    "# Define environment\n",
    "file_path = os.path.abspath(\"../MarketGeneratingFunctions/1.6kRunDemo.pkl\")\n",
    "with open(file_path,\"rb\") as fp:\n",
    "    paths = pickle.load(fp)\n",
    "env = tradingEng(paths)"
   ]
  },
  {
   "cell_type": "code",
   "execution_count": 56,
   "metadata": {},
   "outputs": [
    {
     "name": "stderr",
     "output_type": "stream",
     "text": [
      "/Users/isabellebyman/opt/anaconda3/envs/exjobb/lib/python3.13/site-packages/gymnasium/spaces/box.py:130: UserWarning: \u001b[33mWARN: Box bound precision lowered by casting to float32\u001b[0m\n",
      "  gym.logger.warn(f\"Box bound precision lowered by casting to {self.dtype}\")\n"
     ]
    }
   ],
   "source": [
    "import importlib\n",
    "import env\n",
    "importlib.reload(env) \n",
    "env = env.tradingEng(paths)"
   ]
  },
  {
   "attachments": {},
   "cell_type": "markdown",
   "metadata": {},
   "source": [
    "# DDPG"
   ]
  },
  {
   "cell_type": "code",
   "execution_count": 150,
   "metadata": {},
   "outputs": [
    {
     "ename": "AssertionError",
     "evalue": "The observation returned by the `reset()` method does not match the data type (cannot cast) of the given observation space Box([  0.   0.   0.   0.   0.   0.   0.   0.   0.   0.   0.   0.   0.   0.\n   0.   0.   0.   0.   0.   0.   0.   0.   0.   0.   0.   0.   0.   0.\n   0.   0.   0.   0.   0.   0.   0.   0. -inf], [ 1.  1.  1.  1.  1.  1.  1.  1.  1.  1.  1.  1.  1.  1.  1.  1.  1.  1.\n inf inf inf inf inf inf inf inf inf  1.  1.  1.  1.  1.  1.  1.  1.  1.\n inf], (37,), float32). Expected: float32, actual dtype: float64",
     "output_type": "error",
     "traceback": [
      "\u001b[31m---------------------------------------------------------------------------\u001b[39m",
      "\u001b[31mAssertionError\u001b[39m                            Traceback (most recent call last)",
      "\u001b[36mCell\u001b[39m\u001b[36m \u001b[39m\u001b[32mIn[150]\u001b[39m\u001b[32m, line 3\u001b[39m\n\u001b[32m      1\u001b[39m \u001b[38;5;28;01mfrom\u001b[39;00m\u001b[38;5;250m \u001b[39m\u001b[34;01mstable_baselines3\u001b[39;00m\u001b[34;01m.\u001b[39;00m\u001b[34;01mcommon\u001b[39;00m\u001b[34;01m.\u001b[39;00m\u001b[34;01menv_checker\u001b[39;00m\u001b[38;5;250m \u001b[39m\u001b[38;5;28;01mimport\u001b[39;00m check_env\n\u001b[32m----> \u001b[39m\u001b[32m3\u001b[39m \u001b[43mcheck_env\u001b[49m\u001b[43m(\u001b[49m\u001b[43menv\u001b[49m\u001b[43m,\u001b[49m\u001b[43m \u001b[49m\u001b[43mwarn\u001b[49m\u001b[43m=\u001b[49m\u001b[38;5;28;43;01mTrue\u001b[39;49;00m\u001b[43m,\u001b[49m\u001b[43m \u001b[49m\u001b[43mskip_render_check\u001b[49m\u001b[43m=\u001b[49m\u001b[38;5;28;43;01mTrue\u001b[39;49;00m\u001b[43m)\u001b[49m\n",
      "\u001b[36mFile \u001b[39m\u001b[32m~/opt/anaconda3/envs/exjobb/lib/python3.13/site-packages/stable_baselines3/common/env_checker.py:438\u001b[39m, in \u001b[36mcheck_env\u001b[39m\u001b[34m(env, warn, skip_render_check)\u001b[39m\n\u001b[32m    433\u001b[39m         warnings.warn(\n\u001b[32m    434\u001b[39m             \u001b[33mf\u001b[39m\u001b[33m\"\u001b[39m\u001b[33mYour action space has dtype \u001b[39m\u001b[38;5;132;01m{\u001b[39;00maction_space.dtype\u001b[38;5;132;01m}\u001b[39;00m\u001b[33m, we recommend using np.float32 to avoid cast errors.\u001b[39m\u001b[33m\"\u001b[39m\n\u001b[32m    435\u001b[39m         )\n\u001b[32m    437\u001b[39m \u001b[38;5;66;03m# ============ Check the returned values ===============\u001b[39;00m\n\u001b[32m--> \u001b[39m\u001b[32m438\u001b[39m \u001b[43m_check_returned_values\u001b[49m\u001b[43m(\u001b[49m\u001b[43menv\u001b[49m\u001b[43m,\u001b[49m\u001b[43m \u001b[49m\u001b[43mobservation_space\u001b[49m\u001b[43m,\u001b[49m\u001b[43m \u001b[49m\u001b[43maction_space\u001b[49m\u001b[43m)\u001b[49m\n\u001b[32m    440\u001b[39m \u001b[38;5;66;03m# ==== Check the render method and the declared render modes ====\u001b[39;00m\n\u001b[32m    441\u001b[39m \u001b[38;5;28;01mif\u001b[39;00m \u001b[38;5;129;01mnot\u001b[39;00m skip_render_check:\n",
      "\u001b[36mFile \u001b[39m\u001b[32m~/opt/anaconda3/envs/exjobb/lib/python3.13/site-packages/stable_baselines3/common/env_checker.py:275\u001b[39m, in \u001b[36m_check_returned_values\u001b[39m\u001b[34m(env, observation_space, action_space)\u001b[39m\n\u001b[32m    273\u001b[39m             \u001b[38;5;28;01mraise\u001b[39;00m \u001b[38;5;167;01mAssertionError\u001b[39;00m(\u001b[33mf\u001b[39m\u001b[33m\"\u001b[39m\u001b[33mError while checking key=\u001b[39m\u001b[38;5;132;01m{\u001b[39;00mkey\u001b[38;5;132;01m}\u001b[39;00m\u001b[33m: \u001b[39m\u001b[33m\"\u001b[39m + \u001b[38;5;28mstr\u001b[39m(e)) \u001b[38;5;28;01mfrom\u001b[39;00m\u001b[38;5;250m \u001b[39m\u001b[34;01me\u001b[39;00m\n\u001b[32m    274\u001b[39m \u001b[38;5;28;01melse\u001b[39;00m:\n\u001b[32m--> \u001b[39m\u001b[32m275\u001b[39m     \u001b[43m_check_obs\u001b[49m\u001b[43m(\u001b[49m\u001b[43mobs\u001b[49m\u001b[43m,\u001b[49m\u001b[43m \u001b[49m\u001b[43mobservation_space\u001b[49m\u001b[43m,\u001b[49m\u001b[43m \u001b[49m\u001b[33;43m\"\u001b[39;49m\u001b[33;43mreset\u001b[39;49m\u001b[33;43m\"\u001b[39;49m\u001b[43m)\u001b[49m\n\u001b[32m    277\u001b[39m \u001b[38;5;66;03m# Sample a random action\u001b[39;00m\n\u001b[32m    278\u001b[39m action = action_space.sample()\n",
      "\u001b[36mFile \u001b[39m\u001b[32m~/opt/anaconda3/envs/exjobb/lib/python3.13/site-packages/stable_baselines3/common/env_checker.py:200\u001b[39m, in \u001b[36m_check_obs\u001b[39m\u001b[34m(obs, observation_space, method_name)\u001b[39m\n\u001b[32m    193\u001b[39m \u001b[38;5;28;01mif\u001b[39;00m \u001b[38;5;28misinstance\u001b[39m(obs, np.ndarray):\n\u001b[32m    194\u001b[39m     \u001b[38;5;66;03m# check obs dimensions, dtype and bounds\u001b[39;00m\n\u001b[32m    195\u001b[39m     \u001b[38;5;28;01massert\u001b[39;00m observation_space.shape == obs.shape, (\n\u001b[32m    196\u001b[39m         \u001b[33mf\u001b[39m\u001b[33m\"\u001b[39m\u001b[33mThe observation returned by the `\u001b[39m\u001b[38;5;132;01m{\u001b[39;00mmethod_name\u001b[38;5;132;01m}\u001b[39;00m\u001b[33m()` method does not match the shape \u001b[39m\u001b[33m\"\u001b[39m\n\u001b[32m    197\u001b[39m         \u001b[33mf\u001b[39m\u001b[33m\"\u001b[39m\u001b[33mof the given observation space \u001b[39m\u001b[38;5;132;01m{\u001b[39;00mobservation_space\u001b[38;5;132;01m}\u001b[39;00m\u001b[33m. \u001b[39m\u001b[33m\"\u001b[39m\n\u001b[32m    198\u001b[39m         \u001b[33mf\u001b[39m\u001b[33m\"\u001b[39m\u001b[33mExpected: \u001b[39m\u001b[38;5;132;01m{\u001b[39;00mobservation_space.shape\u001b[38;5;132;01m}\u001b[39;00m\u001b[33m, actual shape: \u001b[39m\u001b[38;5;132;01m{\u001b[39;00mobs.shape\u001b[38;5;132;01m}\u001b[39;00m\u001b[33m\"\u001b[39m\n\u001b[32m    199\u001b[39m     )\n\u001b[32m--> \u001b[39m\u001b[32m200\u001b[39m     \u001b[38;5;28;01massert\u001b[39;00m np.can_cast(obs.dtype, observation_space.dtype), (\n\u001b[32m    201\u001b[39m         \u001b[33mf\u001b[39m\u001b[33m\"\u001b[39m\u001b[33mThe observation returned by the `\u001b[39m\u001b[38;5;132;01m{\u001b[39;00mmethod_name\u001b[38;5;132;01m}\u001b[39;00m\u001b[33m()` method does not match the data type (cannot cast) \u001b[39m\u001b[33m\"\u001b[39m\n\u001b[32m    202\u001b[39m         \u001b[33mf\u001b[39m\u001b[33m\"\u001b[39m\u001b[33mof the given observation space \u001b[39m\u001b[38;5;132;01m{\u001b[39;00mobservation_space\u001b[38;5;132;01m}\u001b[39;00m\u001b[33m. \u001b[39m\u001b[33m\"\u001b[39m\n\u001b[32m    203\u001b[39m         \u001b[33mf\u001b[39m\u001b[33m\"\u001b[39m\u001b[33mExpected: \u001b[39m\u001b[38;5;132;01m{\u001b[39;00mobservation_space.dtype\u001b[38;5;132;01m}\u001b[39;00m\u001b[33m, actual dtype: \u001b[39m\u001b[38;5;132;01m{\u001b[39;00mobs.dtype\u001b[38;5;132;01m}\u001b[39;00m\u001b[33m\"\u001b[39m\n\u001b[32m    204\u001b[39m     )\n\u001b[32m    205\u001b[39m     \u001b[38;5;28;01mif\u001b[39;00m \u001b[38;5;28misinstance\u001b[39m(observation_space, spaces.Box):\n\u001b[32m    206\u001b[39m         \u001b[38;5;28;01massert\u001b[39;00m np.all(obs >= observation_space.low), (\n\u001b[32m    207\u001b[39m             \u001b[33mf\u001b[39m\u001b[33m\"\u001b[39m\u001b[33mThe observation returned by the `\u001b[39m\u001b[38;5;132;01m{\u001b[39;00mmethod_name\u001b[38;5;132;01m}\u001b[39;00m\u001b[33m()` method does not match the lower bound \u001b[39m\u001b[33m\"\u001b[39m\n\u001b[32m    208\u001b[39m             \u001b[33mf\u001b[39m\u001b[33m\"\u001b[39m\u001b[33mof the given observation space \u001b[39m\u001b[38;5;132;01m{\u001b[39;00mobservation_space\u001b[38;5;132;01m}\u001b[39;00m\u001b[33m.\u001b[39m\u001b[33m\"\u001b[39m\n\u001b[32m    209\u001b[39m             \u001b[33mf\u001b[39m\u001b[33m\"\u001b[39m\u001b[33mExpected: obs >= \u001b[39m\u001b[38;5;132;01m{\u001b[39;00mnp.min(observation_space.low)\u001b[38;5;132;01m}\u001b[39;00m\u001b[33m, \u001b[39m\u001b[33m\"\u001b[39m\n\u001b[32m    210\u001b[39m             \u001b[33mf\u001b[39m\u001b[33m\"\u001b[39m\u001b[33mactual min value: \u001b[39m\u001b[38;5;132;01m{\u001b[39;00mnp.min(obs)\u001b[38;5;132;01m}\u001b[39;00m\u001b[33m at index \u001b[39m\u001b[38;5;132;01m{\u001b[39;00mnp.argmin(obs)\u001b[38;5;132;01m}\u001b[39;00m\u001b[33m\"\u001b[39m\n\u001b[32m    211\u001b[39m         )\n",
      "\u001b[31mAssertionError\u001b[39m: The observation returned by the `reset()` method does not match the data type (cannot cast) of the given observation space Box([  0.   0.   0.   0.   0.   0.   0.   0.   0.   0.   0.   0.   0.   0.\n   0.   0.   0.   0.   0.   0.   0.   0.   0.   0.   0.   0.   0.   0.\n   0.   0.   0.   0.   0.   0.   0.   0. -inf], [ 1.  1.  1.  1.  1.  1.  1.  1.  1.  1.  1.  1.  1.  1.  1.  1.  1.  1.\n inf inf inf inf inf inf inf inf inf  1.  1.  1.  1.  1.  1.  1.  1.  1.\n inf], (37,), float32). Expected: float32, actual dtype: float64"
     ]
    }
   ],
   "source": [
    "from stable_baselines3.common.env_checker import check_env\n",
    "\n",
    "check_env(env, warn=True, skip_render_check=True)"
   ]
  },
  {
   "cell_type": "markdown",
   "metadata": {},
   "source": [
    "### Making the Agent"
   ]
  },
  {
   "cell_type": "code",
   "execution_count": 96,
   "metadata": {},
   "outputs": [
    {
     "name": "stdout",
     "output_type": "stream",
     "text": [
      "Using cpu device\n",
      "Wrapping the env with a `Monitor` wrapper\n",
      "Wrapping the env in a DummyVecEnv.\n"
     ]
    },
    {
     "name": "stderr",
     "output_type": "stream",
     "text": [
      "/Users/isabellebyman/opt/anaconda3/envs/exjobb/lib/python3.13/site-packages/stable_baselines3/common/buffers.py:229: UserWarning: This system does not have apparently enough memory to store the complete replay buffer 0.38GB > 0.32GB\n",
      "  warnings.warn(\n"
     ]
    }
   ],
   "source": [
    "n_actions = 18\n",
    "action_noise = OrnsteinUhlenbeckActionNoise(mean = np.zeros(n_actions), sigma = 0.2*np.ones(n_actions), theta = 0.01)\n",
    "model = DDPG(\"MlpPolicy\", env, action_noise=action_noise, verbose=1, batch_size=25)"
   ]
  },
  {
   "cell_type": "markdown",
   "metadata": {},
   "source": [
    "### Training the Agent"
   ]
  },
  {
   "cell_type": "code",
   "execution_count": 50,
   "metadata": {},
   "outputs": [
    {
     "name": "stdout",
     "output_type": "stream",
     "text": [
      "---------------------------------\n",
      "| rollout/           |          |\n",
      "|    ep_len_mean     | 1.3e+03  |\n",
      "|    ep_rew_mean     | -0.0114  |\n",
      "| time/              |          |\n",
      "|    episodes        | 2        |\n",
      "|    fps             | 221      |\n",
      "|    time_elapsed    | 11       |\n",
      "|    total_timesteps | 2602     |\n",
      "| train/             |          |\n",
      "|    actor_loss      | -0.337   |\n",
      "|    critic_loss     | 0.000279 |\n",
      "|    learning_rate   | 0.001    |\n",
      "|    n_updates       | 1301     |\n",
      "---------------------------------\n",
      "---------------------------------\n",
      "| rollout/           |          |\n",
      "|    ep_len_mean     | 1.3e+03  |\n",
      "|    ep_rew_mean     | -0.015   |\n",
      "| time/              |          |\n",
      "|    episodes        | 4        |\n",
      "|    fps             | 136      |\n",
      "|    time_elapsed    | 38       |\n",
      "|    total_timesteps | 5204     |\n",
      "| train/             |          |\n",
      "|    actor_loss      | -0.819   |\n",
      "|    critic_loss     | 0.000804 |\n",
      "|    learning_rate   | 0.001    |\n",
      "|    n_updates       | 3903     |\n",
      "---------------------------------\n",
      "---------------------------------\n",
      "| rollout/           |          |\n",
      "|    ep_len_mean     | 1.3e+03  |\n",
      "|    ep_rew_mean     | -0.016   |\n",
      "| time/              |          |\n",
      "|    episodes        | 6        |\n",
      "|    fps             | 122      |\n",
      "|    time_elapsed    | 63       |\n",
      "|    total_timesteps | 7806     |\n",
      "| train/             |          |\n",
      "|    actor_loss      | -0.705   |\n",
      "|    critic_loss     | 0.000517 |\n",
      "|    learning_rate   | 0.001    |\n",
      "|    n_updates       | 6505     |\n",
      "---------------------------------\n",
      "---------------------------------\n",
      "| rollout/           |          |\n",
      "|    ep_len_mean     | 1.3e+03  |\n",
      "|    ep_rew_mean     | -0.0163  |\n",
      "| time/              |          |\n",
      "|    episodes        | 8        |\n",
      "|    fps             | 121      |\n",
      "|    time_elapsed    | 85       |\n",
      "|    total_timesteps | 10408    |\n",
      "| train/             |          |\n",
      "|    actor_loss      | -0.63    |\n",
      "|    critic_loss     | 0.00029  |\n",
      "|    learning_rate   | 0.001    |\n",
      "|    n_updates       | 9107     |\n",
      "---------------------------------\n",
      "---------------------------------\n",
      "| rollout/           |          |\n",
      "|    ep_len_mean     | 1.3e+03  |\n",
      "|    ep_rew_mean     | -0.0165  |\n",
      "| time/              |          |\n",
      "|    episodes        | 10       |\n",
      "|    fps             | 116      |\n",
      "|    time_elapsed    | 111      |\n",
      "|    total_timesteps | 13010    |\n",
      "| train/             |          |\n",
      "|    actor_loss      | -1.07    |\n",
      "|    critic_loss     | 0.000971 |\n",
      "|    learning_rate   | 0.001    |\n",
      "|    n_updates       | 11709    |\n",
      "---------------------------------\n",
      "---------------------------------\n",
      "| rollout/           |          |\n",
      "|    ep_len_mean     | 1.3e+03  |\n",
      "|    ep_rew_mean     | -0.0165  |\n",
      "| time/              |          |\n",
      "|    episodes        | 12       |\n",
      "|    fps             | 113      |\n",
      "|    time_elapsed    | 138      |\n",
      "|    total_timesteps | 15612    |\n",
      "| train/             |          |\n",
      "|    actor_loss      | -1.24    |\n",
      "|    critic_loss     | 0.00126  |\n",
      "|    learning_rate   | 0.001    |\n",
      "|    n_updates       | 14311    |\n",
      "---------------------------------\n",
      "---------------------------------\n",
      "| rollout/           |          |\n",
      "|    ep_len_mean     | 1.3e+03  |\n",
      "|    ep_rew_mean     | -0.0167  |\n",
      "| time/              |          |\n",
      "|    episodes        | 14       |\n",
      "|    fps             | 110      |\n",
      "|    time_elapsed    | 164      |\n",
      "|    total_timesteps | 18214    |\n",
      "| train/             |          |\n",
      "|    actor_loss      | -1.1     |\n",
      "|    critic_loss     | 0.00107  |\n",
      "|    learning_rate   | 0.001    |\n",
      "|    n_updates       | 16913    |\n",
      "---------------------------------\n",
      "---------------------------------\n",
      "| rollout/           |          |\n",
      "|    ep_len_mean     | 1.3e+03  |\n",
      "|    ep_rew_mean     | -0.0169  |\n",
      "| time/              |          |\n",
      "|    episodes        | 16       |\n",
      "|    fps             | 108      |\n",
      "|    time_elapsed    | 191      |\n",
      "|    total_timesteps | 20816    |\n",
      "| train/             |          |\n",
      "|    actor_loss      | -0.915   |\n",
      "|    critic_loss     | 0.000587 |\n",
      "|    learning_rate   | 0.001    |\n",
      "|    n_updates       | 19515    |\n",
      "---------------------------------\n",
      "---------------------------------\n",
      "| rollout/           |          |\n",
      "|    ep_len_mean     | 1.3e+03  |\n",
      "|    ep_rew_mean     | -0.0158  |\n",
      "| time/              |          |\n",
      "|    episodes        | 18       |\n",
      "|    fps             | 107      |\n",
      "|    time_elapsed    | 218      |\n",
      "|    total_timesteps | 23418    |\n",
      "| train/             |          |\n",
      "|    actor_loss      | -1.25    |\n",
      "|    critic_loss     | 0.000913 |\n",
      "|    learning_rate   | 0.001    |\n",
      "|    n_updates       | 22117    |\n",
      "---------------------------------\n",
      "---------------------------------\n",
      "| rollout/           |          |\n",
      "|    ep_len_mean     | 1.3e+03  |\n",
      "|    ep_rew_mean     | -0.0157  |\n",
      "| time/              |          |\n",
      "|    episodes        | 20       |\n",
      "|    fps             | 105      |\n",
      "|    time_elapsed    | 245      |\n",
      "|    total_timesteps | 26020    |\n",
      "| train/             |          |\n",
      "|    actor_loss      | -2.96    |\n",
      "|    critic_loss     | 0.00969  |\n",
      "|    learning_rate   | 0.001    |\n",
      "|    n_updates       | 24719    |\n",
      "---------------------------------\n"
     ]
    }
   ],
   "source": [
    "Nruns = 10\n",
    "model.learn(total_timesteps=252*10*Nruns, log_interval=2)\n",
    "model.save(\"ddpg_fin\")"
   ]
  },
  {
   "cell_type": "markdown",
   "metadata": {},
   "source": [
    "### Run a test"
   ]
  },
  {
   "cell_type": "code",
   "execution_count": 6,
   "metadata": {},
   "outputs": [
    {
     "name": "stdout",
     "output_type": "stream",
     "text": [
      "Example action taken: [1.0000000e+00 1.0000000e+00 1.0000000e+00 1.0000000e+00 1.0000000e+00\n",
      " 1.0000000e+00 1.0000000e+00 1.0000000e+00 1.0000000e+00 1.0000000e+00\n",
      " 1.0000000e+00 1.0000000e+00 0.0000000e+00 1.0000000e+00 3.2782555e-07\n",
      " 0.0000000e+00 9.9999988e-01 1.0000000e+00]\n",
      "Episode rewards: [np.float64(-3.978088320667232e-07), np.float64(-1.1045772331429648e-06), np.float64(-3.752801815119737e-07), np.float64(-8.700192077528951e-05), np.float64(-2.3573407223427155e-05), np.float64(-5.245145491592054e-05), np.float64(-5.2535864041135106e-05), np.float64(-9.192164692609229e-06), np.float64(-2.6142828172005722e-06), np.float64(-4.464796986150893e-05), np.float64(-9.31535821883672e-06), np.float64(-1.321369723730304e-06), np.float64(-2.687284084886687e-05), np.float64(-4.01411175143987e-06), np.float64(-0.00010497287531227092), np.float64(-5.339648227063946e-06), np.float64(-4.816730624827721e-06), np.float64(-1.807711111889213e-05), np.float64(-8.647119684874006e-05), np.float64(-9.696750288752803e-06), np.float64(-7.331569956409965e-05), np.float64(-2.6131624399854447e-05), np.float64(-1.1204248573023831e-05), np.float64(-5.092567177137153e-06), np.float64(-1.1306349829631783e-05), np.float64(-1.758469106194959e-05), np.float64(-8.139079074398294e-05), np.float64(-1.0526304664933415e-07), np.float64(-2.33439581866807e-06), np.float64(-3.058136819835769e-06), np.float64(-9.591672196997458e-07), np.float64(-2.5265795938760636e-05), np.float64(-3.805481267329998e-05), np.float64(-3.0167733150716817e-05), np.float64(-1.7776742905231914e-05), np.float64(-2.0942500705921176e-05), np.float64(-1.1234970589668394e-06), np.float64(-0.0034714866857105957), np.float64(-9.396990299200353e-06), np.float64(-8.380286953690934e-05), np.float64(-1.3276760755666797e-05), np.float64(-9.684701557796288e-06), np.float64(-0.00010670362881403553), np.float64(-4.120733769504165e-06), np.float64(-3.574449225293843e-05), np.float64(-7.323711976352556e-05), np.float64(-1.1953459759899003e-05), np.float64(-7.089135073316942e-06), np.float64(-2.2921907010107913e-05), np.float64(-0.00014095767375212133), np.float64(-2.187038360988688e-05), np.float64(-1.5679133340192288e-05), np.float64(-5.454945317141422e-05), np.float64(-0.00025950130480631515), np.float64(-5.194162943394392e-05), np.float64(-1.743916364598508e-06), np.float64(-6.500502873344625e-08), np.float64(-2.1336657668116273e-05), np.float64(-9.578941412810085e-06), np.float64(-6.473433757011788e-06), np.float64(-1.6394393095430104e-05), np.float64(-0.00012565802109010764), np.float64(-0.00013607106229820238), np.float64(-9.565153341130818e-06), np.float64(-1.4850794723326994e-05), np.float64(-3.2575121646692955e-05), np.float64(-3.9489868523470234e-06), np.float64(-3.1103182166849134e-05), np.float64(-1.1864970550242537e-05), np.float64(-1.727751332418298e-05), np.float64(-5.093356914249577e-05), np.float64(-9.822070264017477e-07), np.float64(-2.3757296399487138e-07), np.float64(-8.764452425412614e-06), np.float64(-1.7791637931857913e-06), np.float64(-3.19845545938561e-05), np.float64(-1.581145912461118e-06), np.float64(-9.096741653601375e-06), np.float64(-1.5203220825663372e-06), np.float64(-1.167809920179711e-05), np.float64(-1.8266990199576557e-05), np.float64(-8.304975815902681e-06), np.float64(-4.878925948870152e-06), np.float64(-1.1065929703820997e-05), np.float64(-1.6648409567072117e-09), np.float64(-3.733112860397668e-05), np.float64(-5.078026280044353e-07), np.float64(-2.066207177568818e-05), np.float64(-8.639901208840924e-06), np.float64(-1.4726561446691467e-05), np.float64(-3.394869802194677e-06), np.float64(-3.1450378249455776e-06), np.float64(-2.7605578411939375e-05), np.float64(-2.344032636321172e-09), np.float64(-7.100062215803375e-08), np.float64(-1.5871964758676262e-07), np.float64(-2.973053516959886e-07), np.float64(-3.919510332167401e-06), np.float64(-2.1731152642698766e-05), np.float64(-2.1902043664158848e-05), np.float64(-2.3016744790044916e-05), np.float64(-5.239432485172591e-06), np.float64(-2.0210144116175405e-06), np.float64(-4.447311408360031e-08), np.float64(-4.93757585080868e-06), np.float64(-6.396737615375593e-08), np.float64(-1.2981015412209933e-05), np.float64(-8.33858174747278e-06), np.float64(-3.7954469964548855e-10), np.float64(-2.354152771970929e-06), np.float64(-3.923996372040148e-06), np.float64(-5.756666146312992e-06), np.float64(-2.4519314660938093e-05), np.float64(-1.6558512917716126e-05), np.float64(-6.340111274286738e-06), np.float64(-7.780678347084997e-08), np.float64(-1.0124522249912195e-05), np.float64(-9.751887659067304e-06), np.float64(-1.8608464826220173e-05), np.float64(-8.985760432498223e-06), np.float64(-5.762726976200718e-07), np.float64(-1.1848758078131379e-05), np.float64(-1.1100751518401457e-06), np.float64(-1.9138641389711282e-05), np.float64(-4.534653394541485e-06), np.float64(-6.787424314559085e-07), np.float64(-1.1002035527221772e-06), np.float64(-4.5636002580813074e-05), np.float64(-1.4283129316688827e-05), np.float64(-3.876888385533463e-05), np.float64(-2.63939284940759e-06), np.float64(-0.0016627958048694915), np.float64(-5.8572202183349206e-05), np.float64(-0.00014209472682975372), np.float64(-3.778145507506797e-06), np.float64(-7.919952657065608e-06), np.float64(-1.2077839619611614e-05), np.float64(-1.4104475851161269e-05), np.float64(-1.356871032498257e-05), np.float64(-1.6081630383112612e-06), np.float64(-9.326067514604356e-08), np.float64(-3.1677674306796383e-06), np.float64(-0.00011767075425060807), np.float64(-1.1140285863176257e-06), np.float64(-1.9278344698473307e-05), np.float64(-4.468135523415948e-05), np.float64(-2.1482871530275511e-07), np.float64(-5.505036599566133e-05), np.float64(-3.987990305393878e-05), np.float64(-4.26588967848514e-09), np.float64(-4.338037629159198e-07), np.float64(-1.3520311931900177e-05), np.float64(-6.1160216085444e-07), np.float64(-2.8905033532629807e-06), np.float64(-7.877248465167713e-07), np.float64(-1.664224085574642e-05), np.float64(-2.8048493762806527e-06), np.float64(-2.463215535157938e-06), np.float64(-1.1266758503321614e-06), np.float64(-1.011703404361322e-05), np.float64(-3.8196230805617665e-05), np.float64(-3.76818180786979e-05), np.float64(-1.516932122567773e-06), np.float64(-4.185878275187093e-05), np.float64(-3.051816397125745e-05), np.float64(-4.3803793034045984e-06), np.float64(-3.5851003051855026e-05), np.float64(-1.7290250462850643e-05), np.float64(-2.9888546553764587e-05), np.float64(-4.593200297607685e-06), np.float64(-5.477188375701737e-06), np.float64(-3.6915817570752413e-07), np.float64(-2.4464142329510604e-06), np.float64(-4.8872816643038716e-06), np.float64(-1.5777304978177783e-06), np.float64(-3.16747163995894e-05), np.float64(-6.0437873864453514e-05), np.float64(-9.453646566501221e-07), np.float64(-1.9690193675295144e-05), np.float64(-3.0611803843200837e-07), np.float64(-5.6465715097951105e-05), np.float64(-1.2356417189987998e-05), np.float64(-9.45645131797009e-08), np.float64(-9.63614499601371e-06), np.float64(-1.9178249243724216e-05), np.float64(-3.657566396291634e-05), np.float64(-2.2424594667568983e-06), np.float64(-1.3984469554894394e-05), np.float64(-3.273530464092243e-07), np.float64(-1.0109066599965248e-06), np.float64(-2.7035263866014477e-08), np.float64(-1.1502093155544496e-07), np.float64(-5.966250746067137e-06), np.float64(-4.290539589806464e-06), np.float64(-4.023380040552674e-08), np.float64(-1.015896545875383e-06), np.float64(-4.780176153116161e-06), np.float64(-5.001652304758129e-05), np.float64(-4.654640092426346e-06), np.float64(-3.46511468431958e-06), np.float64(-6.690732067646824e-05), np.float64(-6.398782171732479e-11), np.float64(-5.890273282267578e-06), np.float64(-4.064870920570028e-05), np.float64(-1.567979802123024e-05), np.float64(-6.563679494248895e-06), np.float64(-2.249387773052071e-06), np.float64(-4.257085463538299e-06), np.float64(-7.045093254626023e-05), np.float64(-3.077042938431143e-05), np.float64(-3.279683499035161e-05), np.float64(-0.00010163699284443186), np.float64(-1.844052048062843e-06), np.float64(-3.4272471429062454e-05), np.float64(-2.4464866642877955e-07), np.float64(-1.3892296316623723e-05), np.float64(-6.982410318529725e-06), np.float64(-1.3307130292757526e-05), np.float64(-1.9039397187956666e-05), np.float64(-1.2728065822698703e-07), np.float64(-2.3271792921194495e-05), np.float64(-5.667404137621547e-06), np.float64(-9.917494594856516e-08), np.float64(-1.2708244346986535e-05), np.float64(-5.90390132513892e-06), np.float64(-6.807888993789119e-07), np.float64(-2.0958683590381896e-08), np.float64(-1.7257356745940424e-05), np.float64(-2.81127935695306e-05), np.float64(-9.646479593657114e-08), np.float64(-5.925639174309954e-06), np.float64(-1.835099713814293e-05), np.float64(-4.9712170423141126e-06), np.float64(-5.586323826860535e-05), np.float64(-2.491097098539171e-06), np.float64(-3.4891665019961064e-05), np.float64(-6.681416342201426e-06), np.float64(-6.607721119427546e-11), np.float64(-2.0343087882328183e-06), np.float64(-9.194708469680503e-06), np.float64(-2.3650211225298525e-05), np.float64(-6.101388911542893e-06), np.float64(-3.2879005514177116e-05), np.float64(-1.1173945842052093e-05), np.float64(-2.3976482100404346e-07), np.float64(-9.02587377927141e-06), np.float64(-3.6620206193753815e-05), np.float64(-8.19961531881139e-07), np.float64(-1.2920518522383378e-06), np.float64(-4.3848593639383255e-06), np.float64(-2.3916633128037773e-06), np.float64(-4.775948393226747e-07), np.float64(-1.2050899500611169e-05), np.float64(-2.8012041519035686e-05), np.float64(-3.614029949819563e-06), np.float64(-1.3539100331095723e-06), np.float64(-9.862872370007005e-06), np.float64(-1.1149116278534984e-06), np.float64(-8.284941063474412e-07), np.float64(-1.4510106326038195e-06), np.float64(-1.5365591692765746e-05), np.float64(-2.1450947522234003e-05), np.float64(-4.862063913874786e-08), np.float64(-3.0421030636851274e-05), np.float64(-1.323151930546859e-05), np.float64(-3.6057214582297146e-05), np.float64(-1.0449764865904238e-05), np.float64(-1.297379509793355e-05), np.float64(-1.563690293558437e-05), np.float64(-2.9723189141040407e-06), np.float64(-1.0516678885681184e-05), np.float64(-5.927409534979999e-06), np.float64(-7.722911242814671e-06), np.float64(-4.197320790307589e-07), np.float64(-3.060138768363433e-05), np.float64(-2.125858876915642e-06), np.float64(-6.155480124495075e-06), np.float64(-9.707462678408853e-08), np.float64(-1.620910248780003e-05), np.float64(-3.174660301933679e-06), np.float64(-1.0631852577334102e-05), np.float64(-1.2532847030473386e-06), np.float64(-7.794020701392535e-08), np.float64(-9.238006136212907e-06), np.float64(-1.3414127077845131e-05), np.float64(-3.979149184354478e-06), np.float64(-5.504525185471716e-07), np.float64(-8.597024187136363e-06), np.float64(-2.2406875335109247e-06), np.float64(-5.522121364418169e-07), np.float64(-1.028250295754726e-07), np.float64(-8.131917370138674e-06), np.float64(-2.897000632214455e-08), np.float64(-2.0527674051406078e-06), np.float64(-1.5048225017282488e-06), np.float64(-3.236033196942036e-06), np.float64(-1.737405742853181e-06), np.float64(-4.352935912708219e-08), np.float64(-7.5850069339401005e-06), np.float64(-7.370939150119513e-08), np.float64(-8.505808648636901e-07), np.float64(-3.7497396936094485e-07), np.float64(-6.167663581954595e-09), np.float64(-1.6798239787763095e-05), np.float64(-9.289077298806507e-07), np.float64(-6.9774086088540635e-06), np.float64(-1.1785546100761071e-05), np.float64(-3.0289456886371203e-09), np.float64(-2.438836965217976e-07), np.float64(-1.195328596393553e-05), np.float64(-2.1892348984210972e-06), np.float64(-1.616107843069555e-06), np.float64(-2.918155606331497e-06), np.float64(-5.83377778602814e-06), np.float64(-4.590893283932548e-06), np.float64(-1.2589228881860383e-07), np.float64(-4.331751424971742e-08), np.float64(-7.662523064254826e-06), np.float64(-2.2283516102839365e-07), np.float64(-9.103137807712016e-06), np.float64(-2.5074934345508923e-06), np.float64(-9.209208766785551e-07), np.float64(-2.714702935555675e-06), np.float64(-2.2638294687389343e-07), np.float64(-1.315948100538164e-06), np.float64(-1.2476491353650008e-05), np.float64(-1.7035025638276517e-06), np.float64(-6.373141692056241e-08), np.float64(-3.935539024039839e-09), np.float64(-4.2796046591538916e-07), np.float64(-3.680700036174535e-05), np.float64(-1.332281858241008e-06), np.float64(-1.3755600724566207e-05), np.float64(-6.577871454844585e-07), np.float64(-1.1897863256918754e-05), np.float64(-1.9545560521803125e-07), np.float64(-7.719501028956713e-07), np.float64(-4.094390744212294e-06), np.float64(-1.9625025619563517e-09), np.float64(-3.9711370727600216e-05), np.float64(-2.814253021107151e-09), np.float64(-1.2941514851734684e-05), np.float64(-5.669680782900847e-06), np.float64(-7.813314572406571e-07), np.float64(-8.074657089605316e-06), np.float64(-4.962774999979207e-06), np.float64(-1.331847976663035e-06), np.float64(-3.093193294749321e-05), np.float64(-7.920375254824468e-06), np.float64(-1.255243489650243e-05), np.float64(-1.5467707087984785e-05), np.float64(-1.1745404532692341e-06), np.float64(-1.2473948520610538e-07), np.float64(-1.6588458796769122e-07), np.float64(-5.62352587508478e-08), np.float64(-5.391511701196752e-07), np.float64(-3.394211914464826e-06), np.float64(-2.2803960443072644e-06), np.float64(-4.7109269748950816e-05), np.float64(-5.699282266968044e-07), np.float64(-3.161245239717975e-06), np.float64(-4.828652047935329e-07), np.float64(-1.4605384957549444e-05), np.float64(-3.229352130373892e-05), np.float64(-1.1133463105762279e-06), np.float64(-8.145815616014123e-06), np.float64(-4.159657757867428e-06), np.float64(-9.006432075195696e-07), np.float64(-1.2781489842492727e-07), np.float64(-2.955560282847307e-07), np.float64(-1.0551281609745332e-05), np.float64(-5.610108632873566e-09), np.float64(-9.351732000736915e-06), np.float64(-2.3714264051256318e-06), np.float64(-1.4468649804253084e-05), np.float64(-3.5930442681913445e-06), np.float64(-9.369039139191943e-06), np.float64(-1.4365453786069804e-05), np.float64(-6.903595888796367e-06), np.float64(-1.2216373320686265e-05), np.float64(-1.9221892699121284e-05), np.float64(-1.2317088409624533e-06), np.float64(-1.1734061994162751e-05), np.float64(-1.6013264969290492e-07), np.float64(-7.22470580759851e-07), np.float64(-2.7685395977398564e-06), np.float64(-4.210338490584283e-05), np.float64(-4.570347412730029e-06), np.float64(-4.747958932163058e-06), np.float64(-1.3673394933553303e-05), np.float64(-2.0007984824870654e-05), np.float64(-5.686204701385299e-07), np.float64(-1.0675979740147378e-05), np.float64(-3.829794183419687e-06), np.float64(-1.9666385799624635e-08), np.float64(-2.989266870986592e-07), np.float64(-5.026460433649204e-06), np.float64(-5.3395317470035405e-08), np.float64(-7.579416227652845e-06), np.float64(-8.227780218347885e-07), np.float64(-1.0811428352081513e-06), np.float64(-4.585985189441907e-06), np.float64(-1.756017263966203e-05), np.float64(-1.0813393372904302e-07), np.float64(-1.8872843005434213e-06), np.float64(-1.811038192230345e-05), np.float64(-1.554314566804907e-05), np.float64(-5.717208392336825e-07), np.float64(-6.610140700003019e-06), np.float64(-4.013221285040884e-05), np.float64(-3.5682481694286644e-06), np.float64(-5.0572319977746535e-06), np.float64(-4.4932480448291655e-06), np.float64(-1.5147497399014129e-06), np.float64(-8.405646276583148e-06), np.float64(-4.155726449111315e-07), np.float64(-9.757416801489378e-06), np.float64(-1.973588485313151e-05), np.float64(-8.751234382480515e-07), np.float64(-3.139597401357281e-05), np.float64(-3.9491087504945844e-08), np.float64(-9.086766304829927e-07), np.float64(-4.725853942874342e-07), np.float64(-1.767855762318764e-05), np.float64(-2.3096940291303946e-05), np.float64(-1.04167296480784e-06), np.float64(-2.6929801718025794e-06), np.float64(-1.8091338826141284e-06), np.float64(-2.6052621966164485e-05), np.float64(-4.083724229834807e-06), np.float64(-1.0059273679556425e-09), np.float64(-1.587085897444931e-07), np.float64(-2.561085760460903e-05), np.float64(-1.0938375961927195e-05), np.float64(-6.775169936758946e-06), np.float64(-4.231461048320649e-06), np.float64(-3.158354182677064e-06), np.float64(-3.274505773218735e-07), np.float64(-1.4216115012708032e-06), np.float64(-1.474953896103334e-05), np.float64(-4.050882315643181e-08), np.float64(-4.8775968727203245e-08), np.float64(-7.18049404024741e-06), np.float64(-1.3284495739562451e-06), np.float64(-1.9117980350640643e-05), np.float64(-1.8548870978602906e-06), np.float64(-4.40043762376949e-07), np.float64(-5.919103705515294e-07), np.float64(-1.0889945852315995e-05), np.float64(-3.347538232650817e-05), np.float64(-9.683589539147448e-06), np.float64(-5.225648014523324e-07), np.float64(-1.1059922556529007e-06), np.float64(-1.4193669738351538e-06), np.float64(-9.187611617381455e-06), np.float64(-7.362119004317354e-08), np.float64(-2.032573673548649e-05), np.float64(-3.331089735111864e-06), np.float64(-3.74770118042216e-05), np.float64(-3.0218814139234163e-06), np.float64(-9.140357420662703e-06), np.float64(-2.924876119020938e-07), np.float64(-2.5530555745154405e-06), np.float64(-2.5375053145266168e-06), np.float64(-5.641762122736817e-06), np.float64(-1.0857922986474105e-05), np.float64(-7.166546881559197e-08), np.float64(-2.6116347148954083e-06), np.float64(-3.1087283005021675e-05), np.float64(-9.91659056162358e-07), np.float64(-1.5613419352858526e-06), np.float64(-5.56877664686781e-06), np.float64(-1.8112227556607432e-08), np.float64(-1.12894984680781e-06), np.float64(-4.51794032292202e-06), np.float64(-2.3099003142876657e-06), np.float64(-1.8633758580107678e-06), np.float64(-5.3288626094368855e-08), np.float64(-7.24390168057574e-06), np.float64(-4.6478083459610706e-06), np.float64(-2.316966243013041e-06), np.float64(-2.6016275836053817e-06), np.float64(-5.817641705459633e-07), np.float64(-1.783238268553775e-06), np.float64(-7.1400816003472e-06), np.float64(-1.3240921870722365e-05), np.float64(-8.176759176170568e-07), np.float64(-3.877756586446355e-06), np.float64(-3.424820871775837e-07), np.float64(-1.318765751342235e-06), np.float64(-6.088334239289178e-06), np.float64(-4.908813135010581e-06), np.float64(-1.0141788181869793e-06), np.float64(-7.030718197702565e-07), np.float64(-6.473627083361184e-06), np.float64(-2.935848102830238e-06), np.float64(-7.032377235164841e-08), np.float64(-1.6414267992340844e-07), np.float64(-3.7390396077477706e-07), np.float64(-1.405652247976008e-06), np.float64(-1.6435072041824186e-06), np.float64(-1.375562489606011e-07), np.float64(-1.4089595784592153e-05), np.float64(-6.863619120255478e-06), np.float64(-1.3863680862517683e-05), np.float64(-1.088388655188391e-05), np.float64(-3.0632071540949436e-06), np.float64(-1.401131020306031e-05), np.float64(-1.3946358332023508e-05), np.float64(-3.5726931961439856e-07), np.float64(-1.1516294647311242e-06), np.float64(-7.809124759258908e-06), np.float64(-7.023861010494196e-06), np.float64(-1.1454716612079067e-06), np.float64(-1.57161526143664e-10), np.float64(-1.6135102152228641e-07), np.float64(-4.481560451414105e-08), np.float64(-1.8056519025064824e-06), np.float64(-1.136796120528381e-05), np.float64(-5.611458504406932e-09), np.float64(-1.8607489598497194e-06), np.float64(-5.614756036613939e-06), np.float64(-2.7182068391662394e-09), np.float64(-4.4041646131748475e-06), np.float64(-4.3425267046060734e-09), np.float64(-2.4831293245294854e-06), np.float64(-1.7246595268214861e-06), np.float64(-1.5194280821539622e-11), np.float64(-1.5073643663103718e-06), np.float64(-9.624172193681748e-06), np.float64(-6.208117424939712e-06), np.float64(-7.790784666430406e-06), np.float64(-3.25378938812524e-06), np.float64(-9.390721072457135e-06), np.float64(-1.9134526560936253e-06), np.float64(-1.0219577367149187e-05), np.float64(-1.8189991106631207e-09), np.float64(-9.643628706004405e-08), np.float64(-1.6449600752031907e-07), np.float64(-7.707456474959465e-05), np.float64(-2.761908819467815e-06), np.float64(-2.8545578260416853e-06), np.float64(-2.433091120837763e-05), np.float64(-3.3600124098852863e-06), np.float64(-5.8976939742095075e-06), np.float64(-7.876694955166776e-09), np.float64(-3.190981622867732e-06), np.float64(-1.4416887960335859e-05), np.float64(-1.1355209669305901e-05), np.float64(-4.764007286394249e-06), np.float64(-2.1609828169839076e-06), np.float64(-4.937594241242039e-07), np.float64(-7.381984293559056e-07), np.float64(-2.209514133433298e-05), np.float64(-2.4522514505115433e-07), np.float64(-5.328694622722599e-08), np.float64(-5.287285846087641e-06), np.float64(-8.743003222577691e-07), np.float64(-1.336232819485186e-06), np.float64(-1.2457944001270995e-05), np.float64(-8.842933585530844e-06), np.float64(-1.828425166602061e-05), np.float64(-7.73287166703796e-06), np.float64(-1.7730170576573452e-06), np.float64(-5.596022742093975e-06), np.float64(-7.674860313108764e-06), np.float64(-1.3337551782905641e-05), np.float64(-5.695241856244926e-07), np.float64(-1.9814809151191342e-06), np.float64(-9.334039009406727e-06), np.float64(-5.9517866296838275e-06), np.float64(-1.0061303658382917e-06), np.float64(-1.1180225264246436e-06), np.float64(-1.4171757605673064e-06), np.float64(-4.2355625021855854e-08), np.float64(-3.778645724272239e-06), np.float64(-1.2238350179873768e-05), np.float64(-5.736166481327132e-07), np.float64(-3.382458604673084e-06), np.float64(-2.5653033913784907e-06), np.float64(-1.2594773293041027e-08), np.float64(-1.868927387313391e-06), np.float64(-2.216307460821435e-06), np.float64(-6.889727835560957e-09), np.float64(-8.262986449064413e-09), np.float64(-1.2086535477569304e-06), np.float64(-6.896416469877882e-08), np.float64(-1.5740252789740706e-06), np.float64(-1.8078617443545216e-07), np.float64(-2.179839138248665e-06), np.float64(-2.371105335329154e-07), np.float64(-5.219885224630952e-06), np.float64(-1.577900791959097e-07), np.float64(-2.636305138824282e-06), np.float64(-1.9670401999756115e-06), np.float64(-6.475075145644052e-09), np.float64(-1.2089345610635604e-06), np.float64(-3.0849169038072824e-06), np.float64(-4.2133108262157404e-07), np.float64(-1.6656826668554935e-13), np.float64(-5.022225182131786e-06), np.float64(-1.9209390390551837e-06), np.float64(-8.90930305498855e-07), np.float64(-1.2810311239021072e-07), np.float64(-4.84024489566899e-07), np.float64(-4.4466113845120615e-07), np.float64(-3.978542212201345e-07), np.float64(-3.0110220038456124e-06), np.float64(-1.0917247572726243e-06), np.float64(-2.0839489267498874e-08), np.float64(-1.2332907335892866e-06), np.float64(-1.6630171965424813e-06), np.float64(-1.0720823350712497e-06), np.float64(-6.175202616842455e-08), np.float64(-4.3489302282550754e-06), np.float64(-1.973870461968683e-08), np.float64(-3.9240515909839204e-06), np.float64(-3.104579635143092e-06), np.float64(-4.989328206323383e-07), np.float64(-3.4366929689275595e-06), np.float64(-1.790206792219218e-07), np.float64(-1.4741127607342796e-09), np.float64(-9.324843055378729e-10), np.float64(-5.521218949532758e-06), np.float64(-6.863278516242866e-07), np.float64(-1.1669615142471927e-06), np.float64(-4.794897849925939e-07), np.float64(-2.2059687030896533e-07), np.float64(-1.2433968423912405e-07), np.float64(-1.1629215455192276e-06), np.float64(-1.2339656522915287e-07), np.float64(-1.0707014876933563e-07), np.float64(-4.02872185818849e-06), np.float64(-4.05935549504908e-06), np.float64(-1.4102506509825224e-06), np.float64(-1.1281463436662172e-06), np.float64(-2.619745035914629e-05), np.float64(-5.0430124873863836e-08), np.float64(-1.379721741532354e-07), np.float64(-3.93372180333932e-07), np.float64(-1.0135403237653221e-05), np.float64(-4.917754651282147e-08), np.float64(-7.1351601888938534e-06), np.float64(-7.595962854246236e-05), np.float64(-3.377390705580232e-08), np.float64(-8.399322073531451e-07), np.float64(-6.525146672061648e-06), np.float64(-1.0949429261530751e-06), np.float64(-2.7219868094888285e-06), np.float64(-4.698998708672384e-08), np.float64(-2.1781413431874388e-07), np.float64(-4.890373874295163e-06), np.float64(-2.526228385723249e-06), np.float64(-1.7450474897559083e-06), np.float64(-2.339207563283277e-06), np.float64(-1.9445076445285927e-07), np.float64(-5.956417283240046e-07), np.float64(-7.804202398286875e-10), np.float64(-9.732898095805637e-08), np.float64(-2.816973607464414e-06), np.float64(-4.4350082935504456e-07), np.float64(-2.4823674074581535e-07), np.float64(-2.0575994688502447e-06), np.float64(-4.92893302716697e-07), np.float64(-8.035908099949743e-07), np.float64(-5.046708747363394e-06), np.float64(-8.26801669788728e-08), np.float64(-1.2320363875579469e-05), np.float64(-9.034256732156258e-08), np.float64(-1.4043867780868045e-05), np.float64(-5.4275584259710375e-06), np.float64(-1.092713532273205e-08), np.float64(-1.4933697107759455e-06), np.float64(-4.053971259934557e-05), np.float64(-1.513834926489144e-07), np.float64(-5.308920134595277e-06), np.float64(-3.2239830528569355e-06), np.float64(-1.6872448343402403e-06), np.float64(-4.074690408289944e-05), np.float64(-2.435058898808071e-06), np.float64(-1.916863388047999e-05), np.float64(-2.4486464058608083e-08), np.float64(-1.6532076968025476e-05), np.float64(-1.0358107987304534e-07), np.float64(-1.11463667253216e-05), np.float64(-1.577545364072914e-07), np.float64(-1.299301573542417e-05), np.float64(-1.0443693497060887e-05), np.float64(-4.234118414852283e-06), np.float64(-3.3163643781542314e-06), np.float64(-2.333437428582052e-06), np.float64(-1.7831884443168638e-05), np.float64(-9.931702204298076e-06), np.float64(-8.776990964162109e-07), np.float64(-6.274137415472482e-07), np.float64(-2.0706873407490552e-05), np.float64(-1.8306452284234464e-07), np.float64(-1.6799930137100912e-05), np.float64(-5.37067018225925e-06), np.float64(-6.219602515597466e-07), np.float64(-2.2625197098171803e-06), np.float64(-1.7639471487930724e-05), np.float64(-2.2860840540532017e-06), np.float64(-2.1698358356152267e-06), np.float64(-3.7536735134592506e-07), np.float64(-6.340648299730335e-06), np.float64(-1.3541534358231664e-06), np.float64(-1.452162039913803e-06), np.float64(-3.757296055327917e-06), np.float64(-3.975366574063133e-13), np.float64(-2.4341168320318283e-06), np.float64(-6.740476165227502e-06), np.float64(-4.458709181330597e-06), np.float64(-9.978853759129433e-07), np.float64(-4.249089727840665e-06), np.float64(-3.3533015876485885e-06), np.float64(-6.14219197083968e-07), np.float64(-1.9260098862040862e-07), np.float64(-9.191808687151087e-07), np.float64(-1.5538612447802415e-06), np.float64(-4.578197922038699e-06), np.float64(-1.3022576054288331e-05), np.float64(-1.0622443741503568e-07), np.float64(-4.1256876395011766e-07), np.float64(-1.3901057469362104e-06), np.float64(-1.9680662152348642e-06), np.float64(-9.063584810763459e-08), np.float64(-1.3843382944411447e-06), np.float64(-4.434166673378732e-06), np.float64(-1.6634863161981156e-07), np.float64(-1.7471077907774298e-06), np.float64(-8.66598488352721e-09), np.float64(-2.5075453199523245e-06), np.float64(-3.0616967097734763e-06), np.float64(-3.7080124460389935e-06), np.float64(-7.693549147622338e-08), np.float64(-1.7988342498307795e-06), np.float64(-2.2713734270865285e-06), np.float64(-1.7623843201814006e-07), np.float64(-4.266714123594661e-06), np.float64(-1.5059163161069057e-08), np.float64(-4.1245016926631596e-10), np.float64(-1.867619941445803e-10), np.float64(-2.7123267171643757e-06), np.float64(-1.8439316327145153e-06), np.float64(-1.1296146411204535e-08), np.float64(-6.08813907073442e-08), np.float64(-1.587241077185543e-08), np.float64(-1.56871510384045e-06), np.float64(-7.554403908688656e-07), np.float64(-4.263271598216015e-06), np.float64(-5.746138164155693e-09), np.float64(-1.9554427976022117e-05), np.float64(-4.367632610482435e-07), np.float64(-3.09274025658891e-09), np.float64(-1.586532536017253e-05), np.float64(-1.1145540015850217e-06), np.float64(-6.296173570778877e-06), np.float64(-5.4231510720443296e-09), np.float64(-2.177443557189454e-06), np.float64(-1.198266243897089e-06), np.float64(-1.3873119321869652e-05), np.float64(-1.3443917997877997e-05), np.float64(-1.3566349650560223e-06), np.float64(-2.0208633378387827e-07), np.float64(-3.98388618766154e-06), np.float64(-1.6467433618975027e-07), np.float64(-1.8054811760021978e-05), np.float64(-2.4644261415422583e-07), np.float64(-1.3625757412897269e-06), np.float64(-2.567779145997422e-06), np.float64(-4.022498308002787e-06), np.float64(-1.6249348463498352e-07), np.float64(-4.3630365711150976e-06), np.float64(-2.7885141949725566e-06), np.float64(-1.161437290454132e-06), np.float64(-1.280322999992893e-06), np.float64(-2.2129756516795405e-10), np.float64(-4.781106009480944e-06), np.float64(-1.007257048979613e-06), np.float64(-1.0328397916888763e-05), np.float64(-1.4230602968522798e-06), np.float64(-0.0008863223363226178), np.float64(-7.345678109850884e-06), np.float64(-7.477572988122449e-07), np.float64(-4.925388633866392e-09), np.float64(-7.15469174825449e-06), np.float64(-2.2673732141736487e-07), np.float64(-2.0852190416815234e-06), np.float64(-4.084391684321854e-06), np.float64(-3.248843247914708e-08), np.float64(-2.5736922059824985e-06), np.float64(-7.174538904152775e-07), np.float64(-3.8257316923103647e-07), np.float64(-2.4959880776215585e-06), np.float64(-4.5468508934719304e-06), np.float64(-1.0473869928199708e-05), np.float64(-1.514162393398198e-05), np.float64(-5.149577077600366e-07), np.float64(-2.2747017362405534e-07), np.float64(-1.160583838868328e-07), np.float64(-2.1540649263727167e-08), np.float64(-1.1570932620355987e-08), np.float64(-1.3517269810099506e-06), np.float64(-5.7272014738216835e-06), np.float64(-1.853338492070027e-06), np.float64(-1.98599340014819e-06), np.float64(-1.4505939275232737e-06), np.float64(-7.012826179070498e-07), np.float64(-8.57746982462709e-08), np.float64(-1.1458707000002353e-07), np.float64(-6.890668560102097e-07), np.float64(-9.780873178251353e-06), np.float64(-3.664819299109714e-07), np.float64(-7.7326356268245e-06), np.float64(-1.5458739689282626e-07), np.float64(-2.8124722169367785e-10), np.float64(-1.4633004573209392e-06), np.float64(-1.7173178809229933e-06), np.float64(-9.342731639432531e-07), np.float64(-6.904338301846666e-07), np.float64(-3.7967044171993465e-09), np.float64(-1.7368508592127423e-06), np.float64(-4.2192385252697097e-07), np.float64(-1.4649910632285522e-06), np.float64(-1.0304803666729347e-06), np.float64(-1.0770724499338412e-07), np.float64(-8.835314659964652e-07), np.float64(-9.867052505034006e-07), np.float64(-1.742052904249563e-06), np.float64(-2.0678415739391374e-09), np.float64(-4.881156422281449e-06), np.float64(-1.1153813348659518e-08), np.float64(-1.8930743734699437e-07), np.float64(-1.2861757106885724e-06), np.float64(-8.547098028608379e-07), np.float64(-3.2020731581919874e-07), np.float64(-2.1934254939671178e-07), np.float64(-5.488256848891667e-07), np.float64(-1.3705375368871555e-06), np.float64(-1.8256479224337923e-05), np.float64(-7.827240578679886e-07), np.float64(-6.577772665810841e-08), np.float64(-3.863230677546843e-08), np.float64(-4.1786869759043205e-06), np.float64(-6.788188766927804e-09), np.float64(-3.4559407906527322e-06), np.float64(-6.808455008325105e-09), np.float64(-3.384937380266695e-08), np.float64(-3.872306863173385e-07), np.float64(-1.0422081534481077e-06), np.float64(-6.381117449917855e-08), np.float64(-9.30279546814282e-07), np.float64(-4.783407691809396e-07), np.float64(-5.07272855830571e-06), np.float64(-2.4235688561993052e-06), np.float64(-2.3055721997185813e-06), np.float64(-4.800125007426891e-06), np.float64(-2.0045716887977518e-10), np.float64(-1.283820180685131e-06), np.float64(-6.309223248145285e-07), np.float64(-6.645667070199961e-07), np.float64(-3.058324042361924e-08), np.float64(-2.3435270558522702e-07), np.float64(-7.127173086024869e-07), np.float64(-1.93200294988188e-07), np.float64(-5.123266745810934e-06), np.float64(-2.6083883784499426e-07), np.float64(-4.897696884894438e-08), np.float64(-3.3534199077374595e-08), np.float64(-1.292712967847471e-06), np.float64(-3.5929326594942586e-07), np.float64(-7.458783891442134e-13), np.float64(-5.049917389836685e-07), np.float64(-7.005073986472307e-08), np.float64(-4.9315721843275996e-06), np.float64(-3.4082432264533635e-06), np.float64(-7.3756661873335275e-06), np.float64(-4.192460932708765e-06), np.float64(-2.080570312318652e-07), np.float64(-3.1859668125547126e-08), np.float64(-4.545488921768398e-06), np.float64(-8.967829346084705e-07), np.float64(-9.745396995849974e-07), np.float64(-1.3850781843226645e-05), np.float64(-7.104694575095495e-06), np.float64(-1.9825733418675176e-06), np.float64(-1.6082637532920827e-07), np.float64(-4.134283742209465e-06), np.float64(-1.511718140789391e-08), np.float64(-5.103551028566765e-06), np.float64(-1.0842030653998888e-06), np.float64(-2.4438675717204703e-05), np.float64(-3.0704465548064427e-06), np.float64(-4.0669876444883635e-06), np.float64(-3.66526188818155e-07), np.float64(-5.015128152385906e-06), np.float64(-2.476106197251895e-07), np.float64(-1.605514287102059e-05), np.float64(-3.438380820247414e-07), np.float64(-2.778465063602591e-06), np.float64(-8.999025728957854e-06), np.float64(-1.4677037918380325e-11), np.float64(-4.0435027229089306e-05), np.float64(-1.332836373154476e-06), np.float64(-2.710025448432642e-07), np.float64(-1.8262923819807974e-05), np.float64(-2.219510866943117e-06), np.float64(-1.2816199417325629e-07), np.float64(-8.624598458837424e-06), np.float64(-7.058321706369027e-07), np.float64(-7.642760907698745e-07), np.float64(-2.5028270478062302e-05), np.float64(-0.00023112228588770592), np.float64(-1.448541340723041e-07), np.float64(-3.969620175838925e-06), np.float64(-1.9356318238221595e-06), np.float64(-5.231931264690127e-07), np.float64(-7.63541469051924e-06), np.float64(-1.6601174896120436e-06), np.float64(-4.9266439696042734e-06), np.float64(-3.6230940862094027e-06), np.float64(-4.432273580888575e-10), np.float64(-5.948890922539291e-07), np.float64(-2.411045867351022e-08), np.float64(-1.8742056793886256e-06), np.float64(-4.615745328756635e-06), np.float64(-5.842521722085451e-07), np.float64(-2.1910839693174298e-08), np.float64(-1.6828871430652222e-06), np.float64(-9.419284467994059e-07), np.float64(-5.710175239802727e-09), np.float64(-1.1096001460121086e-06), np.float64(-2.6357373362156062e-06), np.float64(-5.346430656208967e-10), np.float64(-4.336640992542917e-06), np.float64(-1.399966972899794e-07), np.float64(-7.86753958019633e-08), np.float64(-3.1444806685566877e-06), np.float64(-3.602041132521399e-07), np.float64(-5.485186741921505e-10), np.float64(-2.572970850675173e-09), np.float64(-2.7704869486164795e-07), np.float64(-6.524520161163898e-07), np.float64(-5.100279357714536e-07), np.float64(-1.8509262326345113e-07), np.float64(-3.694230553737697e-07), np.float64(-2.6768991791265173e-06), np.float64(-4.285149426193136e-08), np.float64(-1.9213847028429328e-08), np.float64(-2.7122331338949594e-07), np.float64(-9.17548851241915e-07), np.float64(-6.752828826163626e-08), np.float64(-8.994304065520386e-08), np.float64(-1.2776478120433403e-07), np.float64(-1.1029006389619506e-06), np.float64(-2.0610775124978112e-06), np.float64(-2.5983233564249383e-07), np.float64(-8.731350890554049e-07), np.float64(-4.0338201207173495e-07), np.float64(-5.65144266773647e-08), np.float64(-2.736861519207953e-07), np.float64(-1.4230295292913103e-06), np.float64(-3.0348819009833986e-07), np.float64(-2.1723126479234336e-07), np.float64(-8.015004222690904e-07), np.float64(-7.401630583120232e-07), np.float64(-2.127764262254921e-07), np.float64(-3.305005414911178e-07), np.float64(-2.1862490987231982e-07), np.float64(-3.321640569420181e-08), np.float64(-3.253647930316599e-09), np.float64(-1.0673041096858917e-07), np.float64(-1.2432903088947446e-07), np.float64(-5.439601881744491e-07), np.float64(-2.91868777092665e-07), np.float64(-1.8006975105549312e-07), np.float64(-1.257638019125595e-08), np.float64(-1.676317887000589e-08), np.float64(-8.708543133468437e-08), np.float64(-8.875817762058969e-08), np.float64(-5.775102053391236e-10), np.float64(-2.8699339439968714e-07), np.float64(-3.956336654421443e-07), np.float64(-5.130112579462231e-07), np.float64(-1.773347354955806e-08), np.float64(-1.025393617412649e-06), np.float64(-2.4002625812264527e-08), np.float64(-9.229058278199099e-08), np.float64(-1.9280824066817356e-08), np.float64(-6.232611598036216e-08), np.float64(-4.744691961869633e-10), np.float64(-4.383777078514758e-09), np.float64(-6.391321115798668e-10), np.float64(-1.0859881506702247e-09), np.float64(-6.892632735340903e-08), np.float64(-2.255910791918803e-07), np.float64(-4.056019239492868e-09), np.float64(-2.178812242875076e-07), np.float64(-9.886829612048966e-10), np.float64(-7.322503129474162e-08), np.float64(-8.512901043037104e-08), np.float64(-3.6013109833688226e-09), np.float64(-2.127874085104742e-08), np.float64(-1.7543702563469354e-08), np.float64(-2.107345627925965e-09), np.float64(-5.77246079450628e-08), np.float64(-6.511210669354807e-08), np.float64(-5.954138925437746e-09), np.float64(-4.2724064793441986e-08), np.float64(-1.7704458754861335e-08), np.float64(-6.296146406434588e-09), np.float64(-1.7475070827064405e-08), np.float64(-3.72345453696112e-08), np.float64(-1.4614023770606304e-09), np.float64(-4.338789108386066e-11), np.float64(-9.634387951586229e-10), np.float64(-1.1864967468874403e-09), np.float64(-1.1527351594134528e-08), np.float64(-2.033213918818767e-08), np.float64(-6.451381167196804e-11), np.float64(-1.1614565892773668e-08), np.float64(-5.561230861602556e-09), np.float64(-1.319631578094337e-09), np.float64(-1.701472039527562e-08), np.float64(-3.0211260297684e-08), np.float64(-1.4292944401141934e-09), np.float64(-3.9177960790845325e-12), np.float64(-6.864955518271648e-10), np.float64(-1.217665248840583e-08), np.float64(-2.1725201855060013e-08), np.float64(-3.123491879528836e-09), np.float64(-5.88395958448377e-09), np.float64(-4.051737897940215e-09), np.float64(-9.899582503563024e-09), np.float64(-8.989168465005332e-08), np.float64(-9.293440564937549e-11), np.float64(-1.3712133203954223e-08), np.float64(-6.677784309257516e-08), np.float64(-8.370910778189374e-09), np.float64(-2.4319351516661257e-09), np.float64(-2.74313905816984e-08), np.float64(-1.0134986555830697e-09), np.float64(-1.1580046560633383e-09), np.float64(-2.5337759244428387e-09), np.float64(-2.475468679771282e-09), np.float64(-1.5184376789441145e-08), np.float64(-1.4729356848178693e-08), np.float64(-1.4548451888755657e-09), np.float64(-1.5152114153040363e-08), np.float64(-2.1777405097986678e-08), np.float64(-5.140542214484599e-09), np.float64(-1.089529540440262e-08), np.float64(-4.561021532688514e-09), np.float64(-7.349191394987212e-09), np.float64(-9.743482897543545e-08), np.float64(-3.113266892325432e-08), np.float64(-9.380020746664423e-09), np.float64(-5.443792823840739e-09), np.float64(-3.3616334311682945e-09), np.float64(-2.462307732616878e-08), np.float64(-4.4807361202023876e-10), np.float64(-1.7763007873990132e-08), np.float64(-4.882356149183905e-10), np.float64(-2.806392135770119e-09), np.float64(-1.2944107262458763e-10), np.float64(-4.9778903336186157e-08), np.float64(-1.250635162620849e-09), np.float64(-6.599980284643875e-09), np.float64(-3.488672640613938e-08), np.float64(-1.973000732424528e-08), np.float64(-2.0017091475104053e-07), np.float64(-2.8795750755991806e-08), np.float64(-1.6546581743102565e-08), np.float64(-7.31575668464364e-08), np.float64(-7.978744758642375e-09), np.float64(-7.65278387629698e-08), np.float64(-2.1208943555432826e-08), np.float64(-1.2897879550633034e-08), np.float64(-1.037838856791859e-08), np.float64(-3.845191568484606e-09), np.float64(-6.845890159082195e-09), np.float64(-5.203620854917618e-09), np.float64(-3.550566261184087e-10), np.float64(-2.622219233190665e-08), np.float64(-1.5615678189453635e-08), np.float64(-5.205791397633539e-10), np.float64(-4.3405607376546064e-08), np.float64(-4.6598156514893145e-08), np.float64(-9.53030646135047e-09), np.float64(-3.0788111922661015e-08), np.float64(-1.7208211859163755e-08), np.float64(-5.592318585979795e-08), np.float64(-2.3345671453977334e-08), np.float64(-3.38072795221771e-08), np.float64(-4.623515072863802e-08), np.float64(-2.5674738161350362e-08), np.float64(-3.946721856874864e-08), np.float64(-2.8877170327276338e-08), np.float64(-3.24146234796998e-08), np.float64(-2.654934513664447e-08), np.float64(-3.2711537310583685e-08), np.float64(-5.1833125086452353e-08), np.float64(-4.497013892052571e-09), np.float64(-2.6687578862005586e-08), np.float64(-1.729471525206044e-09), np.float64(-1.7523440614258234e-08), np.float64(-3.3663169416636646e-08), np.float64(-1.9635350619285864e-08), np.float64(-5.043461599635996e-10), np.float64(-1.1239876472930601e-08), np.float64(-6.457066904729154e-10), np.float64(-9.344790177756549e-09), np.float64(-1.8745145445094502e-08), np.float64(-6.824606308055957e-08), np.float64(-6.728685175347195e-10), np.float64(-1.0136618408767278e-12), np.float64(-4.15106671360102e-09), np.float64(-1.4536553272359098e-09), np.float64(-1.5511888563191933e-08), np.float64(-1.128831649390924e-08), np.float64(-8.85644674645724e-09), np.float64(-6.336928693307582e-08), np.float64(-5.079420139319002e-09), np.float64(-2.2978212810875483e-09), np.float64(-6.856106393137409e-08), np.float64(-4.834218120666879e-09), np.float64(-9.68622383297141e-09), np.float64(-1.5932044318974457e-08), np.float64(-1.7262509147882635e-08), np.float64(-1.4315873162068927e-07), np.float64(-6.210381559158926e-10), np.float64(-1.3242608928468544e-10), np.float64(-1.3711124579890251e-09), np.float64(-2.1815009771732523e-09), np.float64(-1.0680380115284825e-09), np.float64(-1.1304410162662362e-11), np.float64(-1.4377047533666854e-10), np.float64(-1.1629001416587566e-09), np.float64(-1.9142535960810587e-08), np.float64(-7.902905922498966e-09), np.float64(-2.1435594981966613e-09), np.float64(-1.1389506724475259e-09), np.float64(-5.407972068198888e-09), np.float64(-6.226371545088389e-10), np.float64(-3.514167535360009e-08), np.float64(-4.947920831403284e-10), np.float64(-2.6353637717309705e-09), np.float64(-1.4551781481885913e-09), np.float64(-3.45446114848222e-09), np.float64(-6.043813746956647e-10), np.float64(-7.924776430912496e-10), np.float64(-5.4430044254183934e-09), np.float64(-2.716475656753746e-11), np.float64(-2.029946303085418e-09), np.float64(-9.6505349488913e-09), np.float64(-2.058328914182293e-09), np.float64(-3.656738803737149e-09), np.float64(-2.093871567917739e-09), np.float64(-1.6515548652387992e-09), np.float64(-4.117753030660655e-09), np.float64(-1.9688261024442318e-08), np.float64(-1.1684105015007898e-09), np.float64(-2.6153615239539114e-09), np.float64(-3.2912643108004176e-09), np.float64(-1.7371392202761092e-08), np.float64(-1.7431971245245362e-10), np.float64(-1.1647543897267115e-10), np.float64(-1.526758297898794e-08), np.float64(-4.201775751096565e-09), np.float64(-1.1476730295358457e-08), np.float64(-2.250784642006999e-09), np.float64(-0.0), np.float64(-0.0), np.float64(-0.0), np.float64(-0.0), np.float64(-0.0), np.float64(-0.0), np.float64(-0.0), np.float64(-0.0), np.float64(-0.0), np.float64(-0.0), np.float64(-0.0), np.float64(-0.0), np.float64(-0.0), np.float64(-0.0), np.float64(-0.0), np.float64(-0.0), np.float64(-0.0), np.float64(-0.0), np.float64(-0.0), np.float64(-0.0), np.float64(-0.0), np.float64(-0.0), np.float64(-0.0), np.float64(-0.0), np.float64(-0.0), np.float64(-0.0), np.float64(-0.0), np.float64(-0.0), np.float64(-0.0), np.float64(-0.0), np.float64(-0.0), np.float64(-0.0), np.float64(-0.0), np.float64(-0.0), np.float64(-0.0), np.float64(-0.0), np.float64(-0.0), np.float64(-0.0), np.float64(-0.0), np.float64(-0.0), np.float64(-0.0), np.float64(-0.0), np.float64(-0.0), np.float64(-0.0), np.float64(-0.0), np.float64(-0.0), np.float64(-0.0), np.float64(-0.0), np.float64(-0.0), np.float64(-0.0), np.float64(-0.0), np.float64(-0.0), np.float64(-0.0), np.float64(-0.0), np.float64(-0.0), np.float64(-0.0), np.float64(-0.0), np.float64(-0.0), np.float64(-0.0), np.float64(-0.0), np.float64(-0.0), np.float64(-0.0), np.float64(-0.0), np.float64(-0.0), np.float64(-0.0), np.float64(-0.0), np.float64(-0.0), np.float64(-0.0), np.float64(-0.0), np.float64(-0.0), np.float64(-0.0), np.float64(-0.0), np.float64(-0.0), np.float64(-0.0), np.float64(-0.0), np.float64(-0.0), np.float64(-0.0), np.float64(-0.0), np.float64(-0.0), np.float64(-0.0), np.float64(-0.0), np.float64(-0.0), np.float64(-0.0), np.float64(-0.0), np.float64(-0.0), np.float64(-0.0), np.float64(-0.0), np.float64(-0.0), np.float64(-0.0), np.float64(-0.0), np.float64(-0.0), np.float64(-0.0), np.float64(-0.0), np.float64(-0.0), np.float64(-0.0), np.float64(-0.0), np.float64(-0.0), np.float64(-0.0), np.float64(-0.0), np.float64(-0.0), np.float64(-0.0), np.float64(-0.0), np.float64(-0.0), np.float64(-0.0), np.float64(-0.0), np.float64(-0.0), np.float64(-0.0), np.float64(-0.0), np.float64(-0.0), np.float64(-0.0), np.float64(-0.0), np.float64(-0.0), np.float64(-0.0), np.float64(-0.0), np.float64(-0.0), np.float64(-0.0), np.float64(-0.0), np.float64(-0.0), np.float64(-0.0), np.float64(-0.0), np.float64(-0.0), np.float64(-0.0), np.float64(-0.0), np.float64(-0.0), np.float64(-0.0), np.float64(-0.0), np.float64(-0.0), np.float64(-0.0), np.float64(-0.0)]\n"
     ]
    }
   ],
   "source": [
    "from gymnasium.wrappers import RecordEpisodeStatistics, RecordVideo\n",
    "num_eval_episodes = 1\n",
    "\n",
    "episode_over = False\n",
    "rewards = list()\n",
    "actions = list()\n",
    "pnl = list()\n",
    "obs, info = env.reset()\n",
    "while not episode_over:\n",
    "    action, _states = model.predict(obs, deterministic=True)  # replace with actual agent\n",
    "    obs, reward, terminated, truncated, info = env.step(action)\n",
    "    rewards.append(reward)\n",
    "    actions.append(action)\n",
    "    pnl.append(info['P&L'])\n",
    "    episode_over = terminated or truncated\n",
    "env.close()\n",
    "\n",
    "print(f'Example action taken: {actions[0]}')\n",
    "print(f'Episode rewards: {rewards}')"
   ]
  },
  {
   "cell_type": "code",
   "execution_count": 51,
   "metadata": {},
   "outputs": [],
   "source": [
    "num_eval_episodes = 10\n",
    "\n",
    "rewards_tot = list()\n",
    "actions_tot = list()\n",
    "pnl_tot = list()\n",
    "obs, info = env.reset()\n",
    "for i in range(num_eval_episodes):\n",
    "    episode_over = False\n",
    "    rewards = list()\n",
    "    actions = list()\n",
    "    pnl = list()\n",
    "    obs, info = env.reset()\n",
    "    while not episode_over:\n",
    "        action, _states = model.predict(obs, deterministic=False)  # replace with actual agent\n",
    "        obs, reward, terminated, truncated, info = env.step(action)\n",
    "        rewards.append(reward)\n",
    "        actions.append(action)\n",
    "        pnl.append(info['P&L'])\n",
    "        episode_over = terminated or truncated\n",
    "    env.close()\n",
    "    rewards_tot.append(rewards)\n",
    "    actions_tot.append(actions)\n",
    "    pnl_tot.append(pnl)"
   ]
  },
  {
   "cell_type": "code",
   "execution_count": 55,
   "metadata": {},
   "outputs": [
    {
     "data": {
      "text/plain": [
       "[<matplotlib.lines.Line2D at 0x363d1f610>]"
      ]
     },
     "execution_count": 55,
     "metadata": {},
     "output_type": "execute_result"
    },
    {
     "data": {
      "image/png": "[encoded data removed]",
      "text/plain": [
       "<Figure size 640x480 with 1 Axes>"
      ]
     },
     "metadata": {},
     "output_type": "display_data"
    }
   ],
   "source": [
    "plt.figure(1)\n",
    "plt.title(\"Example PnL, Delta hedge, rebalancing once a day\")\n",
    "plt.grid()\n",
    "plt.ticklabel_format(axis='y', style='sci', scilimits=(-4,-4))\n",
    "plt.plot(pnl_tot[1])"
   ]
  },
  {
   "cell_type": "code",
   "execution_count": 53,
   "metadata": {},
   "outputs": [
    {
     "data": {
      "text/plain": [
       "np.float64(-0.004446889275215954)"
      ]
     },
     "execution_count": 53,
     "metadata": {},
     "output_type": "execute_result"
    }
   ],
   "source": [
    "np.percentile(pnl_tot[9], 5)"
   ]
  },
  {
   "cell_type": "code",
   "execution_count": 54,
   "metadata": {},
   "outputs": [
    {
     "data": {
      "text/plain": [
       "np.float64(-0.004446889275215954)"
      ]
     },
     "execution_count": 54,
     "metadata": {},
     "output_type": "execute_result"
    }
   ],
   "source": [
    "np.percentile(pnl_tot[1], 5)"
   ]
  },
  {
   "attachments": {},
   "cell_type": "markdown",
   "metadata": {},
   "source": [
    "# PPO"
   ]
  },
  {
   "cell_type": "code",
   "execution_count": 87,
   "metadata": {},
   "outputs": [
    {
     "name": "stdout",
     "output_type": "stream",
     "text": [
      "Using cpu device\n",
      "Wrapping the env with a `Monitor` wrapper\n",
      "Wrapping the env in a DummyVecEnv.\n"
     ]
    },
    {
     "name": "stderr",
     "output_type": "stream",
     "text": [
      "/Users/isabellebyman/opt/anaconda3/envs/exjobb/lib/python3.13/site-packages/stable_baselines3/ppo/ppo.py:148: UserWarning: You have specified a mini-batch size of 1280, but because the `RolloutBuffer` is of size `n_steps * n_envs = 2048`, after every 1 untruncated mini-batches, there will be a truncated mini-batch of size 768\n",
      "We recommend using a `batch_size` that is a factor of `n_steps * n_envs`.\n",
      "Info: (n_steps=2048 and n_envs=1)\n",
      "  warnings.warn(\n"
     ]
    }
   ],
   "source": [
    "from stable_baselines3 import PPO\n",
    "\n",
    "model = PPO(\"MlpPolicy\", env, verbose=1, batch_size=64*4*5, n_steps=2048, gamma=0.99, learning_rate=3e-4) "
   ]
  },
  {
   "cell_type": "markdown",
   "metadata": {},
   "source": [
    "### Training the Agent"
   ]
  },
  {
   "cell_type": "code",
   "execution_count": 88,
   "metadata": {},
   "outputs": [
    {
     "name": "stdout",
     "output_type": "stream",
     "text": [
      "------------------------------------------\n",
      "| rollout/                |              |\n",
      "|    ep_len_mean          | 1.3e+03      |\n",
      "|    ep_rew_mean          | -0.00512     |\n",
      "| time/                   |              |\n",
      "|    fps                  | 682          |\n",
      "|    iterations           | 2            |\n",
      "|    time_elapsed         | 6            |\n",
      "|    total_timesteps      | 4096         |\n",
      "| train/                  |              |\n",
      "|    approx_kl            | 0.0061750794 |\n",
      "|    clip_fraction        | 0.078        |\n",
      "|    clip_range           | 0.2          |\n",
      "|    entropy_loss         | -25.5        |\n",
      "|    explained_variance   | -49.550404   |\n",
      "|    learning_rate        | 0.0003       |\n",
      "|    loss                 | -0.0157      |\n",
      "|    n_updates            | 10           |\n",
      "|    policy_gradient_loss | -0.0142      |\n",
      "|    std                  | 0.998        |\n",
      "|    value_loss           | 0.0328       |\n",
      "------------------------------------------\n",
      "-----------------------------------------\n",
      "| rollout/                |             |\n",
      "|    ep_len_mean          | 1.3e+03     |\n",
      "|    ep_rew_mean          | -0.00545    |\n",
      "| time/                   |             |\n",
      "|    fps                  | 1017        |\n",
      "|    iterations           | 4           |\n",
      "|    time_elapsed         | 8           |\n",
      "|    total_timesteps      | 8192        |\n",
      "| train/                  |             |\n",
      "|    approx_kl            | 0.009798422 |\n",
      "|    clip_fraction        | 0.047       |\n",
      "|    clip_range           | 0.2         |\n",
      "|    entropy_loss         | -25.5       |\n",
      "|    explained_variance   | -26.105957  |\n",
      "|    learning_rate        | 0.0003      |\n",
      "|    loss                 | -0.0139     |\n",
      "|    n_updates            | 30          |\n",
      "|    policy_gradient_loss | -0.00827    |\n",
      "|    std                  | 0.997       |\n",
      "|    value_loss           | 0.00181     |\n",
      "-----------------------------------------\n",
      "-----------------------------------------\n",
      "| rollout/                |             |\n",
      "|    ep_len_mean          | 1.3e+03     |\n",
      "|    ep_rew_mean          | -0.00553    |\n",
      "| time/                   |             |\n",
      "|    fps                  | 1227        |\n",
      "|    iterations           | 6           |\n",
      "|    time_elapsed         | 10          |\n",
      "|    total_timesteps      | 12288       |\n",
      "| train/                  |             |\n",
      "|    approx_kl            | 0.010071445 |\n",
      "|    clip_fraction        | 0.0482      |\n",
      "|    clip_range           | 0.2         |\n",
      "|    entropy_loss         | -25.5       |\n",
      "|    explained_variance   | -29.146606  |\n",
      "|    learning_rate        | 0.0003      |\n",
      "|    loss                 | -0.0164     |\n",
      "|    n_updates            | 50          |\n",
      "|    policy_gradient_loss | -0.00967    |\n",
      "|    std                  | 0.999       |\n",
      "|    value_loss           | 0.00149     |\n",
      "-----------------------------------------\n",
      "------------------------------------------\n",
      "| rollout/                |              |\n",
      "|    ep_len_mean          | 1.3e+03      |\n",
      "|    ep_rew_mean          | -0.00549     |\n",
      "| time/                   |              |\n",
      "|    fps                  | 1371         |\n",
      "|    iterations           | 8            |\n",
      "|    time_elapsed         | 11           |\n",
      "|    total_timesteps      | 16384        |\n",
      "| train/                  |              |\n",
      "|    approx_kl            | 0.0092146285 |\n",
      "|    clip_fraction        | 0.0485       |\n",
      "|    clip_range           | 0.2          |\n",
      "|    entropy_loss         | -25.5        |\n",
      "|    explained_variance   | -27.67067    |\n",
      "|    learning_rate        | 0.0003       |\n",
      "|    loss                 | -0.0263      |\n",
      "|    n_updates            | 70           |\n",
      "|    policy_gradient_loss | -0.0108      |\n",
      "|    std                  | 0.998        |\n",
      "|    value_loss           | 0.0012       |\n",
      "------------------------------------------\n",
      "-----------------------------------------\n",
      "| rollout/                |             |\n",
      "|    ep_len_mean          | 1.3e+03     |\n",
      "|    ep_rew_mean          | -0.00528    |\n",
      "| time/                   |             |\n",
      "|    fps                  | 1480        |\n",
      "|    iterations           | 10          |\n",
      "|    time_elapsed         | 13          |\n",
      "|    total_timesteps      | 20480       |\n",
      "| train/                  |             |\n",
      "|    approx_kl            | 0.007949658 |\n",
      "|    clip_fraction        | 0.0697      |\n",
      "|    clip_range           | 0.2         |\n",
      "|    entropy_loss         | -25.5       |\n",
      "|    explained_variance   | -16.410069  |\n",
      "|    learning_rate        | 0.0003      |\n",
      "|    loss                 | -0.0189     |\n",
      "|    n_updates            | 90          |\n",
      "|    policy_gradient_loss | -0.0111     |\n",
      "|    std                  | 0.998       |\n",
      "|    value_loss           | 0.00106     |\n",
      "-----------------------------------------\n",
      "-----------------------------------------\n",
      "| rollout/                |             |\n",
      "|    ep_len_mean          | 1.3e+03     |\n",
      "|    ep_rew_mean          | -0.00549    |\n",
      "| time/                   |             |\n",
      "|    fps                  | 1573        |\n",
      "|    iterations           | 12          |\n",
      "|    time_elapsed         | 15          |\n",
      "|    total_timesteps      | 24576       |\n",
      "| train/                  |             |\n",
      "|    approx_kl            | 0.010393955 |\n",
      "|    clip_fraction        | 0.0475      |\n",
      "|    clip_range           | 0.2         |\n",
      "|    entropy_loss         | -25.5       |\n",
      "|    explained_variance   | -21.82132   |\n",
      "|    learning_rate        | 0.0003      |\n",
      "|    loss                 | -0.0199     |\n",
      "|    n_updates            | 110         |\n",
      "|    policy_gradient_loss | -0.0115     |\n",
      "|    std                  | 0.998       |\n",
      "|    value_loss           | 0.000889    |\n",
      "-----------------------------------------\n",
      "-----------------------------------------\n",
      "| rollout/                |             |\n",
      "|    ep_len_mean          | 1.3e+03     |\n",
      "|    ep_rew_mean          | -0.00556    |\n",
      "| time/                   |             |\n",
      "|    fps                  | 1640        |\n",
      "|    iterations           | 14          |\n",
      "|    time_elapsed         | 17          |\n",
      "|    total_timesteps      | 28672       |\n",
      "| train/                  |             |\n",
      "|    approx_kl            | 0.012612295 |\n",
      "|    clip_fraction        | 0.0918      |\n",
      "|    clip_range           | 0.2         |\n",
      "|    entropy_loss         | -25.5       |\n",
      "|    explained_variance   | -23.591103  |\n",
      "|    learning_rate        | 0.0003      |\n",
      "|    loss                 | -0.0246     |\n",
      "|    n_updates            | 130         |\n",
      "|    policy_gradient_loss | -0.0143     |\n",
      "|    std                  | 0.999       |\n",
      "|    value_loss           | 0.000793    |\n",
      "-----------------------------------------\n",
      "-----------------------------------------\n",
      "| rollout/                |             |\n",
      "|    ep_len_mean          | 1.3e+03     |\n",
      "|    ep_rew_mean          | -0.00544    |\n",
      "| time/                   |             |\n",
      "|    fps                  | 1684        |\n",
      "|    iterations           | 16          |\n",
      "|    time_elapsed         | 19          |\n",
      "|    total_timesteps      | 32768       |\n",
      "| train/                  |             |\n",
      "|    approx_kl            | 0.010806203 |\n",
      "|    clip_fraction        | 0.0527      |\n",
      "|    clip_range           | 0.2         |\n",
      "|    entropy_loss         | -25.5       |\n",
      "|    explained_variance   | -20.519335  |\n",
      "|    learning_rate        | 0.0003      |\n",
      "|    loss                 | -0.027      |\n",
      "|    n_updates            | 150         |\n",
      "|    policy_gradient_loss | -0.0122     |\n",
      "|    std                  | 0.998       |\n",
      "|    value_loss           | 0.000741    |\n",
      "-----------------------------------------\n",
      "-----------------------------------------\n",
      "| rollout/                |             |\n",
      "|    ep_len_mean          | 1.3e+03     |\n",
      "|    ep_rew_mean          | -0.00543    |\n",
      "| time/                   |             |\n",
      "|    fps                  | 1725        |\n",
      "|    iterations           | 18          |\n",
      "|    time_elapsed         | 21          |\n",
      "|    total_timesteps      | 36864       |\n",
      "| train/                  |             |\n",
      "|    approx_kl            | 0.008617487 |\n",
      "|    clip_fraction        | 0.0506      |\n",
      "|    clip_range           | 0.2         |\n",
      "|    entropy_loss         | -25.5       |\n",
      "|    explained_variance   | -19.343454  |\n",
      "|    learning_rate        | 0.0003      |\n",
      "|    loss                 | -0.0172     |\n",
      "|    n_updates            | 170         |\n",
      "|    policy_gradient_loss | -0.0105     |\n",
      "|    std                  | 0.999       |\n",
      "|    value_loss           | 0.000671    |\n",
      "-----------------------------------------\n",
      "-----------------------------------------\n",
      "| rollout/                |             |\n",
      "|    ep_len_mean          | 1.3e+03     |\n",
      "|    ep_rew_mean          | -0.00547    |\n",
      "| time/                   |             |\n",
      "|    fps                  | 1754        |\n",
      "|    iterations           | 20          |\n",
      "|    time_elapsed         | 23          |\n",
      "|    total_timesteps      | 40960       |\n",
      "| train/                  |             |\n",
      "|    approx_kl            | 0.010006854 |\n",
      "|    clip_fraction        | 0.0665      |\n",
      "|    clip_range           | 0.2         |\n",
      "|    entropy_loss         | -25.5       |\n",
      "|    explained_variance   | -19.641123  |\n",
      "|    learning_rate        | 0.0003      |\n",
      "|    loss                 | -0.0235     |\n",
      "|    n_updates            | 190         |\n",
      "|    policy_gradient_loss | -0.0112     |\n",
      "|    std                  | 1           |\n",
      "|    value_loss           | 0.000509    |\n",
      "-----------------------------------------\n",
      "-----------------------------------------\n",
      "| rollout/                |             |\n",
      "|    ep_len_mean          | 1.3e+03     |\n",
      "|    ep_rew_mean          | -0.00544    |\n",
      "| time/                   |             |\n",
      "|    fps                  | 1785        |\n",
      "|    iterations           | 22          |\n",
      "|    time_elapsed         | 25          |\n",
      "|    total_timesteps      | 45056       |\n",
      "| train/                  |             |\n",
      "|    approx_kl            | 0.008170489 |\n",
      "|    clip_fraction        | 0.0716      |\n",
      "|    clip_range           | 0.2         |\n",
      "|    entropy_loss         | -25.5       |\n",
      "|    explained_variance   | -14.660708  |\n",
      "|    learning_rate        | 0.0003      |\n",
      "|    loss                 | -0.0261     |\n",
      "|    n_updates            | 210         |\n",
      "|    policy_gradient_loss | -0.0122     |\n",
      "|    std                  | 0.999       |\n",
      "|    value_loss           | 0.000465    |\n",
      "-----------------------------------------\n",
      "------------------------------------------\n",
      "| rollout/                |              |\n",
      "|    ep_len_mean          | 1.3e+03      |\n",
      "|    ep_rew_mean          | -0.00546     |\n",
      "| time/                   |              |\n",
      "|    fps                  | 1810         |\n",
      "|    iterations           | 24           |\n",
      "|    time_elapsed         | 27           |\n",
      "|    total_timesteps      | 49152        |\n",
      "| train/                  |              |\n",
      "|    approx_kl            | 0.0069798958 |\n",
      "|    clip_fraction        | 0.0632       |\n",
      "|    clip_range           | 0.2          |\n",
      "|    entropy_loss         | -25.5        |\n",
      "|    explained_variance   | -15.19821    |\n",
      "|    learning_rate        | 0.0003       |\n",
      "|    loss                 | -0.0243      |\n",
      "|    n_updates            | 230          |\n",
      "|    policy_gradient_loss | -0.0121      |\n",
      "|    std                  | 0.999        |\n",
      "|    value_loss           | 0.000425     |\n",
      "------------------------------------------\n",
      "-----------------------------------------\n",
      "| rollout/                |             |\n",
      "|    ep_len_mean          | 1.3e+03     |\n",
      "|    ep_rew_mean          | -0.00537    |\n",
      "| time/                   |             |\n",
      "|    fps                  | 1829        |\n",
      "|    iterations           | 26          |\n",
      "|    time_elapsed         | 29          |\n",
      "|    total_timesteps      | 53248       |\n",
      "| train/                  |             |\n",
      "|    approx_kl            | 0.010917898 |\n",
      "|    clip_fraction        | 0.104       |\n",
      "|    clip_range           | 0.2         |\n",
      "|    entropy_loss         | -25.5       |\n",
      "|    explained_variance   | -20.613426  |\n",
      "|    learning_rate        | 0.0003      |\n",
      "|    loss                 | -0.0288     |\n",
      "|    n_updates            | 250         |\n",
      "|    policy_gradient_loss | -0.0145     |\n",
      "|    std                  | 1           |\n",
      "|    value_loss           | 0.000406    |\n",
      "-----------------------------------------\n",
      "-----------------------------------------\n",
      "| rollout/                |             |\n",
      "|    ep_len_mean          | 1.3e+03     |\n",
      "|    ep_rew_mean          | -0.00538    |\n",
      "| time/                   |             |\n",
      "|    fps                  | 1850        |\n",
      "|    iterations           | 28          |\n",
      "|    time_elapsed         | 30          |\n",
      "|    total_timesteps      | 57344       |\n",
      "| train/                  |             |\n",
      "|    approx_kl            | 0.009360694 |\n",
      "|    clip_fraction        | 0.0558      |\n",
      "|    clip_range           | 0.2         |\n",
      "|    entropy_loss         | -25.5       |\n",
      "|    explained_variance   | -19.005825  |\n",
      "|    learning_rate        | 0.0003      |\n",
      "|    loss                 | -0.0283     |\n",
      "|    n_updates            | 270         |\n",
      "|    policy_gradient_loss | -0.0124     |\n",
      "|    std                  | 1           |\n",
      "|    value_loss           | 0.000358    |\n",
      "-----------------------------------------\n",
      "------------------------------------------\n",
      "| rollout/                |              |\n",
      "|    ep_len_mean          | 1.3e+03      |\n",
      "|    ep_rew_mean          | -0.00533     |\n",
      "| time/                   |              |\n",
      "|    fps                  | 1863         |\n",
      "|    iterations           | 30           |\n",
      "|    time_elapsed         | 32           |\n",
      "|    total_timesteps      | 61440        |\n",
      "| train/                  |              |\n",
      "|    approx_kl            | 0.0095451735 |\n",
      "|    clip_fraction        | 0.0888       |\n",
      "|    clip_range           | 0.2          |\n",
      "|    entropy_loss         | -25.5        |\n",
      "|    explained_variance   | -14.787016   |\n",
      "|    learning_rate        | 0.0003       |\n",
      "|    loss                 | -0.0213      |\n",
      "|    n_updates            | 290          |\n",
      "|    policy_gradient_loss | -0.0136      |\n",
      "|    std                  | 1            |\n",
      "|    value_loss           | 0.000324     |\n",
      "------------------------------------------\n",
      "-----------------------------------------\n",
      "| rollout/                |             |\n",
      "|    ep_len_mean          | 1.3e+03     |\n",
      "|    ep_rew_mean          | -0.00539    |\n",
      "| time/                   |             |\n",
      "|    fps                  | 1878        |\n",
      "|    iterations           | 32          |\n",
      "|    time_elapsed         | 34          |\n",
      "|    total_timesteps      | 65536       |\n",
      "| train/                  |             |\n",
      "|    approx_kl            | 0.009303093 |\n",
      "|    clip_fraction        | 0.0681      |\n",
      "|    clip_range           | 0.2         |\n",
      "|    entropy_loss         | -25.5       |\n",
      "|    explained_variance   | -18.615004  |\n",
      "|    learning_rate        | 0.0003      |\n",
      "|    loss                 | -0.0297     |\n",
      "|    n_updates            | 310         |\n",
      "|    policy_gradient_loss | -0.0132     |\n",
      "|    std                  | 1           |\n",
      "|    value_loss           | 0.000284    |\n",
      "-----------------------------------------\n",
      "-----------------------------------------\n",
      "| rollout/                |             |\n",
      "|    ep_len_mean          | 1.3e+03     |\n",
      "|    ep_rew_mean          | -0.00539    |\n",
      "| time/                   |             |\n",
      "|    fps                  | 1893        |\n",
      "|    iterations           | 34          |\n",
      "|    time_elapsed         | 36          |\n",
      "|    total_timesteps      | 69632       |\n",
      "| train/                  |             |\n",
      "|    approx_kl            | 0.009575015 |\n",
      "|    clip_fraction        | 0.0702      |\n",
      "|    clip_range           | 0.2         |\n",
      "|    entropy_loss         | -25.5       |\n",
      "|    explained_variance   | -18.636288  |\n",
      "|    learning_rate        | 0.0003      |\n",
      "|    loss                 | -0.0288     |\n",
      "|    n_updates            | 330         |\n",
      "|    policy_gradient_loss | -0.0135     |\n",
      "|    std                  | 0.999       |\n",
      "|    value_loss           | 0.000267    |\n",
      "-----------------------------------------\n",
      "-----------------------------------------\n",
      "| rollout/                |             |\n",
      "|    ep_len_mean          | 1.3e+03     |\n",
      "|    ep_rew_mean          | -0.00544    |\n",
      "| time/                   |             |\n",
      "|    fps                  | 1906        |\n",
      "|    iterations           | 36          |\n",
      "|    time_elapsed         | 38          |\n",
      "|    total_timesteps      | 73728       |\n",
      "| train/                  |             |\n",
      "|    approx_kl            | 0.010417719 |\n",
      "|    clip_fraction        | 0.0627      |\n",
      "|    clip_range           | 0.2         |\n",
      "|    entropy_loss         | -25.5       |\n",
      "|    explained_variance   | -17.02405   |\n",
      "|    learning_rate        | 0.0003      |\n",
      "|    loss                 | -0.0293     |\n",
      "|    n_updates            | 350         |\n",
      "|    policy_gradient_loss | -0.0132     |\n",
      "|    std                  | 0.998       |\n",
      "|    value_loss           | 0.000251    |\n",
      "-----------------------------------------\n"
     ]
    }
   ],
   "source": [
    "Nruns = 10*3\n",
    "model.learn(total_timesteps=2520*10*Nruns, log_interval=2) # exploration_fraction=0.2\n",
    "model.save(\"ppo_fin\")"
   ]
  },
  {
   "cell_type": "markdown",
   "metadata": {},
   "source": [
    "### Run a test"
   ]
  },
  {
   "cell_type": "code",
   "execution_count": 84,
   "metadata": {},
   "outputs": [
    {
     "name": "stdout",
     "output_type": "stream",
     "text": [
      "Example action taken: [0.0529009  1.         0.         0.         0.2014095  0.6262516\n",
      " 0.7961714  1.         0.7290068  0.         0.         0.\n",
      " 0.         1.         0.         1.         1.         0.93660206]\n",
      "Episode rewards: [np.float64(-3.978088320667232e-07), np.float64(-1.399685389235893e-06), np.float64(-3.7525315283517547e-07), np.float64(-4.135083165400112e-05), np.float64(-9.722916351504184e-06), np.float64(-1.1007587611876422e-05), np.float64(-4.663587598820608e-05), np.float64(-2.145563008064493e-06), np.float64(-1.5533977152098305e-07), np.float64(-4.029631937763398e-05), np.float64(-3.0150137025790405e-06), np.float64(-7.855053027208529e-07), np.float64(-4.301322276891485e-06), np.float64(-2.1319504762623024e-06), np.float64(-7.254447225424266e-05), np.float64(-2.427446755675046e-07), np.float64(-5.425233518693571e-06), np.float64(-1.2817363640098446e-06), np.float64(-1.8991575104475803e-05), np.float64(-1.0627039338840252e-06), np.float64(-2.9634029461143077e-05), np.float64(-1.2117615516270858e-06), np.float64(-9.224661755199227e-06), np.float64(-9.502527275477917e-07), np.float64(-3.2951394696870466e-06), np.float64(-7.825243631059625e-08), np.float64(-3.589266738546995e-05), np.float64(-1.3313386263519983e-06), np.float64(-9.845075306438228e-07), np.float64(-6.567503121653803e-07), np.float64(-3.546345185005371e-07), np.float64(-3.7023563321531024e-06), np.float64(-7.743952676455778e-06), np.float64(-1.926314766234674e-05), np.float64(-1.1609341754311645e-06), np.float64(-4.765095121796159e-06), np.float64(-8.880346649670375e-08), np.float64(-0.0004067151618557573), np.float64(-5.018142572900634e-06), np.float64(-3.4802742738127224e-05), np.float64(-5.349688309898728e-07), np.float64(-3.9764983779101076e-06), np.float64(-4.726174517767238e-05), np.float64(-4.793785752267037e-07), np.float64(-5.9507431551348955e-06), np.float64(-1.7362541380266593e-05), np.float64(-1.4888099974732602e-06), np.float64(-1.0127752142623737e-05), np.float64(-2.1945083118956786e-06), np.float64(-1.6107895678544177e-05), np.float64(-6.399241423022241e-06), np.float64(-3.4108544557724795e-06), np.float64(-4.587017361314287e-05), np.float64(-0.0001961361613137749), np.float64(-8.436821201570324e-07), np.float64(-9.485909741036799e-07), np.float64(-2.2487000883215983e-08), np.float64(-1.5717208628061938e-05), np.float64(-9.11973007108213e-06), np.float64(-9.544153708594003e-06), np.float64(-4.472947156224849e-06), np.float64(-3.757386986086571e-05), np.float64(-1.0202501811571166e-05), np.float64(-7.857829481159468e-06), np.float64(-2.6679155641356185e-06), np.float64(-1.2115902986132838e-06), np.float64(-1.7916785181082302e-06), np.float64(-4.936153559412415e-06), np.float64(-2.8097653950163584e-06), np.float64(-1.6970069326256956e-06), np.float64(-2.21782745214822e-05), np.float64(-1.9378637376172028e-07), np.float64(-2.5985951338687534e-07), np.float64(-1.9052320342014315e-07), np.float64(-6.208123897026195e-08), np.float64(-1.8367168447328465e-05), np.float64(-8.701523562231588e-07), np.float64(-1.6266172276795084e-06), np.float64(-8.651157344204573e-06), np.float64(-2.3325074957456764e-05), np.float64(-1.0962104631687284e-05), np.float64(-2.943032598413283e-08), np.float64(-1.062646594240967e-06), np.float64(-1.7482934376164162e-06), np.float64(-5.184706812441425e-08), np.float64(-2.4937799791817974e-05), np.float64(-3.261996532993714e-07), np.float64(-1.965582591582994e-06), np.float64(-1.449202637333571e-06), np.float64(-2.2515373171533745e-06), np.float64(-5.732298760961913e-07), np.float64(-1.8827982636901853e-09), np.float64(-1.010927799901361e-06), np.float64(-2.4023520423929068e-06), np.float64(-2.215511304984525e-11), np.float64(-8.47248348569169e-06), np.float64(-6.9676362088870736e-09), np.float64(-7.133326538836668e-07), np.float64(-4.188411124367971e-05), np.float64(-4.780357629962081e-06), np.float64(-2.2931895555213753e-06), np.float64(-9.084683784695092e-07), np.float64(-1.0439494077118791e-06), np.float64(-8.130524869706635e-06), np.float64(-1.239155357058805e-05), np.float64(-4.229891687535491e-06), np.float64(-2.9239881932825356e-06), np.float64(-2.778765875180943e-07), np.float64(-4.9602184514151476e-08), np.float64(-3.431167461370139e-07), np.float64(-3.119798415174246e-06), np.float64(-6.274567891193451e-07), np.float64(-6.003989701607478e-06), np.float64(-2.5791208183682323e-05), np.float64(-5.178741020088097e-07), np.float64(-1.0480865798349114e-09), np.float64(-3.10958746257816e-06), np.float64(-2.9539693206943083e-06), np.float64(-1.569272552013103e-05), np.float64(-2.4497047891285306e-07), np.float64(-7.861796161282795e-06), np.float64(-2.175763708912695e-06), np.float64(-6.151358819681063e-06), np.float64(-1.7174260884050464e-07), np.float64(-4.958382438181372e-06), np.float64(-1.431800957078951e-07), np.float64(-2.2852594352907664e-06), np.float64(-7.489022151699409e-06), np.float64(-2.6783224776266514e-06), np.float64(-1.3415214157245766e-06), np.float64(-1.2653225298621515e-06), np.float64(-0.001342046027608514), np.float64(-9.702917365383684e-06), np.float64(-8.507016604460837e-05), np.float64(-8.316748928784312e-08), np.float64(-5.212107069478481e-08), np.float64(-8.911129152820919e-07), np.float64(-4.808092175400666e-06), np.float64(-4.735337591597727e-07), np.float64(-2.394393457126546e-07), np.float64(-6.153740839010856e-08), np.float64(-4.328847914718558e-07), np.float64(-7.030298770706556e-05), np.float64(-2.8614098994000136e-07), np.float64(-1.6981758855914334e-05), np.float64(-2.0134382302036637e-05), np.float64(-1.0671837222621848e-07), np.float64(-8.61909537429325e-06), np.float64(-5.346936133903478e-06), np.float64(-3.769743768207445e-09), np.float64(-9.111890870947828e-09), np.float64(-1.6782328713740747e-06), np.float64(-2.4035140258193723e-08), np.float64(-7.568098856856763e-07), np.float64(-8.18220702722565e-08), np.float64(-7.640818559007164e-07), np.float64(-1.3774638404050557e-06), np.float64(-2.0674496141002764e-07), np.float64(-5.660718531530807e-06), np.float64(-7.591991931755115e-06), np.float64(-1.9988640389591693e-05), np.float64(-2.1467057261981276e-05), np.float64(-2.5099789140596345e-07), np.float64(-6.60290930776962e-07), np.float64(-8.987588481594757e-06), np.float64(-1.0794760948541636e-07), np.float64(-1.564467600382546e-05), np.float64(-1.8091028737576747e-06), np.float64(-4.4573105918563466e-06), np.float64(-2.5712982291818517e-06), np.float64(-7.276633136181522e-07), np.float64(-3.705687220726763e-06), np.float64(-2.8624460739933304e-06), np.float64(-2.4302616019361825e-06), np.float64(-1.7053209487399825e-07), np.float64(-1.006696815312299e-06), np.float64(-3.626603974764194e-05), np.float64(-6.326119762225554e-07), np.float64(-1.0252632480012216e-07), np.float64(-6.56962458355504e-08), np.float64(-5.0091490803562226e-05), np.float64(-6.090379121550997e-06), np.float64(-4.473128994080131e-09), np.float64(-3.2328047377027904e-06), np.float64(-3.3719484592357233e-06), np.float64(-7.10743421766279e-05), np.float64(-4.990232743859062e-12), np.float64(-7.220497752067285e-06), np.float64(-6.995821608624542e-08), np.float64(-1.3217144891266402e-06), np.float64(-2.415423962221172e-08), np.float64(-5.236190922557808e-07), np.float64(-7.118961765143412e-07), np.float64(-2.7634159761945317e-06), np.float64(-2.3451866584919144e-07), np.float64(-5.1541973208000515e-09), np.float64(-8.681008496618169e-10), np.float64(-6.189444989778327e-05), np.float64(-7.416364847398592e-07), np.float64(-1.6314301111757734e-07), np.float64(-2.082030121328609e-05), np.float64(-2.3856052270251624e-09), np.float64(-1.57367639699693e-07), np.float64(-3.09909237532643e-05), np.float64(-5.312392234046443e-06), np.float64(-2.36145111621012e-07), np.float64(-2.5819331931637944e-07), np.float64(-2.520948340893169e-06), np.float64(-2.641587620981727e-05), np.float64(-1.6834202143404454e-05), np.float64(-2.9673826248273642e-05), np.float64(-5.511644041982449e-05), np.float64(-2.4537835587118557e-07), np.float64(-1.0321834435437744e-05), np.float64(-1.0482281020589603e-06), np.float64(-2.2431767138573368e-06), np.float64(-1.705215924948398e-05), np.float64(-1.0591039588789946e-05), np.float64(-1.7400388071727447e-06), np.float64(-4.141898226518479e-07), np.float64(-5.77610650946868e-06), np.float64(-3.286707493305401e-06), np.float64(-4.2439053234966186e-08), np.float64(-2.538533189273422e-07), np.float64(-1.5798303097390556e-07), np.float64(-1.730919157331622e-06), np.float64(-7.437904044929929e-08), np.float64(-2.3557006450306647e-05), np.float64(-2.2378860395843407e-05), np.float64(-1.4291028303138665e-06), np.float64(-1.980237564636495e-06), np.float64(-5.454181301773877e-06), np.float64(-5.326022507244941e-07), np.float64(-3.594958508670011e-05), np.float64(-3.2844331319524675e-07), np.float64(-3.715354063740244e-05), np.float64(-1.0257304564644382e-05), np.float64(-1.4260652128708385e-08), np.float64(-5.128308937505001e-08), np.float64(-2.1381138715778628e-06), np.float64(-1.3070414214877984e-05), np.float64(-4.766173078214338e-07), np.float64(-0.00016374958761697784), np.float64(-2.9052243273202034e-07), np.float64(-9.297644581028206e-08), np.float64(-1.8237903965852673e-06), np.float64(-3.844592617309467e-06), np.float64(-6.5629547569821655e-06), np.float64(-3.944483633194671e-06), np.float64(-1.6533444145936418e-07), np.float64(-3.123367392927507e-06), np.float64(-3.5985285519293615e-08), np.float64(-1.1279183269591214e-05), np.float64(-7.44495889510989e-07), np.float64(-7.400591354211698e-06), np.float64(-2.1098381606431825e-05), np.float64(-9.751268597029703e-06), np.float64(-1.8949753328184339e-06), np.float64(-2.9209677567621814e-06), np.float64(-8.946378329366376e-08), np.float64(-1.2401203640478102e-05), np.float64(-1.0729600525002618e-05), np.float64(-6.744950663871485e-08), np.float64(-7.819560623573755e-07), np.float64(-6.855636459262253e-06), np.float64(-2.937996949408903e-06), np.float64(-1.3846051027184082e-09), np.float64(-1.7747627344172505e-05), np.float64(-1.6819541690878088e-06), np.float64(-3.866339237219498e-06), np.float64(-2.6227153091466073e-06), np.float64(-3.996968659575305e-07), np.float64(-5.734554837948588e-06), np.float64(-3.619977403565525e-07), np.float64(-1.1328859776425552e-05), np.float64(-1.7848465143416802e-07), np.float64(-8.28837956037876e-06), np.float64(-1.5247599476042515e-08), np.float64(-4.14020472743052e-05), np.float64(-6.943084487141244e-07), np.float64(-8.289095723752072e-06), np.float64(-7.459653140725448e-07), np.float64(-7.289617453738922e-08), np.float64(-1.1242497399412383e-06), np.float64(-1.0698191699199944e-05), np.float64(-9.460516321114741e-08), np.float64(-2.38508532486583e-06), np.float64(-5.398927431301202e-06), np.float64(-4.808910137046768e-07), np.float64(-4.985787550095187e-07), np.float64(-3.5867145243220353e-07), np.float64(-1.1268475413799266e-06), np.float64(-1.0113071463318258e-09), np.float64(-3.7362866539981937e-07), np.float64(-9.377715127945937e-07), np.float64(-3.5428040051476453e-06), np.float64(-1.1972964940104305e-07), np.float64(-3.097360521145274e-08), np.float64(-1.2446012729506435e-05), np.float64(-6.973961125204468e-08), np.float64(-1.965451203391017e-06), np.float64(-1.9727270093121057e-08), np.float64(-6.121355716752711e-09), np.float64(-2.6190977546584704e-06), np.float64(-2.1573988078691104e-07), np.float64(-3.320430200538251e-06), np.float64(-1.4688544968695087e-05), np.float64(-2.169301546039562e-09), np.float64(-1.484587890705714e-07), np.float64(-3.8239560628089734e-06), np.float64(-3.3452487859121266e-07), np.float64(-1.0598776587492337e-08), np.float64(-2.050376918767908e-06), np.float64(-5.0888276520820676e-06), np.float64(-3.326332707520034e-06), np.float64(-4.13721301187789e-07), np.float64(-1.191706360256855e-07), np.float64(-3.5917425466813273e-06), np.float64(-2.5128057141196677e-08), np.float64(-1.8494927560188044e-05), np.float64(-1.8946616356312256e-06), np.float64(-2.1378951732364304e-07), np.float64(-6.42396479464189e-07), np.float64(-1.2209903517713373e-06), np.float64(-3.5108225400495315e-06), np.float64(-7.192176734170762e-06), np.float64(-8.092389551417248e-07), np.float64(-4.834263845833812e-08), np.float64(-6.418722506007074e-07), np.float64(-6.358971084469791e-08), np.float64(-1.2240573510846155e-05), np.float64(-4.5506960976528735e-07), np.float64(-8.002095381759598e-06), np.float64(-4.167705154897329e-08), np.float64(-1.0462625880230072e-07), np.float64(-5.039780501066892e-10), np.float64(-3.182793001517042e-06), np.float64(-3.49236561881282e-06), np.float64(-4.055861571116116e-09), np.float64(-5.1115345928133125e-05), np.float64(-1.8485673784197908e-08), np.float64(-8.643735829865608e-06), np.float64(-3.598160158881437e-08), np.float64(-1.550423512512058e-05), np.float64(-1.250531265543888e-06), np.float64(-1.69151878362084e-05), np.float64(-4.7589971119062416e-07), np.float64(-2.530320212465596e-05), np.float64(-5.587871770065504e-06), np.float64(-2.177271620991297e-06), np.float64(-1.5997683024984786e-06), np.float64(-1.37784698790963e-07), np.float64(-2.2898770373059005e-09), np.float64(-2.4787461869763887e-07), np.float64(-6.139715770008428e-08), np.float64(-7.931053213387227e-09), np.float64(-1.1205480808424698e-08), np.float64(-7.936305356127388e-07), np.float64(-1.6304183017119182e-05), np.float64(-2.397718321247304e-07), np.float64(-9.802081017277845e-07), np.float64(-2.802635044747521e-07), np.float64(-1.1765351729572798e-05), np.float64(-5.043155204420162e-05), np.float64(-1.4064502083831535e-06), np.float64(-5.077011619490297e-06), np.float64(-3.178781584362664e-06), np.float64(-2.0924826949562642e-07), np.float64(-6.13890583226859e-07), np.float64(-1.0652997615507374e-08), np.float64(-2.771031176239957e-07), np.float64(-2.3499228710744395e-10), np.float64(-9.46657618234866e-06), np.float64(-1.2682048490998204e-06), np.float64(-4.514230700342973e-06), np.float64(-1.3304529266181362e-06), np.float64(-3.243210300244309e-06), np.float64(-2.233434119677427e-07), np.float64(-1.386481546877247e-06), np.float64(-1.809038466991158e-05), np.float64(-3.088297429656558e-06), np.float64(-3.536762983672318e-07), np.float64(-2.1909840238303502e-06), np.float64(-2.5473480998746077e-07), np.float64(-1.4631155329561634e-06), np.float64(-1.2137454757604922e-06), np.float64(-1.8635047886599824e-05), np.float64(-5.4445591052207365e-06), np.float64(-1.1127860235151658e-06), np.float64(-1.9636924606327744e-06), np.float64(-4.9533421950864706e-06), np.float64(-8.485366891493549e-08), np.float64(-8.451120191169573e-07), np.float64(-1.0308757271357016e-05), np.float64(-1.897361258780553e-09), np.float64(-2.0057496506697425e-07), np.float64(-1.592263571014373e-06), np.float64(-1.54383058661277e-07), np.float64(-7.531026466373693e-08), np.float64(-3.438492722139403e-07), np.float64(-1.2847253344468573e-06), np.float64(-2.6925978659411362e-09), np.float64(-9.409711130979072e-07), np.float64(-1.0128237089585498e-09), np.float64(-2.2894474682780757e-07), np.float64(-1.0075019512650894e-05), np.float64(-1.0537544022063694e-05), np.float64(-1.3614983325549964e-07), np.float64(-1.1728477011045615e-06), np.float64(-6.043999275054421e-05), np.float64(-1.4726792225154008e-06), np.float64(-8.7529576638753e-07), np.float64(-1.3257855142406485e-07), np.float64(-2.9485417698857727e-07), np.float64(-1.4373260392600773e-06), np.float64(-1.4720787558085356e-07), np.float64(-1.6081184579835893e-07), np.float64(-6.253546856237423e-05), np.float64(-6.019775700391887e-07), np.float64(-3.1058059409768047e-06), np.float64(-6.408939054463395e-08), np.float64(-2.3419946615118462e-07), np.float64(-4.276734744031447e-07), np.float64(-4.7792090610932134e-05), np.float64(-2.8027312222818107e-06), np.float64(-3.4177554020648334e-07), np.float64(-6.477516171529544e-07), np.float64(-1.7468008597762655e-09), np.float64(-4.520008516196451e-06), np.float64(-6.089533182209665e-07), np.float64(-3.8706489808293644e-07), np.float64(-2.716704998539849e-06), np.float64(-2.006078239843134e-08), np.float64(-1.4947396639091518e-05), np.float64(-5.223512352059455e-06), np.float64(-7.750600601914277e-06), np.float64(-5.297924308738473e-06), np.float64(-2.3611440640880404e-08), np.float64(-4.6664887847612825e-07), np.float64(-2.3116069842655104e-05), np.float64(-1.1421904526517863e-06), np.float64(-4.03634917391534e-09), np.float64(-3.2889628169887756e-07), np.float64(-8.943672560114508e-07), np.float64(-1.8317204138819358e-06), np.float64(-4.199148471400951e-06), np.float64(-1.643093362412916e-08), np.float64(-1.4215400025626775e-06), np.float64(-1.7555459635845242e-06), np.float64(-9.907954373448237e-06), np.float64(-1.1644401708460796e-05), np.float64(-1.4189550568950111e-06), np.float64(-1.8432790108085355e-07), np.float64(-3.4611722867874938e-06), np.float64(-7.660222377192771e-07), np.float64(-1.0241003417590393e-07), np.float64(-2.3985899334679276e-05), np.float64(-4.4549372358681125e-07), np.float64(-4.514562553435402e-05), np.float64(-5.758013957041445e-07), np.float64(-2.3029047953522528e-06), np.float64(-1.5853683413287332e-08), np.float64(-6.564161168812374e-07), np.float64(-3.795734834475245e-06), np.float64(-6.663900015614397e-07), np.float64(-1.6966773375799165e-06), np.float64(-1.0883242829983419e-07), np.float64(-3.2258270982745652e-06), np.float64(-1.8832305150333403e-08), np.float64(-9.882978065856706e-07), np.float64(-4.029630022203701e-07), np.float64(-2.3505114308420583e-06), np.float64(-1.407726695443006e-08), np.float64(-1.093230034942276e-06), np.float64(-1.224582673825229e-06), np.float64(-6.03441118175033e-07), np.float64(-3.2504832661750967e-06), np.float64(-4.962740159434579e-08), np.float64(-2.1128318331365257e-06), np.float64(-3.6462548897997836e-06), np.float64(-5.203901441879652e-09), np.float64(-1.4134790298605698e-06), np.float64(-9.34142642059027e-09), np.float64(-2.0779178730791078e-07), np.float64(-5.996126965918221e-06), np.float64(-2.5696998197024298e-05), np.float64(-6.450031062464046e-08), np.float64(-4.293620954317674e-07), np.float64(-7.970323494363573e-08), np.float64(-1.6164150169624573e-07), np.float64(-5.857250946277305e-06), np.float64(-4.1664175895921326e-06), np.float64(-5.328000267196003e-07), np.float64(-2.53746404315405e-08), np.float64(-2.6871403671646434e-06), np.float64(-1.2527059497413456e-06), np.float64(-6.284063466908382e-10), np.float64(-1.57356333694434e-07), np.float64(-3.767176016341328e-07), np.float64(-1.055306759086435e-06), np.float64(-2.1435279668070758e-06), np.float64(-4.595321001449014e-08), np.float64(-2.781603799956284e-06), np.float64(-1.8767830722684228e-08), np.float64(-1.123765095731078e-05), np.float64(-4.0598880961677175e-06), np.float64(-1.3177866078319629e-06), np.float64(-3.218352843485342e-06), np.float64(-1.2569516031749979e-05), np.float64(-4.048127488290179e-09), np.float64(-3.1652475484916717e-07), np.float64(-4.706100262389032e-08), np.float64(-6.752100546600397e-07), np.float64(-6.783749255705443e-07), np.float64(-1.1972069736881249e-08), np.float64(-3.7018872443566156e-09), np.float64(-4.345226938747136e-12), np.float64(-6.1201274594562685e-06), np.float64(-8.791200520752193e-06), np.float64(-4.2252442539183086e-08), np.float64(-4.932298873500934e-07), np.float64(-1.4277354244312089e-06), np.float64(-3.477546840905295e-08), np.float64(-1.5484311888142837e-07), np.float64(-9.572060463170396e-08), np.float64(-1.5536103757654002e-06), np.float64(-8.925963879779895e-08), np.float64(-1.1797555526690537e-07), np.float64(-5.60384287336142e-07), np.float64(-1.1477440323375025e-05), np.float64(-4.4724551434030985e-07), np.float64(-2.1244552393820382e-06), np.float64(-3.1534302667671815e-06), np.float64(-1.2493541967749681e-05), np.float64(-9.159751134273854e-07), np.float64(-2.9910274192800057e-06), np.float64(-5.5395377587025634e-08), np.float64(-2.490971245333507e-10), np.float64(-8.050711963650138e-09), np.float64(-6.362353945764702e-05), np.float64(-6.477897065720024e-06), np.float64(-6.438002163676709e-07), np.float64(-1.4677335260337016e-05), np.float64(-1.2560308036677436e-06), np.float64(-1.2175671631766136e-06), np.float64(-8.217738914939065e-09), np.float64(-2.2583973762758695e-07), np.float64(-4.225847852111582e-05), np.float64(-2.6491890889725694e-06), np.float64(-1.3090064370589897e-06), np.float64(-5.4883906868575497e-08), np.float64(-1.1899788585093728e-07), np.float64(-2.125562891314442e-07), np.float64(-3.275072856408973e-06), np.float64(-3.142293085950388e-07), np.float64(-1.2890577194427842e-08), np.float64(-2.949424920974685e-06), np.float64(-4.006759391475066e-06), np.float64(-1.3309494478708962e-08), np.float64(-4.62055361903519e-05), np.float64(-2.0755635356040887e-06), np.float64(-3.0044083781618422e-05), np.float64(-1.4457849863106823e-06), np.float64(-6.947001191092803e-07), np.float64(-5.220345189900036e-08), np.float64(-9.444923576263019e-06), np.float64(-9.59778416269637e-06), np.float64(-6.278490520880982e-08), np.float64(-5.4903294195366326e-12), np.float64(-2.383707654644936e-06), np.float64(-6.044806487114139e-06), np.float64(-3.432570190882026e-07), np.float64(-9.89157660283642e-09), np.float64(-1.7281575500195497e-06), np.float64(-1.5161882781835944e-08), np.float64(-1.1381331655330248e-06), np.float64(-1.589402168458374e-05), np.float64(-8.096727334599056e-07), np.float64(-3.6805428259597655e-07), np.float64(-1.4904041360805756e-08), np.float64(-1.1758256670275234e-08), np.float64(-7.630345887207655e-07), np.float64(-1.2819442331423852e-06), np.float64(-2.405591930141008e-07), np.float64(-1.345419525020296e-07), np.float64(-5.742261069443798e-07), np.float64(-5.494396583471039e-07), np.float64(-6.56212778047111e-09), np.float64(-7.086573014045455e-08), np.float64(-5.292180408318616e-07), np.float64(-1.45770717527075e-07), np.float64(-1.1213856734646296e-05), np.float64(-3.005472826507845e-07), np.float64(-9.544739628389454e-07), np.float64(-5.0659889397819316e-11), np.float64(-3.417417578932037e-08), np.float64(-2.872045646349309e-06), np.float64(-1.5156556497276779e-06), np.float64(-4.4660606921806505e-09), np.float64(-2.3038479649504392e-07), np.float64(-2.4174394098309084e-08), np.float64(-4.8450342691495884e-06), np.float64(-5.211703635931434e-07), np.float64(-1.786774132277862e-07), np.float64(-5.5921795910345636e-08), np.float64(-4.5760932182247235e-10), np.float64(-9.424782931674394e-09), np.float64(-9.86837067001378e-07), np.float64(-3.459548072494145e-08), np.float64(-4.626828686561189e-10), np.float64(-3.538205111303989e-07), np.float64(-7.689579887503333e-07), np.float64(-9.518312291167358e-08), np.float64(-2.347313906558751e-07), np.float64(-1.7543789240444342e-06), np.float64(-6.702823714438288e-07), np.float64(-3.4364384329323003e-06), np.float64(-1.7912494967923858e-06), np.float64(-2.2057646654573556e-08), np.float64(-2.935485756772664e-07), np.float64(-4.8677349919787454e-08), np.float64(-2.685382231523972e-09), np.float64(-6.871719396552062e-09), np.float64(-5.834403840394616e-08), np.float64(-3.389717267658452e-07), np.float64(-5.381085627713749e-06), np.float64(-1.9910556110193195e-07), np.float64(-1.5015286873699109e-06), np.float64(-3.651667336432137e-07), np.float64(-6.069591571554091e-07), np.float64(-1.333421107115424e-07), np.float64(-4.9661203671122216e-08), np.float64(-4.551597635345551e-08), np.float64(-2.4563673349090417e-07), np.float64(-3.172914786261925e-10), np.float64(-1.3714436446016872e-07), np.float64(-2.8940532036325317e-06), np.float64(-5.858845167634864e-07), np.float64(-2.0332356108994857e-07), np.float64(-6.793903945534624e-07), np.float64(-1.1096123284874695e-08), np.float64(-5.869759054316794e-07), np.float64(-3.911809891597711e-06), np.float64(-1.2084706846703498e-06), np.float64(-1.6400717240897806e-07), np.float64(-2.28470503301964e-09), np.float64(-7.550572780841478e-06), np.float64(-5.909141947843746e-07), np.float64(-8.044741204213063e-08), np.float64(-9.681175669198829e-09), np.float64(-1.4771683458023674e-07), np.float64(-3.4262628095598314e-06), np.float64(-5.415635327033581e-07), np.float64(-1.8014835220460455e-06), np.float64(-2.9462757899156687e-06), np.float64(-6.510659935396197e-08), np.float64(-6.337421846884109e-06), np.float64(-4.551721759848542e-08), np.float64(-1.851479491855537e-08), np.float64(-5.925098853579679e-07), np.float64(-5.122588725651995e-07), np.float64(-1.0477264204067628e-07), np.float64(-2.125048269685905e-07), np.float64(-3.72027333261596e-07), np.float64(-2.1825488215949913e-06), np.float64(-2.8648646896469557e-06), np.float64(-5.985245988534161e-10), np.float64(-9.210272042343384e-06), np.float64(-3.807247830156979e-09), np.float64(-2.1383295398492353e-06), np.float64(-2.8384717577279576e-07), np.float64(-6.920490091789151e-07), np.float64(-1.509488418754478e-06), np.float64(-8.986500188070674e-06), np.float64(-1.6058677151086516e-07), np.float64(-3.047533142255259e-08), np.float64(-1.5803093699003764e-05), np.float64(-1.0105004725559633e-07), np.float64(-3.330920439040719e-06), np.float64(-1.053011458657605e-06), np.float64(-1.0644978061142599e-06), np.float64(-6.848940324367541e-10), np.float64(-2.3966136393432555e-06), np.float64(-1.5120691903734573e-10), np.float64(-1.0332101828724483e-05), np.float64(-5.406165433405077e-08), np.float64(-3.9343250759607405e-06), np.float64(-1.9020969173891376e-05), np.float64(-6.065879670877498e-07), np.float64(-8.398110108437921e-07), np.float64(-5.755551138908355e-08), np.float64(-9.423261394901703e-06), np.float64(-1.273688117427416e-07), np.float64(-8.08104545803491e-08), np.float64(-1.1306188294257726e-08), np.float64(-5.783646473254765e-05), np.float64(-5.609207102444801e-09), np.float64(-3.234536613233606e-06), np.float64(-2.52697851817514e-06), np.float64(-4.2535326822581864e-07), np.float64(-7.340958205875573e-06), np.float64(-8.530523905145913e-05), np.float64(-1.4263365280706427e-06), np.float64(-1.9834663906506047e-06), np.float64(-1.4217174116298478e-07), np.float64(-1.623593638218644e-06), np.float64(-2.8622150451498294e-07), np.float64(-3.0378200415797694e-07), np.float64(-7.819151501874104e-07), np.float64(-5.05501096932738e-09), np.float64(-1.4149562410666301e-06), np.float64(-2.0604374346855633e-06), np.float64(-4.2494808637719997e-07), np.float64(-2.3658860006376462e-07), np.float64(-9.877891960690862e-07), np.float64(-2.5051121642873703e-05), np.float64(-6.711889835713146e-07), np.float64(-1.0980988219964818e-09), np.float64(-9.312215002452834e-07), np.float64(-6.126643459941558e-07), np.float64(-4.3915744444458135e-07), np.float64(-1.043528876952058e-06), np.float64(-3.996722693601291e-09), np.float64(-6.604103660460628e-08), np.float64(-5.425098939308112e-07), np.float64(-3.179861984905647e-06), np.float64(-2.423936575251323e-07), np.float64(-4.5792748773989896e-07), np.float64(-8.654264161485149e-08), np.float64(-2.0205249843588273e-07), np.float64(-1.2113664721240659e-06), np.float64(-3.847981326542327e-07), np.float64(-2.2405407199856516e-06), np.float64(-6.380118180086171e-08), np.float64(-3.537040474424228e-06), np.float64(-1.3258574031548912e-07), np.float64(-4.5613434917082944e-07), np.float64(-1.9290266812457518e-07), np.float64(-9.360263017458893e-07), np.float64(-1.6477816122548874e-07), np.float64(-7.568079129927904e-07), np.float64(-9.391667630571473e-07), np.float64(-4.950529129970824e-07), np.float64(-1.0962405561302991e-09), np.float64(-1.462395101119972e-07), np.float64(-2.997037382156296e-06), np.float64(-1.0686349374902795e-07), np.float64(-4.323730505914592e-11), np.float64(-2.851687503198643e-07), np.float64(-1.1790224323972846e-06), np.float64(-2.12439460337363e-06), np.float64(-3.1490592816101763e-07), np.float64(-2.3148573527115299e-07), np.float64(-1.1580364611339759e-07), np.float64(-1.2760466147876687e-05), np.float64(-8.09082978842504e-06), np.float64(-1.4222971740372833e-06), np.float64(-2.103357889165559e-06), np.float64(-1.9634165613255853e-08), np.float64(-1.328260455507072e-06), np.float64(-4.4636771100075894e-07), np.float64(-3.438875400273664e-07), np.float64(-5.8832240141316916e-08), np.float64(-1.5673154544147105e-06), np.float64(-2.151457640540733e-07), np.float64(-1.4133633646809055e-09), np.float64(-2.0805862695981845e-06), np.float64(-1.3142365542336702e-06), np.float64(-7.014983050199787e-07), np.float64(-3.178725584802739e-07), np.float64(-2.8061482485222583e-06), np.float64(-6.192210189570194e-08), np.float64(-5.917300313650299e-07), np.float64(-2.3176572158718572e-07), np.float64(-3.379320574352288e-06), np.float64(-3.0503710012796767e-07), np.float64(-7.550122741075859e-07), np.float64(-7.818996176910604e-07), np.float64(-2.8318782391096923e-06), np.float64(-5.152383104825673e-05), np.float64(-9.618745521275596e-08), np.float64(-1.946653034705808e-09), np.float64(-0.00024254816658090237), np.float64(-7.494706364217386e-07), np.float64(-2.1598852233112034e-06), np.float64(-2.5553779510659022e-08), np.float64(-3.480434365889063e-07), np.float64(-1.0495184278024381e-07), np.float64(-9.566325454558081e-08), np.float64(-6.352243496386916e-07), np.float64(-3.185177724199567e-07), np.float64(-8.51266365197701e-06), np.float64(-9.467497346810418e-08), np.float64(-3.225215784031895e-07), np.float64(-2.6085894954706407e-11), np.float64(-7.353811777997985e-09), np.float64(-6.488748746726803e-06), np.float64(-2.9196140288649546e-08), np.float64(-8.646328594024956e-08), np.float64(-6.928250241203241e-08), np.float64(-1.5206873274508988e-07), np.float64(-6.465292136840125e-08), np.float64(-4.126577926373248e-09), np.float64(-4.6973855645216877e-07), np.float64(-4.1002825942520065e-09), np.float64(-4.793350611822124e-07), np.float64(-1.5806171310739222e-06), np.float64(-1.61692479841491e-06), np.float64(-5.794814636276831e-07), np.float64(-5.001081519798942e-07), np.float64(-3.6309859673786274e-07), np.float64(-1.206462593265917e-07), np.float64(-5.4493693115885365e-09), np.float64(-9.884330058955511e-08), np.float64(-5.022699116165789e-06), np.float64(-5.7554159660849985e-08), np.float64(-5.464459828406887e-10), np.float64(-2.123432450731603e-07), np.float64(-1.4421649493268069e-06), np.float64(-1.643728916785821e-07), np.float64(-2.8119713179056916e-08), np.float64(-1.0383564846658872e-07), np.float64(-1.9914081208829522e-07), np.float64(-3.048982601401171e-07), np.float64(-3.934390663610983e-08), np.float64(-1.48451614315344e-07), np.float64(-4.998532780411456e-09), np.float64(-4.839201666471424e-07), np.float64(-1.4934498321033862e-07), np.float64(-1.1606304269364017e-06), np.float64(-7.224696617996245e-11), np.float64(-5.152588557719891e-07), np.float64(-5.174502608335339e-07), np.float64(-7.609781405018346e-08), np.float64(-1.0774936289749214e-08), np.float64(-3.2364922019500094e-09), np.float64(-1.214640209067266e-08), np.float64(-2.2501780658991845e-07), np.float64(-2.2684070482790644e-08), np.float64(-1.9066241762443283e-06), np.float64(-7.009384147424127e-06), np.float64(-1.424650778602401e-08), np.float64(-2.758543745076468e-09), np.float64(-1.0949000237661518e-06), np.float64(-1.4149553532817555e-06), np.float64(-1.4059321118639976e-07), np.float64(-1.031316720153797e-07), np.float64(-1.3291767484351457e-06), np.float64(-3.9636338739398186e-12), np.float64(-1.753430785309513e-07), np.float64(-3.736914501486211e-08), np.float64(-1.3383943815349823e-08), np.float64(-2.078471910514926e-09), np.float64(-6.823157157830953e-07), np.float64(-2.0077927128889176e-09), np.float64(-4.111887809257962e-07), np.float64(-9.240301056091326e-09), np.float64(-2.3495288521759467e-06), np.float64(-9.247121009494074e-07), np.float64(-5.908240202191159e-08), np.float64(-4.900607424692239e-10), np.float64(-6.286001198143704e-09), np.float64(-1.6379663483798717e-11), np.float64(-1.416209746862993e-08), np.float64(-3.615258763895225e-07), np.float64(-1.927243321785048e-07), np.float64(-5.921389718931677e-07), np.float64(-2.0419500357494155e-07), np.float64(-2.749231718355035e-05), np.float64(-1.7545950832487176e-06), np.float64(-5.335390198641908e-07), np.float64(-2.5947570119614774e-06), np.float64(-3.4565090140255645e-11), np.float64(-2.6800376961075754e-06), np.float64(-2.2811191724653928e-08), np.float64(-1.8231605735382136e-06), np.float64(-1.0199681582848664e-06), np.float64(-1.1625859375122787e-07), np.float64(-6.679918867570356e-09), np.float64(-5.233137812755488e-08), np.float64(-1.7773121035553712e-06), np.float64(-2.1687921260294207e-09), np.float64(-1.8560836610100827e-06), np.float64(-1.7072390665067504e-08), np.float64(-2.613276404730032e-06), np.float64(-1.1837017895658886e-05), np.float64(-3.300600562696998e-05), np.float64(-1.0443783000594779e-08), np.float64(-3.349100124859056e-06), np.float64(-3.783797471990991e-06), np.float64(-1.0757211706991259e-11), np.float64(-6.966721491921821e-08), np.float64(-5.487973311343589e-06), np.float64(-2.511844433296193e-07), np.float64(-4.310468676252249e-09), np.float64(-9.007882231921204e-07), np.float64(-4.122033409317244e-06), np.float64(-2.9830884006861894e-07), np.float64(-2.4318810059164868e-05), np.float64(-9.127850783682732e-07), np.float64(-2.5976112793185702e-06), np.float64(-1.2867260480500277e-07), np.float64(-8.618218767104891e-08), np.float64(-6.41507572325543e-08), np.float64(-1.487854592848225e-06), np.float64(-1.287683790648772e-07), np.float64(-7.725174204137581e-09), np.float64(-3.372070713738425e-06), np.float64(-9.57027830489875e-07), np.float64(-1.163224030093492e-09), np.float64(-1.6575021129118484e-08), np.float64(-4.996496188645432e-08), np.float64(-1.1579471872415806e-05), np.float64(-1.999215621829806e-08), np.float64(-7.119787431822525e-09), np.float64(-1.1522644224881945e-06), np.float64(-1.5644745615243775e-06), np.float64(-2.8644923983161513e-08), np.float64(-8.112256366657197e-07), np.float64(-2.2101277025897954e-07), np.float64(-7.589789460540484e-07), np.float64(-3.2227730310309244e-07), np.float64(-1.782670166537892e-08), np.float64(-5.921465121613451e-07), np.float64(-3.59913468216347e-08), np.float64(-9.898301775547396e-08), np.float64(-1.5638441054157726e-07), np.float64(-1.012950246506043e-09), np.float64(-2.444204238644496e-07), np.float64(-3.132790604211529e-09), np.float64(-1.0258648567967003e-07), np.float64(-1.4203547091443863e-09), np.float64(-1.724093255799026e-07), np.float64(-5.647586257531206e-06), np.float64(-9.861758418592357e-10), np.float64(-2.01103550096255e-07), np.float64(-3.573685359278022e-08), np.float64(-4.6035006205595606e-08), np.float64(-4.968293020421945e-07), np.float64(-1.391116351067999e-07), np.float64(-5.197092921875508e-08), np.float64(-2.127295140284889e-10), np.float64(-9.895186405217956e-09), np.float64(-6.679637910846984e-08), np.float64(-4.926331508651769e-09), np.float64(-3.2317277625680166e-07), np.float64(-2.2583829495176473e-07), np.float64(-2.6430555840825834e-07), np.float64(-9.826312635879747e-10), np.float64(-2.1046349532249025e-08), np.float64(-1.2127494456135588e-07), np.float64(-6.633999219034991e-08), np.float64(-9.237344616293434e-11), np.float64(-1.0682672236756855e-09), np.float64(-2.3321226182151548e-07), np.float64(-3.916092165758899e-11), np.float64(-3.1983749159374727e-06), np.float64(-4.189928067636267e-09), np.float64(-3.859984138137475e-09), np.float64(-9.64928325423905e-08), np.float64(-4.6829848412780307e-07), np.float64(-6.797959733736566e-07), np.float64(-7.970827072116898e-09), np.float64(-2.498611648975317e-08), np.float64(-1.7597143957341935e-07), np.float64(-4.8704048919117485e-09), np.float64(-1.1966280380033544e-08), np.float64(-9.680064769990887e-08), np.float64(-4.507900856097395e-13), np.float64(-4.273590753121045e-08), np.float64(-3.362141492260522e-07), np.float64(-3.9567846737021656e-08), np.float64(-3.156267498057436e-08), np.float64(-4.482561475389084e-09), np.float64(-1.0911485016266039e-11), np.float64(-2.9733354978248525e-11), np.float64(-1.2635344338075517e-08), np.float64(-2.475758757926261e-10), np.float64(-2.3780853594373705e-10), np.float64(-3.646945269858796e-12), np.float64(-3.800915680064488e-08), np.float64(-1.0765594566390054e-09), np.float64(-1.275772415405721e-09), np.float64(-6.148023648618692e-08), np.float64(-6.901850148257482e-10), np.float64(-7.491635373704984e-08), np.float64(-1.524861189827036e-09), np.float64(-5.6887175905241764e-08), np.float64(-5.236499523146064e-08), np.float64(-4.7354622368094024e-08), np.float64(-2.7307217300267087e-09), np.float64(-2.3400898134856673e-09), np.float64(-4.543244470493941e-09), np.float64(-8.2960020446315e-09), np.float64(-1.0228855398391577e-08), np.float64(-3.4418663456840464e-08), np.float64(-9.068597253397693e-08), np.float64(-2.619723439519561e-07), np.float64(-8.201196485736829e-10), np.float64(-1.211623483740132e-09), np.float64(-7.40186886971019e-09), np.float64(-1.1973063777409982e-08), np.float64(-7.566050730640987e-08), np.float64(-1.2280334590010984e-09), np.float64(-2.532765270215838e-08), np.float64(-2.7751866270848165e-10), np.float64(-4.301554549037084e-09), np.float64(-4.54652042985624e-08), np.float64(-3.984815922555984e-08), np.float64(-5.121914251878537e-08), np.float64(-1.3159124009573026e-08), np.float64(-7.534824864810522e-09), np.float64(-6.167402326573796e-09), np.float64(-1.7174196882615592e-08), np.float64(-3.441982252071583e-11), np.float64(-9.994333455624341e-09), np.float64(-4.511116152309049e-10), np.float64(-1.8104817227538385e-10), np.float64(-5.107117924881066e-09), np.float64(-2.9505768317449256e-10), np.float64(-1.5537278588215186e-12), np.float64(-2.0015520361066013e-08), np.float64(-7.499072457073622e-09), np.float64(-2.102456516375915e-08), np.float64(-1.7211079052061953e-10), np.float64(-4.333555116474504e-12), np.float64(-7.69942596213498e-11), np.float64(-3.958314776063784e-12), np.float64(-1.2382610533233366e-10), np.float64(-3.7475462045797016e-11), np.float64(-1.6213706733005075e-08), np.float64(-3.52333540720595e-10), np.float64(-2.640003762941427e-09), np.float64(-1.8328845623183136e-10), np.float64(-9.582564884964243e-10), np.float64(-1.5759523785314603e-11), np.float64(-2.1753600016629393e-12), np.float64(-7.033409170872975e-13), np.float64(-6.485510066593045e-11), np.float64(-1.141939974525444e-09), np.float64(-1.371342079930859e-09), np.float64(-1.1123363237684486e-08), np.float64(-3.0809623995523613e-09), np.float64(-2.458401533687072e-09), np.float64(-1.2418846058729831e-08), np.float64(-4.5432131831652985e-11), np.float64(-2.162201222121074e-12), np.float64(-7.577079259899416e-08), np.float64(-1.4548451888755657e-09), np.float64(-1.9029007362150247e-08), np.float64(-2.0580387420141755e-09), np.float64(-1.6037856989222156e-08), np.float64(-1.089529540440262e-08), np.float64(-4.4038091298872266e-08), np.float64(-7.646540176093596e-09), np.float64(-3.902786975771039e-09), np.float64(-6.6459516029374065e-12), np.float64(-1.882523065949458e-09), np.float64(-1.2241665093887742e-10), np.float64(-5.628327829770258e-12), np.float64(-9.309311437842309e-10), np.float64(-2.761911715641162e-09), np.float64(-1.3873682270435365e-11), np.float64(-2.5324909433593644e-09), np.float64(-2.2706214204871845e-11), np.float64(-2.222294992948355e-12), np.float64(-6.501075809250518e-09), np.float64(-3.7900438988216e-09), np.float64(-6.599980284643875e-09), np.float64(-1.9210112583886814e-08), np.float64(-8.483920019825702e-14), np.float64(-3.408782166586441e-11), np.float64(-3.199056625796336e-11), np.float64(-2.333121597613342e-10), np.float64(-3.935731792551236e-11), np.float64(-3.0779823037379274e-08), np.float64(-7.837276261144543e-08), np.float64(-8.080057737429604e-10), np.float64(-2.1856064582445538e-08), np.float64(-2.8458036881167035e-11), np.float64(-1.0495831623789266e-07), np.float64(-3.4220369104903593e-09), np.float64(-2.6847457766208316e-12), np.float64(-1.7186176404650102e-09), np.float64(-1.7581917732728072e-07), np.float64(-5.4456111929091536e-09), np.float64(-2.81363987315919e-09), np.float64(-4.042859104152205e-08), np.float64(-2.0937155415534972e-08), np.float64(-5.4994967547339135e-08), np.float64(-2.997436661996405e-11), np.float64(-3.6582418353866804e-09), np.float64(-1.0514189108092668e-09), np.float64(-1.519911327020755e-08), np.float64(-6.24352009987919e-09), np.float64(-1.5966316403566523e-09), np.float64(-2.728364300363679e-12), np.float64(-3.663662082178319e-10), np.float64(-5.3215970432410945e-12), np.float64(-5.414694090814311e-12), np.float64(-1.7602220581388458e-08), np.float64(-3.498033897372303e-08), np.float64(-4.673699953739791e-15), np.float64(-4.6691417072358724e-08), np.float64(-2.668044880548409e-08), np.float64(-2.4373689694918716e-09), np.float64(-6.279517511300752e-13), np.float64(-3.543568625589144e-08), np.float64(-1.860380744360171e-12), np.float64(-4.6787284482701655e-12), np.float64(-1.4999184583124272e-09), np.float64(-1.5952512839383137e-13), np.float64(-8.652169565358306e-09), np.float64(-5.521323288309861e-09), np.float64(-1.579899205460955e-13), np.float64(-9.459569703690037e-10), np.float64(-1.1264767462896962e-10), np.float64(-2.2304321858400687e-09), np.float64(-3.1248599639589455e-12), np.float64(-2.919545684879231e-09), np.float64(-2.2592334048680163e-12), np.float64(-1.0604904685300722e-08), np.float64(-2.8778537322543673e-10), np.float64(-4.251981948184711e-09), np.float64(-3.1342400692062934e-13), np.float64(-1.7352675020108538e-12), np.float64(-2.9996708838267875e-10), np.float64(-5.9384079275250215e-09), np.float64(-3.827480519622827e-14), np.float64(-1.7262509147882635e-08), np.float64(-2.318447684605965e-09), np.float64(-6.261089301123144e-11), np.float64(-3.888275057047837e-15), np.float64(-2.101928830874076e-14), np.float64(-4.659506479440767e-10), np.float64(-5.73403765880633e-17), np.float64(-2.1937309690269886e-11), np.float64(-6.488497818743467e-11), np.float64(-2.609447209219077e-16), np.float64(-3.1726058949544268e-09), np.float64(-9.363713125859906e-15), np.float64(-1.5827882481789626e-09), np.float64(-9.960644258510108e-15), np.float64(-1.541912396145452e-08), np.float64(-3.4716324176986507e-09), np.float64(-3.514167535360009e-08), np.float64(-9.677413943504746e-12), np.float64(-3.1652610161862027e-12), np.float64(-1.4662835620422566e-13), np.float64(-3.2387438378828693e-13), np.float64(-9.865142383312282e-15), np.float64(-5.348495021796042e-14), np.float64(-1.0425127745635624e-09), np.float64(-9.632392205605275e-14), np.float64(-2.029946303085418e-09), np.float64(-4.840497479875468e-09), np.float64(-3.88426690680583e-09), np.float64(-1.2674435061588917e-09), np.float64(-3.5333753673329604e-11), np.float64(-4.4418058203954554e-11), np.float64(-9.757890849584123e-11), np.float64(-1.9949080724888144e-09), np.float64(-1.5973380825461955e-08), np.float64(-2.6153615239539114e-09), np.float64(-2.923752065500936e-13), np.float64(-1.1892355161714498e-12), np.float64(-3.535848321928099e-10), np.float64(-1.1647543897267115e-10), np.float64(-4.246847246555834e-09), np.float64(-6.265157299753465e-09), np.float64(-1.0945502600614702e-08), np.float64(-5.390511871541695e-10), np.float64(-0.0), np.float64(-0.0), np.float64(-0.0), np.float64(-0.0), np.float64(-0.0), np.float64(-0.0), np.float64(-0.0), np.float64(-0.0), np.float64(-0.0), np.float64(-0.0), np.float64(-0.0), np.float64(-0.0), np.float64(-0.0), np.float64(-0.0), np.float64(-0.0), np.float64(-0.0), np.float64(-0.0), np.float64(-0.0), np.float64(-0.0), np.float64(-0.0), np.float64(-0.0), np.float64(-0.0), np.float64(-0.0), np.float64(-0.0), np.float64(-0.0), np.float64(-0.0), np.float64(-0.0), np.float64(-0.0), np.float64(-0.0), np.float64(-0.0), np.float64(-0.0), np.float64(-0.0), np.float64(-0.0), np.float64(-0.0), np.float64(-0.0), np.float64(-0.0), np.float64(-0.0), np.float64(-0.0), np.float64(-0.0), np.float64(-0.0), np.float64(-0.0), np.float64(-0.0), np.float64(-0.0), np.float64(-0.0), np.float64(-0.0), np.float64(-0.0), np.float64(-0.0), np.float64(-0.0), np.float64(-0.0), np.float64(-0.0), np.float64(-0.0), np.float64(-0.0), np.float64(-0.0), np.float64(-0.0), np.float64(-0.0), np.float64(-0.0), np.float64(-0.0), np.float64(-0.0), np.float64(-0.0), np.float64(-0.0), np.float64(-0.0), np.float64(-0.0), np.float64(-0.0), np.float64(-0.0), np.float64(-0.0), np.float64(-0.0), np.float64(-0.0), np.float64(-0.0), np.float64(-0.0), np.float64(-0.0), np.float64(-0.0), np.float64(-0.0), np.float64(-0.0), np.float64(-0.0), np.float64(-0.0), np.float64(-0.0), np.float64(-0.0), np.float64(-0.0), np.float64(-0.0), np.float64(-0.0), np.float64(-0.0), np.float64(-0.0), np.float64(-0.0), np.float64(-0.0), np.float64(-0.0), np.float64(-0.0), np.float64(-0.0), np.float64(-0.0), np.float64(-0.0), np.float64(-0.0), np.float64(-0.0), np.float64(-0.0), np.float64(-0.0), np.float64(-0.0), np.float64(-0.0), np.float64(-0.0), np.float64(-0.0), np.float64(-0.0), np.float64(-0.0), np.float64(-0.0), np.float64(-0.0), np.float64(-0.0), np.float64(-0.0), np.float64(-0.0), np.float64(-0.0), np.float64(-0.0), np.float64(-0.0), np.float64(-0.0), np.float64(-0.0), np.float64(-0.0), np.float64(-0.0), np.float64(-0.0), np.float64(-0.0), np.float64(-0.0), np.float64(-0.0), np.float64(-0.0), np.float64(-0.0), np.float64(-0.0), np.float64(-0.0), np.float64(-0.0), np.float64(-0.0), np.float64(-0.0), np.float64(-0.0), np.float64(-0.0), np.float64(-0.0), np.float64(-0.0), np.float64(-0.0), np.float64(-0.0), np.float64(-0.0)]\n"
     ]
    }
   ],
   "source": [
    "from gymnasium.wrappers import RecordEpisodeStatistics, RecordVideo\n",
    "num_eval_episodes = 1\n",
    "\n",
    "episode_over = False\n",
    "rewards = list()\n",
    "actions = list()\n",
    "pnl = list()\n",
    "obs, info = env.reset()\n",
    "while not episode_over:\n",
    "    action, _states = model.predict(obs, deterministic=False)  # replace with actual agent\n",
    "    obs, reward, terminated, truncated, info = env.step(action)\n",
    "    rewards.append(reward)\n",
    "    actions.append(action)\n",
    "    pnl.append(info['P&L'])\n",
    "    episode_over = terminated or truncated\n",
    "env.close()\n",
    "\n",
    "print(f'Example action taken: {actions[0]}')\n",
    "print(f'Episode rewards: {rewards}')"
   ]
  },
  {
   "cell_type": "code",
   "execution_count": 89,
   "metadata": {},
   "outputs": [],
   "source": [
    "num_eval_episodes = 10\n",
    "\n",
    "rewards_tot = list()\n",
    "actions_tot = list()\n",
    "pnl_tot = list()\n",
    "obs, info = env.reset()\n",
    "for i in range(num_eval_episodes):\n",
    "    episode_over = False\n",
    "    rewards = list()\n",
    "    actions = list()\n",
    "    pnl = list()\n",
    "    obs, info = env.reset()\n",
    "    while not episode_over:\n",
    "        action, _states = model.predict(obs, deterministic=False)  # replace with actual agent\n",
    "        obs, reward, terminated, truncated, info = env.step(action)\n",
    "        rewards.append(reward)\n",
    "        actions.append(action)\n",
    "        pnl.append(info['P&L'])\n",
    "        episode_over = terminated or truncated\n",
    "    env.close()\n",
    "    rewards_tot.append(rewards)\n",
    "    actions_tot.append(actions)\n",
    "    pnl_tot.append(pnl)"
   ]
  },
  {
   "cell_type": "code",
   "execution_count": 74,
   "metadata": {},
   "outputs": [
    {
     "data": {
      "text/plain": [
       "[<matplotlib.lines.Line2D at 0x36ac3a350>]"
      ]
     },
     "execution_count": 74,
     "metadata": {},
     "output_type": "execute_result"
    },
    {
     "data": {
      "image/png": "[encoded data removed]",
      "text/plain": [
       "<Figure size 640x480 with 1 Axes>"
      ]
     },
     "metadata": {},
     "output_type": "display_data"
    }
   ],
   "source": [
    "plt.figure(1)\n",
    "plt.title(\"Example PnL, Delta hedge, rebalancing once a day\")\n",
    "plt.grid()\n",
    "plt.ticklabel_format(axis='y', style='sci', scilimits=(-4,-4))\n",
    "plt.plot(pnl_tot[9])"
   ]
  },
  {
   "cell_type": "code",
   "execution_count": 94,
   "metadata": {},
   "outputs": [
    {
     "ename": "TypeError",
     "evalue": "list indices must be integers or slices, not list",
     "output_type": "error",
     "traceback": [
      "\u001b[31m---------------------------------------------------------------------------\u001b[39m",
      "\u001b[31mTypeError\u001b[39m                                 Traceback (most recent call last)",
      "\u001b[36mCell\u001b[39m\u001b[36m \u001b[39m\u001b[32mIn[94]\u001b[39m\u001b[32m, line 1\u001b[39m\n\u001b[32m----> \u001b[39m\u001b[32m1\u001b[39m np.mean([np.percentile(\u001b[43mpnl\u001b[49m\u001b[43m[\u001b[49m\u001b[43mi\u001b[49m\u001b[43m]\u001b[49m, \u001b[32m5\u001b[39m) \u001b[38;5;28;01mfor\u001b[39;00m i \u001b[38;5;129;01min\u001b[39;00m pnl_tot])\n",
      "\u001b[31mTypeError\u001b[39m: list indices must be integers or slices, not list"
     ]
    }
   ],
   "source": [
    "np.mean([np.percentile(pnl[i], 5) for i in pnl_tot])"
   ]
  },
  {
   "cell_type": "code",
   "execution_count": null,
   "metadata": {},
   "outputs": [],
   "source": []
  },
  {
   "cell_type": "markdown",
   "metadata": {},
   "source": [
    "def pnl_cva(path):\n",
    "    pnl_without_hedge = np.zeros(len(path.CVA)-1)\n",
    "    for i in range(1, len(path.CVA)):\n",
    "        pnl_without_hedge[i-1] = path.CVA[i]-path.CVA[i-1]\n",
    "    return pnl_without_hedge\n",
    "\n",
    "pnl_without_hedge = [None]*len(paths)\n",
    "for i in range(len(pnl_without_hedge)):\n",
    "    pnl_without_hedge[i] = pnl_cva(paths[i])\n",
    "\n",
    "plt.figure(2)\n",
    "# Extract the 5% worst percentile values from each array\n",
    "var_values_no_hedge = np.array([np.percentile(p,5) for p in pnl_without_hedge]) # is this really VaR?\n",
    "\n",
    "var_values_no_hedge"
   ]
  },
  {
   "cell_type": "code",
   "execution_count": 69,
   "metadata": {},
   "outputs": [
    {
     "ename": "TypeError",
     "evalue": "object of type 'numpy.float64' has no len()",
     "output_type": "error",
     "traceback": [
      "\u001b[31m---------------------------------------------------------------------------\u001b[39m",
      "\u001b[31mTypeError\u001b[39m                                 Traceback (most recent call last)",
      "\u001b[36mCell\u001b[39m\u001b[36m \u001b[39m\u001b[32mIn[69]\u001b[39m\u001b[32m, line 1\u001b[39m\n\u001b[32m----> \u001b[39m\u001b[32m1\u001b[39m \u001b[38;5;28;43mlen\u001b[39;49m\u001b[43m(\u001b[49m\u001b[43mvar_values_no_hedge\u001b[49m\u001b[43m[\u001b[49m\u001b[32;43m0\u001b[39;49m\u001b[43m]\u001b[49m\u001b[43m)\u001b[49m\n",
      "\u001b[31mTypeError\u001b[39m: object of type 'numpy.float64' has no len()"
     ]
    }
   ],
   "source": []
  },
  {
   "cell_type": "code",
   "execution_count": null,
   "metadata": {},
   "outputs": [],
   "source": []
  }
 ],
 "metadata": {
  "kernelspec": {
   "display_name": "Pythonkurs",
   "language": "python",
   "name": "python3"
  },
  "language_info": {
   "codemirror_mode": {
    "name": "ipython",
    "version": 3
   },
   "file_extension": ".py",
   "mimetype": "text/x-python",
   "name": "python",
   "nbconvert_exporter": "python",
   "pygments_lexer": "ipython3",
   "version": "3.13.2"
  },
  "orig_nbformat": 4
 },
 "nbformat": 4,
 "nbformat_minor": 2
}
