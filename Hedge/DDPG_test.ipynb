{
 "cells": [
  {
   "cell_type": "markdown",
   "metadata": {},
   "source": [
    "### Imports and Environment"
   ]
  },
  {
   "cell_type": "code",
   "execution_count": 47,
   "metadata": {},
   "outputs": [],
   "source": [
    "import gymnasium as gym\n",
    "from stable_baselines3 import DDPG\n",
    "from stable_baselines3.common.noise import NormalActionNoise, OrnsteinUhlenbeckActionNoise\n",
    "\n",
    "import numpy as np\n",
    "\n",
    "import collections\n",
    "import gymnasium as gym\n",
    "import numpy as np\n",
    "import os\n",
    "\n",
    "import tqdm\n",
    "\n",
    "from matplotlib import pyplot as plt\n",
    "from typing import Any, List, Sequence, Tuple\n",
    "\n",
    "import pickle\n",
    "\n",
    "import path_datatype\n",
    "import sys\n",
    "\n",
    "from env import tradingEng\n",
    "\n",
    "# Define environment\n",
    "file_path = os.path.abspath(\"../MarketGeneratingFunctions/1.6kRunDemo.pkl\")\n",
    "with open(file_path,\"rb\") as fp:\n",
    "    paths = pickle.load(fp)\n",
    "# env = tradingEng(paths)"
   ]
  },
  {
   "cell_type": "code",
   "execution_count": 141,
   "metadata": {},
   "outputs": [],
   "source": [
    "import importlib\n",
    "import env\n",
    "importlib.reload(env) \n",
    "env = env.tradingEng(paths)"
   ]
  },
  {
   "cell_type": "code",
   "execution_count": 134,
   "metadata": {},
   "outputs": [
    {
     "ename": "AssertionError",
     "evalue": "The observation returned by the `reset()` method does not match the data type (cannot cast) of the given observation space Box([  0.   0.   0.   0.   0.   0.   0.   0.   0.   0.   0.   0.   0.   0.\n   0.   0.   0.   0.   0.   0.   0.   0.   0.   0.   0.   0.   0.   0.\n   0.   0.   0.   0.   0.   0.   0.   0. -inf], [ 1.  1.  1.  1.  1.  1.  1.  1.  1.  1.  1.  1.  1.  1.  1.  1.  1.  1.\n inf inf inf inf inf inf inf inf inf  1.  1.  1.  1.  1.  1.  1.  1.  1.\n inf], (37,), float32). Expected: float32, actual dtype: float64",
     "output_type": "error",
     "traceback": [
      "\u001b[31m---------------------------------------------------------------------------\u001b[39m",
      "\u001b[31mAssertionError\u001b[39m                            Traceback (most recent call last)",
      "\u001b[36mCell\u001b[39m\u001b[36m \u001b[39m\u001b[32mIn[134]\u001b[39m\u001b[32m, line 3\u001b[39m\n\u001b[32m      1\u001b[39m \u001b[38;5;28;01mfrom\u001b[39;00m\u001b[38;5;250m \u001b[39m\u001b[34;01mstable_baselines3\u001b[39;00m\u001b[34;01m.\u001b[39;00m\u001b[34;01mcommon\u001b[39;00m\u001b[34;01m.\u001b[39;00m\u001b[34;01menv_checker\u001b[39;00m\u001b[38;5;250m \u001b[39m\u001b[38;5;28;01mimport\u001b[39;00m check_env\n\u001b[32m----> \u001b[39m\u001b[32m3\u001b[39m \u001b[43mcheck_env\u001b[49m\u001b[43m(\u001b[49m\u001b[43menv\u001b[49m\u001b[43m,\u001b[49m\u001b[43m \u001b[49m\u001b[43mwarn\u001b[49m\u001b[43m=\u001b[49m\u001b[38;5;28;43;01mTrue\u001b[39;49;00m\u001b[43m,\u001b[49m\u001b[43m \u001b[49m\u001b[43mskip_render_check\u001b[49m\u001b[43m=\u001b[49m\u001b[38;5;28;43;01mTrue\u001b[39;49;00m\u001b[43m)\u001b[49m\n",
      "\u001b[36mFile \u001b[39m\u001b[32m~/opt/anaconda3/envs/exjobb/lib/python3.13/site-packages/stable_baselines3/common/env_checker.py:438\u001b[39m, in \u001b[36mcheck_env\u001b[39m\u001b[34m(env, warn, skip_render_check)\u001b[39m\n\u001b[32m    433\u001b[39m         warnings.warn(\n\u001b[32m    434\u001b[39m             \u001b[33mf\u001b[39m\u001b[33m\"\u001b[39m\u001b[33mYour action space has dtype \u001b[39m\u001b[38;5;132;01m{\u001b[39;00maction_space.dtype\u001b[38;5;132;01m}\u001b[39;00m\u001b[33m, we recommend using np.float32 to avoid cast errors.\u001b[39m\u001b[33m\"\u001b[39m\n\u001b[32m    435\u001b[39m         )\n\u001b[32m    437\u001b[39m \u001b[38;5;66;03m# ============ Check the returned values ===============\u001b[39;00m\n\u001b[32m--> \u001b[39m\u001b[32m438\u001b[39m \u001b[43m_check_returned_values\u001b[49m\u001b[43m(\u001b[49m\u001b[43menv\u001b[49m\u001b[43m,\u001b[49m\u001b[43m \u001b[49m\u001b[43mobservation_space\u001b[49m\u001b[43m,\u001b[49m\u001b[43m \u001b[49m\u001b[43maction_space\u001b[49m\u001b[43m)\u001b[49m\n\u001b[32m    440\u001b[39m \u001b[38;5;66;03m# ==== Check the render method and the declared render modes ====\u001b[39;00m\n\u001b[32m    441\u001b[39m \u001b[38;5;28;01mif\u001b[39;00m \u001b[38;5;129;01mnot\u001b[39;00m skip_render_check:\n",
      "\u001b[36mFile \u001b[39m\u001b[32m~/opt/anaconda3/envs/exjobb/lib/python3.13/site-packages/stable_baselines3/common/env_checker.py:275\u001b[39m, in \u001b[36m_check_returned_values\u001b[39m\u001b[34m(env, observation_space, action_space)\u001b[39m\n\u001b[32m    273\u001b[39m             \u001b[38;5;28;01mraise\u001b[39;00m \u001b[38;5;167;01mAssertionError\u001b[39;00m(\u001b[33mf\u001b[39m\u001b[33m\"\u001b[39m\u001b[33mError while checking key=\u001b[39m\u001b[38;5;132;01m{\u001b[39;00mkey\u001b[38;5;132;01m}\u001b[39;00m\u001b[33m: \u001b[39m\u001b[33m\"\u001b[39m + \u001b[38;5;28mstr\u001b[39m(e)) \u001b[38;5;28;01mfrom\u001b[39;00m\u001b[38;5;250m \u001b[39m\u001b[34;01me\u001b[39;00m\n\u001b[32m    274\u001b[39m \u001b[38;5;28;01melse\u001b[39;00m:\n\u001b[32m--> \u001b[39m\u001b[32m275\u001b[39m     \u001b[43m_check_obs\u001b[49m\u001b[43m(\u001b[49m\u001b[43mobs\u001b[49m\u001b[43m,\u001b[49m\u001b[43m \u001b[49m\u001b[43mobservation_space\u001b[49m\u001b[43m,\u001b[49m\u001b[43m \u001b[49m\u001b[33;43m\"\u001b[39;49m\u001b[33;43mreset\u001b[39;49m\u001b[33;43m\"\u001b[39;49m\u001b[43m)\u001b[49m\n\u001b[32m    277\u001b[39m \u001b[38;5;66;03m# Sample a random action\u001b[39;00m\n\u001b[32m    278\u001b[39m action = action_space.sample()\n",
      "\u001b[36mFile \u001b[39m\u001b[32m~/opt/anaconda3/envs/exjobb/lib/python3.13/site-packages/stable_baselines3/common/env_checker.py:200\u001b[39m, in \u001b[36m_check_obs\u001b[39m\u001b[34m(obs, observation_space, method_name)\u001b[39m\n\u001b[32m    193\u001b[39m \u001b[38;5;28;01mif\u001b[39;00m \u001b[38;5;28misinstance\u001b[39m(obs, np.ndarray):\n\u001b[32m    194\u001b[39m     \u001b[38;5;66;03m# check obs dimensions, dtype and bounds\u001b[39;00m\n\u001b[32m    195\u001b[39m     \u001b[38;5;28;01massert\u001b[39;00m observation_space.shape == obs.shape, (\n\u001b[32m    196\u001b[39m         \u001b[33mf\u001b[39m\u001b[33m\"\u001b[39m\u001b[33mThe observation returned by the `\u001b[39m\u001b[38;5;132;01m{\u001b[39;00mmethod_name\u001b[38;5;132;01m}\u001b[39;00m\u001b[33m()` method does not match the shape \u001b[39m\u001b[33m\"\u001b[39m\n\u001b[32m    197\u001b[39m         \u001b[33mf\u001b[39m\u001b[33m\"\u001b[39m\u001b[33mof the given observation space \u001b[39m\u001b[38;5;132;01m{\u001b[39;00mobservation_space\u001b[38;5;132;01m}\u001b[39;00m\u001b[33m. \u001b[39m\u001b[33m\"\u001b[39m\n\u001b[32m    198\u001b[39m         \u001b[33mf\u001b[39m\u001b[33m\"\u001b[39m\u001b[33mExpected: \u001b[39m\u001b[38;5;132;01m{\u001b[39;00mobservation_space.shape\u001b[38;5;132;01m}\u001b[39;00m\u001b[33m, actual shape: \u001b[39m\u001b[38;5;132;01m{\u001b[39;00mobs.shape\u001b[38;5;132;01m}\u001b[39;00m\u001b[33m\"\u001b[39m\n\u001b[32m    199\u001b[39m     )\n\u001b[32m--> \u001b[39m\u001b[32m200\u001b[39m     \u001b[38;5;28;01massert\u001b[39;00m np.can_cast(obs.dtype, observation_space.dtype), (\n\u001b[32m    201\u001b[39m         \u001b[33mf\u001b[39m\u001b[33m\"\u001b[39m\u001b[33mThe observation returned by the `\u001b[39m\u001b[38;5;132;01m{\u001b[39;00mmethod_name\u001b[38;5;132;01m}\u001b[39;00m\u001b[33m()` method does not match the data type (cannot cast) \u001b[39m\u001b[33m\"\u001b[39m\n\u001b[32m    202\u001b[39m         \u001b[33mf\u001b[39m\u001b[33m\"\u001b[39m\u001b[33mof the given observation space \u001b[39m\u001b[38;5;132;01m{\u001b[39;00mobservation_space\u001b[38;5;132;01m}\u001b[39;00m\u001b[33m. \u001b[39m\u001b[33m\"\u001b[39m\n\u001b[32m    203\u001b[39m         \u001b[33mf\u001b[39m\u001b[33m\"\u001b[39m\u001b[33mExpected: \u001b[39m\u001b[38;5;132;01m{\u001b[39;00mobservation_space.dtype\u001b[38;5;132;01m}\u001b[39;00m\u001b[33m, actual dtype: \u001b[39m\u001b[38;5;132;01m{\u001b[39;00mobs.dtype\u001b[38;5;132;01m}\u001b[39;00m\u001b[33m\"\u001b[39m\n\u001b[32m    204\u001b[39m     )\n\u001b[32m    205\u001b[39m     \u001b[38;5;28;01mif\u001b[39;00m \u001b[38;5;28misinstance\u001b[39m(observation_space, spaces.Box):\n\u001b[32m    206\u001b[39m         \u001b[38;5;28;01massert\u001b[39;00m np.all(obs >= observation_space.low), (\n\u001b[32m    207\u001b[39m             \u001b[33mf\u001b[39m\u001b[33m\"\u001b[39m\u001b[33mThe observation returned by the `\u001b[39m\u001b[38;5;132;01m{\u001b[39;00mmethod_name\u001b[38;5;132;01m}\u001b[39;00m\u001b[33m()` method does not match the lower bound \u001b[39m\u001b[33m\"\u001b[39m\n\u001b[32m    208\u001b[39m             \u001b[33mf\u001b[39m\u001b[33m\"\u001b[39m\u001b[33mof the given observation space \u001b[39m\u001b[38;5;132;01m{\u001b[39;00mobservation_space\u001b[38;5;132;01m}\u001b[39;00m\u001b[33m.\u001b[39m\u001b[33m\"\u001b[39m\n\u001b[32m    209\u001b[39m             \u001b[33mf\u001b[39m\u001b[33m\"\u001b[39m\u001b[33mExpected: obs >= \u001b[39m\u001b[38;5;132;01m{\u001b[39;00mnp.min(observation_space.low)\u001b[38;5;132;01m}\u001b[39;00m\u001b[33m, \u001b[39m\u001b[33m\"\u001b[39m\n\u001b[32m    210\u001b[39m             \u001b[33mf\u001b[39m\u001b[33m\"\u001b[39m\u001b[33mactual min value: \u001b[39m\u001b[38;5;132;01m{\u001b[39;00mnp.min(obs)\u001b[38;5;132;01m}\u001b[39;00m\u001b[33m at index \u001b[39m\u001b[38;5;132;01m{\u001b[39;00mnp.argmin(obs)\u001b[38;5;132;01m}\u001b[39;00m\u001b[33m\"\u001b[39m\n\u001b[32m    211\u001b[39m         )\n",
      "\u001b[31mAssertionError\u001b[39m: The observation returned by the `reset()` method does not match the data type (cannot cast) of the given observation space Box([  0.   0.   0.   0.   0.   0.   0.   0.   0.   0.   0.   0.   0.   0.\n   0.   0.   0.   0.   0.   0.   0.   0.   0.   0.   0.   0.   0.   0.\n   0.   0.   0.   0.   0.   0.   0.   0. -inf], [ 1.  1.  1.  1.  1.  1.  1.  1.  1.  1.  1.  1.  1.  1.  1.  1.  1.  1.\n inf inf inf inf inf inf inf inf inf  1.  1.  1.  1.  1.  1.  1.  1.  1.\n inf], (37,), float32). Expected: float32, actual dtype: float64"
     ]
    }
   ],
   "source": [
    "from stable_baselines3.common.env_checker import check_env\n",
    "\n",
    "check_env(env, warn=True, skip_render_check=True)"
   ]
  },
  {
   "cell_type": "markdown",
   "metadata": {},
   "source": [
    "### Making the Agent"
   ]
  },
  {
   "cell_type": "code",
   "execution_count": 142,
   "metadata": {},
   "outputs": [
    {
     "name": "stdout",
     "output_type": "stream",
     "text": [
      "Using cpu device\n",
      "Wrapping the env with a `Monitor` wrapper\n",
      "Wrapping the env in a DummyVecEnv.\n"
     ]
    },
    {
     "name": "stderr",
     "output_type": "stream",
     "text": [
      "/Users/isabellebyman/opt/anaconda3/envs/exjobb/lib/python3.13/site-packages/stable_baselines3/common/buffers.py:229: UserWarning: This system does not have apparently enough memory to store the complete replay buffer 0.38GB > 0.33GB\n",
      "  warnings.warn(\n"
     ]
    }
   ],
   "source": [
    "n_actions = 18\n",
    "action_noise = OrnsteinUhlenbeckActionNoise(mean = np.zeros(n_actions), sigma = 0.05*np.ones(n_actions), theta = 0.01)\n",
    "model = DDPG(\"MlpPolicy\", env, action_noise=action_noise, verbose=1, batch_size=25)"
   ]
  },
  {
   "cell_type": "markdown",
   "metadata": {},
   "source": [
    "### Training the Agent"
   ]
  },
  {
   "cell_type": "code",
   "execution_count": 143,
   "metadata": {},
   "outputs": [
    {
     "name": "stdout",
     "output_type": "stream",
     "text": [
      "---------------------------------\n",
      "| rollout/           |          |\n",
      "|    ep_len_mean     | 1.3e+03  |\n",
      "|    ep_rew_mean     | -0.0135  |\n",
      "| time/              |          |\n",
      "|    episodes        | 2        |\n",
      "|    fps             | 231      |\n",
      "|    time_elapsed    | 11       |\n",
      "|    total_timesteps | 2602     |\n",
      "| train/             |          |\n",
      "|    actor_loss      | -0.314   |\n",
      "|    critic_loss     | 0.000169 |\n",
      "|    learning_rate   | 0.001    |\n",
      "|    n_updates       | 1301     |\n",
      "---------------------------------\n",
      "---------------------------------\n",
      "| rollout/           |          |\n",
      "|    ep_len_mean     | 1.3e+03  |\n",
      "|    ep_rew_mean     | -0.0147  |\n",
      "| time/              |          |\n",
      "|    episodes        | 4        |\n",
      "|    fps             | 139      |\n",
      "|    time_elapsed    | 37       |\n",
      "|    total_timesteps | 5204     |\n",
      "| train/             |          |\n",
      "|    actor_loss      | -0.684   |\n",
      "|    critic_loss     | 0.00036  |\n",
      "|    learning_rate   | 0.001    |\n",
      "|    n_updates       | 3903     |\n",
      "---------------------------------\n",
      "---------------------------------\n",
      "| rollout/           |          |\n",
      "|    ep_len_mean     | 1.3e+03  |\n",
      "|    ep_rew_mean     | -0.0162  |\n",
      "| time/              |          |\n",
      "|    episodes        | 6        |\n",
      "|    fps             | 131      |\n",
      "|    time_elapsed    | 59       |\n",
      "|    total_timesteps | 7806     |\n",
      "| train/             |          |\n",
      "|    actor_loss      | -0.62    |\n",
      "|    critic_loss     | 0.000269 |\n",
      "|    learning_rate   | 0.001    |\n",
      "|    n_updates       | 6505     |\n",
      "---------------------------------\n",
      "---------------------------------\n",
      "| rollout/           |          |\n",
      "|    ep_len_mean     | 1.3e+03  |\n",
      "|    ep_rew_mean     | -0.0156  |\n",
      "| time/              |          |\n",
      "|    episodes        | 8        |\n",
      "|    fps             | 125      |\n",
      "|    time_elapsed    | 83       |\n",
      "|    total_timesteps | 10408    |\n",
      "| train/             |          |\n",
      "|    actor_loss      | -2.01    |\n",
      "|    critic_loss     | 0.004    |\n",
      "|    learning_rate   | 0.001    |\n",
      "|    n_updates       | 9107     |\n",
      "---------------------------------\n",
      "---------------------------------\n",
      "| rollout/           |          |\n",
      "|    ep_len_mean     | 1.3e+03  |\n",
      "|    ep_rew_mean     | -0.0171  |\n",
      "| time/              |          |\n",
      "|    episodes        | 10       |\n",
      "|    fps             | 122      |\n",
      "|    time_elapsed    | 106      |\n",
      "|    total_timesteps | 13010    |\n",
      "| train/             |          |\n",
      "|    actor_loss      | -3.76    |\n",
      "|    critic_loss     | 0.0142   |\n",
      "|    learning_rate   | 0.001    |\n",
      "|    n_updates       | 11709    |\n",
      "---------------------------------\n",
      "---------------------------------\n",
      "| rollout/           |          |\n",
      "|    ep_len_mean     | 1.3e+03  |\n",
      "|    ep_rew_mean     | -0.0163  |\n",
      "| time/              |          |\n",
      "|    episodes        | 12       |\n",
      "|    fps             | 120      |\n",
      "|    time_elapsed    | 129      |\n",
      "|    total_timesteps | 15612    |\n",
      "| train/             |          |\n",
      "|    actor_loss      | -3.35    |\n",
      "|    critic_loss     | 0.00977  |\n",
      "|    learning_rate   | 0.001    |\n",
      "|    n_updates       | 14311    |\n",
      "---------------------------------\n",
      "---------------------------------\n",
      "| rollout/           |          |\n",
      "|    ep_len_mean     | 1.3e+03  |\n",
      "|    ep_rew_mean     | -0.0157  |\n",
      "| time/              |          |\n",
      "|    episodes        | 14       |\n",
      "|    fps             | 119      |\n",
      "|    time_elapsed    | 152      |\n",
      "|    total_timesteps | 18214    |\n",
      "| train/             |          |\n",
      "|    actor_loss      | -2.92    |\n",
      "|    critic_loss     | 0.00822  |\n",
      "|    learning_rate   | 0.001    |\n",
      "|    n_updates       | 16913    |\n",
      "---------------------------------\n",
      "---------------------------------\n",
      "| rollout/           |          |\n",
      "|    ep_len_mean     | 1.3e+03  |\n",
      "|    ep_rew_mean     | -0.0153  |\n",
      "| time/              |          |\n",
      "|    episodes        | 16       |\n",
      "|    fps             | 115      |\n",
      "|    time_elapsed    | 179      |\n",
      "|    total_timesteps | 20816    |\n",
      "| train/             |          |\n",
      "|    actor_loss      | -2.49    |\n",
      "|    critic_loss     | 0.00519  |\n",
      "|    learning_rate   | 0.001    |\n",
      "|    n_updates       | 19515    |\n",
      "---------------------------------\n",
      "---------------------------------\n",
      "| rollout/           |          |\n",
      "|    ep_len_mean     | 1.3e+03  |\n",
      "|    ep_rew_mean     | -0.015   |\n",
      "| time/              |          |\n",
      "|    episodes        | 18       |\n",
      "|    fps             | 113      |\n",
      "|    time_elapsed    | 205      |\n",
      "|    total_timesteps | 23418    |\n",
      "| train/             |          |\n",
      "|    actor_loss      | -2.07    |\n",
      "|    critic_loss     | 0.00327  |\n",
      "|    learning_rate   | 0.001    |\n",
      "|    n_updates       | 22117    |\n",
      "---------------------------------\n",
      "---------------------------------\n",
      "| rollout/           |          |\n",
      "|    ep_len_mean     | 1.3e+03  |\n",
      "|    ep_rew_mean     | -0.0147  |\n",
      "| time/              |          |\n",
      "|    episodes        | 20       |\n",
      "|    fps             | 112      |\n",
      "|    time_elapsed    | 232      |\n",
      "|    total_timesteps | 26020    |\n",
      "| train/             |          |\n",
      "|    actor_loss      | -1.77    |\n",
      "|    critic_loss     | 0.00242  |\n",
      "|    learning_rate   | 0.001    |\n",
      "|    n_updates       | 24719    |\n",
      "---------------------------------\n"
     ]
    }
   ],
   "source": [
    "Nruns = 10\n",
    "model.learn(total_timesteps=251*10*Nruns, log_interval=2)\n",
    "model.save(\"ddpg_fin\")"
   ]
  },
  {
   "cell_type": "markdown",
   "metadata": {},
   "source": [
    "### Run a test"
   ]
  },
  {
   "cell_type": "code",
   "execution_count": 114,
   "metadata": {},
   "outputs": [
    {
     "name": "stdout",
     "output_type": "stream",
     "text": [
      "Example action taken: [1.0000000e+00 1.0000000e+00 1.0000000e+00 3.2782555e-07 2.9802322e-08\n",
      " 1.0000000e+00 1.0000000e+00 9.9999976e-01 2.9802322e-08 9.9999994e-01\n",
      " 1.0000000e+00 1.0000000e+00 2.9802322e-08 1.0000000e+00 1.0000000e+00\n",
      " 1.0000000e+00 1.0000000e+00 5.9604645e-08]\n",
      "Episode rewards: [np.float64(-3.978088320667232e-07), np.float64(-1.8444214445742885e-06), np.float64(-5.896620332536703e-07), np.float64(-0.00012690283655406758), np.float64(-3.41742314532796e-05), np.float64(-7.409452865742383e-05), np.float64(-7.43929055260975e-05), np.float64(-1.3354905165779522e-05), np.float64(-3.4802397829479915e-06), np.float64(-6.496109987164224e-05), np.float64(-1.3500193127119231e-05), np.float64(-1.942326480012726e-06), np.float64(-3.91375562022431e-05), np.float64(-6.453511934184649e-06), np.float64(-0.0001488247824118882), np.float64(-6.915332619337118e-06), np.float64(-7.939267284793224e-06), np.float64(-2.58509369801341e-05), np.float64(-0.0001255851400268584), np.float64(-1.2888135136256417e-05), np.float64(-0.00011065166007299533), np.float64(-4.016622702291568e-05), np.float64(-1.887996056947199e-05), np.float64(-6.989895470766497e-06), np.float64(-1.7928278724542888e-05), np.float64(-2.5502263396480195e-05), np.float64(-0.0001168462639239826), np.float64(-5.529942796922816e-07), np.float64(-3.4190876961759455e-06), np.float64(-5.469324528938743e-06), np.float64(-1.6447809568976955e-06), np.float64(-3.523356983185666e-05), np.float64(-5.604022184163389e-05), np.float64(-4.473050784832488e-05), np.float64(-2.3740237079406274e-05), np.float64(-3.1126944546011236e-05), np.float64(-2.7318206787802364e-06), np.float64(-0.004932270230590218), np.float64(-1.3357511247011544e-05), np.float64(-0.00012356233386194584), np.float64(-1.8885370211619257e-05), np.float64(-1.372844485017605e-05), np.float64(-0.00016244859095092748), np.float64(-6.047230800177711e-06), np.float64(-4.9388969722116045e-05), np.float64(-0.00011498167461645404), np.float64(-2.0312294402832504e-05), np.float64(-1.2986130795487023e-05), np.float64(-3.229495693631296e-05), np.float64(-0.00021003041469770198), np.float64(-3.3503474284313166e-05), np.float64(-2.1442076962936992e-05), np.float64(-8.295787181211169e-05), np.float64(-0.00039501822833450063), np.float64(-8.328545248404073e-05), np.float64(-2.4098710582344416e-06), np.float64(-7.334060528756062e-08), np.float64(-3.101475715243586e-05), np.float64(-1.5712469659641437e-05), np.float64(-1.122570766531315e-05), np.float64(-2.3865114811617742e-05), np.float64(-0.00018807199415292366), np.float64(-0.00021016092200321527), np.float64(-1.4952636716522395e-05), np.float64(-2.5935374770073544e-05), np.float64(-5.18832392280958e-05), np.float64(-7.369555524229118e-06), np.float64(-4.484073819388685e-05), np.float64(-1.791325688733686e-05), np.float64(-2.6732145738864605e-05), np.float64(-7.330224351988676e-05), np.float64(-1.6096241927990247e-06), np.float64(-1.923190326404173e-07), np.float64(-1.0837873345258916e-05), np.float64(-1.8179624436533966e-06), np.float64(-5.2374883491181e-05), np.float64(-2.406661573729601e-06), np.float64(-1.2135261879348346e-05), np.float64(-3.2725802523389044e-06), np.float64(-2.1154828286358444e-05), np.float64(-2.7227714710869703e-05), np.float64(-9.855602683681952e-06), np.float64(-7.028010017564457e-06), np.float64(-1.7580844636881122e-05), np.float64(-7.51654247519808e-09), np.float64(-6.571024638031053e-05), np.float64(-1.039521001621475e-06), np.float64(-3.0676742373810146e-05), np.float64(-1.1413773212430923e-05), np.float64(-2.10036204427144e-05), np.float64(-4.703575044391336e-06), np.float64(-6.863778742019059e-06), np.float64(-3.836482583266183e-05), np.float64(-4.4990850392758436e-07), np.float64(-8.365975537425851e-08), np.float64(-1.033377275858299e-06), np.float64(-5.724771610110014e-07), np.float64(-6.270099981234407e-06), np.float64(-3.643342236186751e-05), np.float64(-3.2422708568228494e-05), np.float64(-3.6256364498301496e-05), np.float64(-6.41791537287889e-06), np.float64(-3.4165953856270506e-06), np.float64(-7.652185561813781e-07), np.float64(-1.2287592573476144e-05), np.float64(-3.0196508559824736e-07), np.float64(-2.1548447807417698e-05), np.float64(-5.081819865414282e-06), np.float64(-1.7055033375790793e-08), np.float64(-1.5062963063999362e-06), np.float64(-6.812604616002277e-06), np.float64(-8.40019526268369e-06), np.float64(-5.4876931474691387e-05), np.float64(-3.0134978809951463e-05), np.float64(-7.295892615909895e-06), np.float64(-2.9811134501568255e-08), np.float64(-1.3148872594050568e-05), np.float64(-1.2855165698920954e-05), np.float64(-4.4491609589735824e-05), np.float64(-5.4990835623774284e-06), np.float64(-5.299824845071588e-06), np.float64(-1.5412285391367115e-05), np.float64(-3.781797960178972e-06), np.float64(-1.7262443107138995e-05), np.float64(-4.70931904427748e-06), np.float64(-7.620920092721337e-07), np.float64(-3.7485362403295216e-06), np.float64(-6.908766192127274e-05), np.float64(-2.415773001593748e-05), np.float64(-4.314014541080782e-05), np.float64(-9.368956377848644e-07), np.float64(-0.0017650846388323602), np.float64(-9.162447516110767e-05), np.float64(-0.00023248777500081108), np.float64(-3.904979393650052e-06), np.float64(-1.0609858653778133e-05), np.float64(-1.8839522242739377e-05), np.float64(-2.069270408940503e-05), np.float64(-1.9599716206616434e-05), np.float64(-1.9300927308548045e-06), np.float64(-1.3840533642710803e-07), np.float64(-3.6729810233172406e-06), np.float64(-0.00018773236957701322), np.float64(-1.1756084789180756e-06), np.float64(-3.0785146345191754e-05), np.float64(-7.394310966414114e-05), np.float64(-7.572472995572692e-08), np.float64(-8.5216398267721e-05), np.float64(-6.436506814692382e-05), np.float64(-4.610484403265313e-09), np.float64(-1.1945700752905297e-06), np.float64(-1.6560391015145454e-05), np.float64(-1.6153974834038627e-07), np.float64(-3.518690550207764e-06), np.float64(-1.3063073510023933e-06), np.float64(-2.934124498248454e-05), np.float64(-5.91854473359092e-06), np.float64(-5.731200615389094e-06), np.float64(-2.5677785019155605e-06), np.float64(-1.3454856246872174e-05), np.float64(-6.224582950808482e-05), np.float64(-6.188578558127186e-05), np.float64(-1.92586875531844e-06), np.float64(-6.942241271570226e-05), np.float64(-4.5265048468026116e-05), np.float64(-6.473518555352457e-06), np.float64(-5.878114310040863e-05), np.float64(-3.0479349915431205e-05), np.float64(-5.005301636817157e-05), np.float64(-6.978530376321513e-06), np.float64(-6.751528172046777e-06), np.float64(-1.2994156604941214e-06), np.float64(-4.718550555652231e-06), np.float64(-6.140069809425867e-06), np.float64(-1.1143008272115691e-06), np.float64(-5.63606129602778e-05), np.float64(-0.0001087613122562784), np.float64(-2.2564958943053724e-06), np.float64(-3.327281837533142e-05), np.float64(-1.045381090418585e-07), np.float64(-9.555922240194568e-05), np.float64(-1.9516762349355285e-05), np.float64(-9.342651355919392e-08), np.float64(-1.618587638653984e-05), np.float64(-3.4270363445552336e-05), np.float64(-5.491635737902258e-05), np.float64(-2.4028173012156826e-06), np.float64(-2.3081507784205872e-05), np.float64(-2.728503447104218e-07), np.float64(-2.688069364379237e-06), np.float64(-1.5453431424680933e-08), np.float64(-8.4116702716873e-07), np.float64(-8.640566852929605e-06), np.float64(-9.171370555360748e-06), np.float64(-8.528313178933699e-08), np.float64(-2.4236345629105047e-06), np.float64(-1.2287628548530668e-05), np.float64(-9.541533917095858e-05), np.float64(-5.395250002468624e-06), np.float64(-1.0743020937708883e-05), np.float64(-0.00010564357204513826), np.float64(-6.360617342394493e-09), np.float64(-1.0926698301040657e-05), np.float64(-7.995532903041197e-05), np.float64(-2.820924605407802e-05), np.float64(-1.8273939871055128e-05), np.float64(-5.029307656890009e-07), np.float64(-9.324407089963306e-06), np.float64(-0.00011729170574516), np.float64(-5.459693853319842e-05), np.float64(-5.6462769929211914e-05), np.float64(-0.00018785396950580236), np.float64(-1.1911870742243884e-06), np.float64(-5.348068532011613e-05), np.float64(-3.0863107617301578e-09), np.float64(-2.618645445854273e-05), np.float64(-1.3798422303764804e-05), np.float64(-2.3602882154279636e-05), np.float64(-2.998862800879268e-05), np.float64(-4.613040903563819e-07), np.float64(-3.35942180846738e-05), np.float64(-1.3759312382634532e-05), np.float64(-2.1316608855854983e-08), np.float64(-4.2424142501987965e-05), np.float64(-1.2948648970549736e-05), np.float64(-2.8065531045818363e-06), np.float64(-4.1500460300344315e-07), np.float64(-4.4716812244382156e-05), np.float64(-5.802471194360169e-05), np.float64(-1.1935536406120195e-06), np.float64(-9.237910623827893e-06), np.float64(-4.1356266785645775e-05), np.float64(-1.007016822332597e-05), np.float64(-0.00011182532920400209), np.float64(-4.024045126568025e-07), np.float64(-7.409149360188001e-05), np.float64(-1.446944746561004e-05), np.float64(-3.492849062753062e-07), np.float64(-2.9452070933262864e-06), np.float64(-9.030233948094826e-06), np.float64(-5.6793555298507605e-05), np.float64(-6.995177444118137e-06), np.float64(-0.00010234134288212249), np.float64(-1.943642045797957e-05), np.float64(-5.854061688850298e-08), np.float64(-8.248410282844955e-06), np.float64(-4.7048835323421945e-05), np.float64(-8.025093458122638e-07), np.float64(-6.052228942234463e-07), np.float64(-6.124420316157117e-06), np.float64(-4.86103739866263e-06), np.float64(-3.5668659786996e-07), np.float64(-2.420277353087036e-05), np.float64(-6.342864836395555e-05), np.float64(-1.1743677013921087e-06), np.float64(-7.573134411512787e-06), np.float64(-2.3596822848513935e-05), np.float64(-3.9875868935581664e-07), np.float64(-6.895315175612912e-08), np.float64(-2.7430588782459544e-06), np.float64(-2.5142376457873356e-05), np.float64(-4.278477679180962e-05), np.float64(-1.2835732662287202e-08), np.float64(-5.509002991136341e-05), np.float64(-2.3039173268681725e-05), np.float64(-6.23619192392657e-05), np.float64(-1.918348499942718e-05), np.float64(-2.4859948747484523e-05), np.float64(-2.9529834254073014e-05), np.float64(-5.99897731538447e-06), np.float64(-1.8588378996751963e-05), np.float64(-1.1246934486403893e-05), np.float64(-1.3752115357335583e-05), np.float64(-5.579711763103206e-07), np.float64(-4.6599796662431776e-05), np.float64(-4.478637286567366e-06), np.float64(-1.2652142981793914e-05), np.float64(-4.734877663403364e-07), np.float64(-3.828416181156645e-05), np.float64(-6.1274617623313265e-06), np.float64(-2.5961222829073492e-05), np.float64(-2.430404583799308e-06), np.float64(-2.867967952438499e-07), np.float64(-2.328835034987059e-05), np.float64(-2.8439400068985562e-05), np.float64(-9.598051744950362e-06), np.float64(-1.6159513147766795e-06), np.float64(-1.8723410695077075e-05), np.float64(-3.7175697044237714e-06), np.float64(-2.0436539046921336e-06), np.float64(-8.197857555446073e-07), np.float64(-2.444743886203477e-05), np.float64(-1.0594998919096978e-07), np.float64(-3.065053391156128e-06), np.float64(-4.996338023695988e-06), np.float64(-8.500342436937169e-06), np.float64(-1.0193235727070426e-06), np.float64(-6.613094737167187e-08), np.float64(-1.4986772895619472e-05), np.float64(-2.3325587937500935e-09), np.float64(-3.0960414588443664e-06), np.float64(-3.2691389559208323e-07), np.float64(-2.392003630676732e-08), np.float64(-3.758160034109497e-05), np.float64(-9.323449706526911e-07), np.float64(-1.5121957881941207e-05), np.float64(-2.2139858128798047e-05), np.float64(-2.6223052217124547e-07), np.float64(-1.0372959357331042e-06), np.float64(-2.7079096554021542e-05), np.float64(-1.8529731160669365e-06), np.float64(-4.630109368855624e-06), np.float64(-8.367712808692806e-06), np.float64(-1.0659657415543059e-05), np.float64(-6.087172554347271e-06), np.float64(-4.809720051861491e-07), np.float64(-7.017861505633757e-07), np.float64(-1.5056063568136963e-05), np.float64(-6.708867038780627e-10), np.float64(-2.5196921325113746e-05), np.float64(-8.023262996278371e-06), np.float64(-1.7532312177495495e-06), np.float64(-2.201691126417682e-06), np.float64(-2.0886392933893797e-06), np.float64(-7.332538693701507e-06), np.float64(-2.3649012348493843e-05), np.float64(-1.4118898673849479e-06), np.float64(-1.041931509819798e-06), np.float64(-4.819215613479514e-07), np.float64(-7.968092613459376e-07), np.float64(-8.190625775247728e-05), np.float64(-1.727328264862768e-06), np.float64(-3.0049588642299753e-05), np.float64(-4.0274955750408086e-07), np.float64(-3.9839692298652456e-05), np.float64(-1.2727425683916357e-07), np.float64(-2.141519860034568e-06), np.float64(-1.2244462141268601e-05), np.float64(-8.81408006568387e-09), np.float64(-8.749427143075163e-05), np.float64(-2.6732392758361846e-08), np.float64(-1.5147835622574163e-05), np.float64(-1.3977991862990825e-05), np.float64(-1.2070748439288772e-05), np.float64(-1.421243409561061e-05), np.float64(-1.732373998124839e-05), np.float64(-1.475775385567734e-06), np.float64(-0.00010440814686118336), np.float64(-2.5470972519332367e-05), np.float64(-1.7955767671531036e-05), np.float64(-3.819632909600968e-05), np.float64(-9.60859807378112e-07), np.float64(-1.3261460671855244e-06), np.float64(-1.0484163913117831e-06), np.float64(-7.052677249518573e-07), np.float64(-1.5009676294500131e-07), np.float64(-8.4083511696642e-06), np.float64(-4.955057674859478e-06), np.float64(-0.00010792019593299998), np.float64(-3.074088191448697e-06), np.float64(-1.1106365485347675e-05), np.float64(-2.9813003513338206e-06), np.float64(-3.916591447736213e-05), np.float64(-8.35445400834074e-05), np.float64(-7.656839143937192e-06), np.float64(-1.696796967631128e-05), np.float64(-7.2108400672520485e-06), np.float64(-9.516749513594876e-07), np.float64(-1.87955508882348e-06), np.float64(-4.0777003331927826e-08), np.float64(-3.6777788216884236e-05), np.float64(-7.138077671816732e-10), np.float64(-2.5711485900941128e-05), np.float64(-6.761964151285911e-06), np.float64(-3.612819113801006e-05), np.float64(-4.775380874359242e-06), np.float64(-2.635427187701071e-05), np.float64(-2.973774349919604e-05), np.float64(-1.3706889714810089e-05), np.float64(-2.8794833026211002e-05), np.float64(-4.499218153910446e-05), np.float64(-3.0420207528636985e-06), np.float64(-2.8209363089146955e-05), np.float64(-1.6465811130660127e-06), np.float64(-2.2908959553496177e-06), np.float64(-8.790651007300477e-06), np.float64(-0.00011425431022010004), np.float64(-8.970493595899128e-06), np.float64(-1.751195267908346e-05), np.float64(-3.482361035275045e-05), np.float64(-4.950484392713652e-05), np.float64(-1.5355241069171933e-06), np.float64(-4.269402788108156e-05), np.float64(-1.8535405612768238e-05), np.float64(-1.1823003406680486e-06), np.float64(-3.6370591930088626e-07), np.float64(-3.818018520224332e-06), np.float64(-2.8561839200671684e-07), np.float64(-2.692136438596715e-05), np.float64(-3.801532734124092e-06), np.float64(-5.972358348456255e-06), np.float64(-1.0512066986503726e-05), np.float64(-3.798624075467345e-05), np.float64(-5.72503693518893e-09), np.float64(-6.976923105138041e-06), np.float64(-3.718723985313484e-05), np.float64(-3.98036566871371e-05), np.float64(-5.532207729380836e-06), np.float64(-1.9060288899885372e-05), np.float64(-0.00011438027458734701), np.float64(-5.124845086202084e-06), np.float64(-4.157700683433117e-06), np.float64(-1.0275817178262997e-05), np.float64(-7.982118009004623e-06), np.float64(-3.991912553971551e-05), np.float64(-8.492534460129121e-07), np.float64(-2.8423700718856612e-05), np.float64(-5.4139616213092066e-05), np.float64(-1.3429081847537665e-06), np.float64(-9.139328186945567e-05), np.float64(-6.962504175864046e-07), np.float64(-8.630592050632827e-07), np.float64(-2.5975813401514317e-06), np.float64(-6.251282158778858e-05), np.float64(-3.924235766689214e-05), np.float64(-1.3157121672300363e-06), np.float64(-7.516465749652513e-06), np.float64(-1.1695402930764324e-08), np.float64(-5.35880062617604e-05), np.float64(-7.329322397110576e-06), np.float64(-1.0069675946825642e-06), np.float64(-9.84919886347268e-06), np.float64(-6.188507147179133e-05), np.float64(-2.9088760484659593e-05), np.float64(-3.4772926337053036e-05), np.float64(-9.79891343725775e-06), np.float64(-1.6885427179373877e-05), np.float64(-2.846939911649065e-07), np.float64(-4.4455835681767063e-07), np.float64(-5.650716669173704e-05), np.float64(-1.9206962892556406e-06), np.float64(-2.3592557405664674e-07), np.float64(-2.3240201393354085e-05), np.float64(-3.875643318034619e-06), np.float64(-8.29919981427111e-05), np.float64(-6.28451411994675e-06), np.float64(-2.6685266285069214e-07), np.float64(-3.2728120350957333e-06), np.float64(-4.5508654516336005e-05), np.float64(-9.192857077028908e-05), np.float64(-2.9843022818100906e-05), np.float64(-2.493777892986021e-06), np.float64(-1.755538184785008e-06), np.float64(-7.352943599126469e-06), np.float64(-2.2603878042283114e-05), np.float64(-9.914648461787088e-07), np.float64(-5.168806190512803e-05), np.float64(-6.0338318179565605e-06), np.float64(-0.00011569625818686757), np.float64(-2.7307717192444306e-06), np.float64(-2.6493835105911413e-05), np.float64(-1.4799357590447452e-06), np.float64(-3.971152559756128e-06), np.float64(-5.8012884669726676e-06), np.float64(-1.4548166373430863e-05), np.float64(-3.0420915940777875e-05), np.float64(-7.455029147408663e-07), np.float64(-1.310825427696291e-05), np.float64(-8.798979080814794e-05), np.float64(-1.6393504709906167e-06), np.float64(-4.675352147046763e-06), np.float64(-1.1409121835679927e-05), np.float64(-3.681586239366342e-08), np.float64(-3.0259815139444088e-06), np.float64(-1.1443410486550746e-05), np.float64(-4.924280752528746e-06), np.float64(-9.659998336645576e-06), np.float64(-1.5971051672652577e-07), np.float64(-1.2488717291231045e-05), np.float64(-1.3573645245611304e-05), np.float64(-3.7000107102209793e-06), np.float64(-4.6723805963411254e-06), np.float64(-3.548976411266207e-06), np.float64(-4.50039944723173e-06), np.float64(-1.3921579752297538e-05), np.float64(-3.2890432139967804e-05), np.float64(-1.7462317718415006e-06), np.float64(-1.0773409050539715e-05), np.float64(-9.249736564927359e-07), np.float64(-7.797360300489375e-07), np.float64(-1.5162633802640763e-05), np.float64(-9.943053312823507e-06), np.float64(-3.136599294199884e-06), np.float64(-1.4175659868754181e-06), np.float64(-1.1057121357316062e-05), np.float64(-5.63978275518856e-06), np.float64(-1.6925664637607212e-08), np.float64(-1.0370942955733737e-06), np.float64(-6.887601898168241e-07), np.float64(-2.541874637013585e-06), np.float64(-4.795354354402742e-06), np.float64(-3.6338674063878096e-07), np.float64(-2.6459258012501994e-05), np.float64(-1.3056160507895937e-05), np.float64(-3.5411362920144915e-05), np.float64(-2.2177331890652362e-05), np.float64(-5.912265927024433e-06), np.float64(-3.0291140394399226e-05), np.float64(-2.2189926522221284e-05), np.float64(-8.150056920961862e-07), np.float64(-1.3807998916899034e-06), np.float64(-1.6911826867418094e-05), np.float64(-1.687945244058686e-05), np.float64(-3.417663491953097e-06), np.float64(-1.8635148603552754e-06), np.float64(-2.335350686828911e-07), np.float64(-5.046096797099648e-08), np.float64(-1.4298690589006385e-05), np.float64(-3.2602446447900517e-05), np.float64(-2.2486499060246458e-07), np.float64(-3.5633520994907506e-06), np.float64(-1.3023733293335383e-05), np.float64(-3.792863462753077e-07), np.float64(-7.387744062983624e-06), np.float64(-4.868085636146163e-07), np.float64(-5.266742473533721e-06), np.float64(-2.7932049708052317e-06), np.float64(-7.148874337090637e-07), np.float64(-3.7229167432748506e-06), np.float64(-2.737156406679386e-05), np.float64(-2.0601880645065925e-05), np.float64(-1.6724981388850168e-05), np.float64(-1.0372997215473656e-05), np.float64(-3.61014191478634e-05), np.float64(-4.652120150253482e-06), np.float64(-3.571830449818274e-05), np.float64(-1.4052882760853754e-07), np.float64(-2.843083133005829e-07), np.float64(-1.6710994406117648e-07), np.float64(-0.00013036995431584946), np.float64(-1.179526741436865e-05), np.float64(-3.2326645490279216e-06), np.float64(-5.8870006691877626e-05), np.float64(-2.2154489121085057e-06), np.float64(-1.5589512252256278e-05), np.float64(-2.5690566292357153e-08), np.float64(-3.938562356557755e-06), np.float64(-3.91444557453197e-05), np.float64(-2.0715006006259086e-05), np.float64(-1.4745850038183783e-05), np.float64(-7.166482461548527e-06), np.float64(-6.306618068438374e-07), np.float64(-1.3043235158723192e-06), np.float64(-6.885407400378581e-05), np.float64(-1.447145647209182e-06), np.float64(-7.144658424428959e-07), np.float64(-1.0639086751192787e-05), np.float64(-5.01888425557478e-06), np.float64(-6.539845929509679e-06), np.float64(-3.205398197189372e-05), np.float64(-2.0172421292798095e-05), np.float64(-4.231493857348936e-05), np.float64(-2.452936516720904e-05), np.float64(-1.8655921534561488e-06), np.float64(-1.3117371746107814e-05), np.float64(-1.4378014721449693e-05), np.float64(-3.2883353550175576e-05), np.float64(-1.9341726627406633e-07), np.float64(-3.827361343137419e-06), np.float64(-1.8756642787671676e-05), np.float64(-9.444925646291409e-06), np.float64(-1.003538909165455e-06), np.float64(-5.920037946067599e-06), np.float64(-2.9252534833266694e-06), np.float64(-4.659881803517314e-09), np.float64(-4.325397260346893e-06), np.float64(-4.057498581965051e-05), np.float64(-2.6765785077117313e-06), np.float64(-3.7637930928846838e-06), np.float64(-9.980389516341888e-06), np.float64(-4.760132686563083e-08), np.float64(-1.1450514526686458e-06), np.float64(-2.803312283978271e-06), np.float64(-4.789186822660945e-07), np.float64(-3.822037537348462e-06), np.float64(-4.742360366247963e-06), np.float64(-1.671210467846366e-06), np.float64(-1.3080232869429392e-08), np.float64(-2.5151303292221654e-07), np.float64(-1.375556967424227e-05), np.float64(-4.017742924823676e-07), np.float64(-1.7347896368081792e-05), np.float64(-1.4168727873744324e-06), np.float64(-6.640280072961745e-06), np.float64(-3.7592903339427516e-06), np.float64(-5.714211484092608e-07), np.float64(-4.011954736125761e-06), np.float64(-1.750670116138104e-05), np.float64(-1.790882214032206e-07), np.float64(-2.3628204384970335e-07), np.float64(-2.4795574786539307e-06), np.float64(-1.2067077506316298e-05), np.float64(-9.429250981526017e-08), np.float64(-2.213959858943492e-06), np.float64(-2.6126396321483167e-07), np.float64(-2.3479563738516525e-06), np.float64(-1.5542431222035042e-08), np.float64(-1.5901503855187027e-05), np.float64(-2.2368357074140014e-07), np.float64(-1.7390211136994047e-09), np.float64(-1.5996408466731736e-06), np.float64(-8.131505564128892e-08), np.float64(-6.267644415042509e-07), np.float64(-2.9105077387046927e-06), np.float64(-2.9132115619075575e-06), np.float64(-5.991402181208339e-06), np.float64(-7.455039738390239e-06), np.float64(-3.420147015020795e-07), np.float64(-1.841507570378635e-05), np.float64(-2.4893421066191088e-06), np.float64(-3.9362875320951924e-08), np.float64(-9.894504504041201e-07), np.float64(-2.0949880113286345e-06), np.float64(-5.704986901553102e-06), np.float64(-2.2388847500615613e-08), np.float64(-1.060431085337749e-05), np.float64(-2.994849333123677e-07), np.float64(-1.2833149571003937e-06), np.float64(-2.7523393862633174e-07), np.float64(-1.9992827122218596e-06), np.float64(-6.532974854024472e-07), np.float64(-5.2178673652140075e-08), np.float64(-6.7066077246990715e-06), np.float64(-9.852823328610372e-06), np.float64(-3.1378696128327977e-06), np.float64(-2.9205808828810654e-06), np.float64(-3.977255177172198e-05), np.float64(-2.339468299806198e-07), np.float64(-9.23603753373623e-08), np.float64(-9.58173512571106e-07), np.float64(-1.9826532293698596e-05), np.float64(-1.4856982732095562e-08), np.float64(-1.5329268475693054e-05), np.float64(-0.00012315015762887164), np.float64(-1.0427173140419427e-07), np.float64(-1.8987498395020322e-06), np.float64(-1.2266800985675067e-05), np.float64(-1.9493924221173854e-06), np.float64(-4.137060827120986e-06), np.float64(-1.0856227943127877e-07), np.float64(-3.913147000462091e-07), np.float64(-8.855610129935404e-06), np.float64(-4.0808896187655674e-06), np.float64(-2.835553587109682e-06), np.float64(-4.617908151722516e-06), np.float64(-3.726459309846502e-07), np.float64(-2.0609788547542053e-06), np.float64(-1.7706172852424072e-09), np.float64(-9.037667751397043e-08), np.float64(-4.664045786186882e-06), np.float64(-9.164832132548574e-07), np.float64(-4.527074693605175e-07), np.float64(-3.4200435649521573e-06), np.float64(-7.618104845895923e-07), np.float64(-1.757834576923302e-06), np.float64(-9.436582682144978e-06), np.float64(-6.767470846461715e-08), np.float64(-2.3565776842798055e-05), np.float64(-1.4198591363664078e-07), np.float64(-2.6120236626338892e-05), np.float64(-1.3022971097872578e-05), np.float64(-7.026941020059982e-08), np.float64(-2.718510757415513e-06), np.float64(-6.104059912429225e-05), np.float64(-4.633557697304011e-07), np.float64(-6.631048161384689e-06), np.float64(-6.831693653184959e-06), np.float64(-2.5031226903110294e-06), np.float64(-6.36658854292325e-05), np.float64(-4.477005390260013e-06), np.float64(-3.032689257789141e-05), np.float64(-6.177111194482728e-08), np.float64(-3.076299001492581e-05), np.float64(-1.3674511939981086e-06), np.float64(-1.5326599949370032e-05), np.float64(-9.763398666886383e-08), np.float64(-2.1556583992366755e-05), np.float64(-1.7379085140815636e-05), np.float64(-6.1986365166842876e-06), np.float64(-3.644577605767994e-06), np.float64(-5.164630743225291e-06), np.float64(-3.205211399315636e-05), np.float64(-1.9453016820116326e-05), np.float64(-1.3356543325410765e-06), np.float64(-1.1022536556053517e-06), np.float64(-3.5154774412123616e-05), np.float64(-3.167945660072051e-07), np.float64(-2.1300352106894252e-05), np.float64(-7.63417817971395e-06), np.float64(-5.858510186490737e-07), np.float64(-4.879511932326566e-06), np.float64(-2.876266036267499e-05), np.float64(-2.260136410546418e-06), np.float64(-1.1504667703473426e-06), np.float64(-4.6800534500026287e-07), np.float64(-1.0002447580029434e-05), np.float64(-2.55720423057488e-06), np.float64(-2.154939731779661e-06), np.float64(-4.937499530515175e-06), np.float64(-5.474236744530532e-08), np.float64(-3.3020560461563887e-06), np.float64(-1.025296995339106e-05), np.float64(-7.80998774885092e-06), np.float64(-1.83208890072824e-06), np.float64(-6.945753364067613e-06), np.float64(-6.3436997480616524e-06), np.float64(-1.253088301565361e-06), np.float64(-2.2310777650238633e-07), np.float64(-2.175170292987232e-06), np.float64(-2.4011268765833353e-06), np.float64(-8.842409264874167e-06), np.float64(-2.1735768170812144e-05), np.float64(-3.890114188247824e-07), np.float64(-3.253308810101111e-07), np.float64(-1.168264285678298e-06), np.float64(-2.5306819154217973e-06), np.float64(-3.2887320441300107e-07), np.float64(-1.1177801919031471e-06), np.float64(-4.914764576520353e-06), np.float64(-3.663445473897744e-07), np.float64(-1.517015787397246e-06), np.float64(-3.836254638303338e-08), np.float64(-3.555702402844094e-06), np.float64(-2.3608813855157535e-06), np.float64(-6.338126748019511e-06), np.float64(-3.375892014842239e-08), np.float64(-2.586582219890541e-06), np.float64(-2.4080118913277362e-06), np.float64(-5.453994177175435e-07), np.float64(-5.441860796036183e-06), np.float64(-3.5468318462072916e-08), np.float64(-3.35527712905074e-08), np.float64(-3.0641816500312046e-08), np.float64(-3.1251321324961703e-06), np.float64(-2.3801113122721464e-06), np.float64(-2.791326945422652e-07), np.float64(-2.547183516938111e-09), np.float64(-1.437387499616025e-07), np.float64(-2.4162199587821918e-06), np.float64(-3.2767241102187116e-07), np.float64(-5.618858006145825e-06), np.float64(-1.0546698923997014e-07), np.float64(-1.7135244055669033e-05), np.float64(-1.615723203670018e-07), np.float64(-3.089891710977684e-08), np.float64(-1.7619506066631548e-05), np.float64(-5.856333144242756e-07), np.float64(-6.857644595636178e-06), np.float64(-2.9340145171629164e-08), np.float64(-1.2004549588218293e-06), np.float64(-2.0833653394579327e-06), np.float64(-1.3840424992767264e-05), np.float64(-1.6034955816818837e-05), np.float64(-1.5679286193440525e-06), np.float64(-2.9419976188923235e-07), np.float64(-4.897857219003434e-06), np.float64(-2.1132788331623893e-07), np.float64(-2.1454674101785075e-05), np.float64(-6.688654137894015e-07), np.float64(-1.7857005913642824e-06), np.float64(-3.7346155770238925e-06), np.float64(-3.1794989392189426e-06), np.float64(-7.174325127708407e-07), np.float64(-4.9969694141429165e-06), np.float64(-1.2502396793775221e-06), np.float64(-1.6191521274625647e-06), np.float64(-5.994792756686261e-07), np.float64(-4.129989797321362e-07), np.float64(-5.816793424530022e-06), np.float64(-1.5136429072612915e-09), np.float64(-8.916624943380381e-06), np.float64(-8.840982665425243e-08), np.float64(-0.0008508454396709619), np.float64(-5.93599279510689e-06), np.float64(-4.376225363235695e-07), np.float64(-8.96871340493642e-08), np.float64(-5.5456738106479605e-06), np.float64(-3.0283941180635235e-08), np.float64(-1.519177562386073e-06), np.float64(-3.018840329883958e-06), np.float64(-3.308882435608184e-07), np.float64(-7.385498338379411e-07), np.float64(-9.181053031232908e-07), np.float64(-1.7038862847336034e-07), np.float64(-1.7093135900976166e-06), np.float64(-3.4832729241082277e-06), np.float64(-6.40319583892214e-06), np.float64(-9.8942125605003e-06), np.float64(-4.955354348800736e-07), np.float64(-9.540527925085632e-08), np.float64(-8.405109397380916e-08), np.float64(-3.5621837940704747e-09), np.float64(-2.3602182627053412e-08), np.float64(-1.2657474486078342e-06), np.float64(-3.3633109203839984e-06), np.float64(-1.0032203887740094e-06), np.float64(-3.729762142898321e-07), np.float64(-1.1357106550920687e-06), np.float64(-9.753278537930477e-07), np.float64(-3.459704620626176e-07), np.float64(-1.535771348343215e-08), np.float64(-6.100453209278996e-07), np.float64(-5.225331350431128e-06), np.float64(-1.250198189168112e-07), np.float64(-3.515664096225591e-06), np.float64(-2.0314514192156842e-07), np.float64(-1.0801448266464802e-08), np.float64(-1.3624710526337802e-06), np.float64(-1.519903380521176e-06), np.float64(-2.9604432202373773e-07), np.float64(-3.9318473994710165e-07), np.float64(-1.0821552978898984e-08), np.float64(-4.7897963983131e-07), np.float64(-4.3826130184490876e-07), np.float64(-2.4587795605109544e-07), np.float64(-3.700443861518946e-07), np.float64(-5.548860952821004e-08), np.float64(-3.274797218568811e-07), np.float64(-3.281136249614729e-07), np.float64(-7.02987631433266e-07), np.float64(-2.7659332866803564e-09), np.float64(-3.126121271617951e-06), np.float64(-7.16662019763713e-08), np.float64(-7.1212745598324606e-09), np.float64(-6.820586416349601e-07), np.float64(-9.533281226144827e-07), np.float64(-2.0775635465011455e-07), np.float64(-8.789149579754412e-07), np.float64(-1.735423502131233e-06), np.float64(-3.92984728341919e-07), np.float64(-9.88623451430922e-06), np.float64(-5.958244545401875e-07), np.float64(-3.823478645401317e-07), np.float64(-4.069984984134043e-07), np.float64(-6.281716633481659e-06), np.float64(-3.534685289651239e-08), np.float64(-4.053045882097004e-06), np.float64(-5.642551143493289e-07), np.float64(-1.0334395451532812e-07), np.float64(-3.555895592030003e-08), np.float64(-1.2044605037990334e-07), np.float64(-1.0342525282750332e-08), np.float64(-9.30766335099476e-07), np.float64(-1.2744927000512601e-06), np.float64(-4.82164153430091e-06), np.float64(-2.5387478992438825e-06), np.float64(-1.15028980243944e-06), np.float64(-3.5045306905802313e-06), np.float64(-9.069314551213187e-08), np.float64(-1.2939110949211203e-08), np.float64(-6.907542572421254e-09), np.float64(-1.113585330546111e-06), np.float64(-3.1415794170701104e-07), np.float64(-1.9329308600743126e-07), np.float64(-8.175128755747329e-07), np.float64(-7.361372319740608e-07), np.float64(-1.4478649109677401e-06), np.float64(-1.4659798526485744e-06), np.float64(-1.2780936790958726e-06), np.float64(-3.838630524309632e-08), np.float64(-4.279533962245351e-09), np.float64(-6.865776974428469e-07), np.float64(-8.606989181795906e-09), np.float64(-4.498316172663625e-06), np.float64(-5.661320713733717e-08), np.float64(-7.160265788383599e-06), np.float64(-4.319085456845522e-07), np.float64(-6.8489228068082885e-06), np.float64(-1.080551773085757e-05), np.float64(-8.418853151687673e-09), np.float64(-5.745590920049218e-07), np.float64(-9.85676171583421e-07), np.float64(-2.184567672666029e-08), np.float64(-4.1501777058526143e-10), np.float64(-1.0608811481029038e-05), np.float64(-2.6748399220003042e-05), np.float64(-2.3932254065775565e-06), np.float64(-5.617947169421762e-07), np.float64(-4.859760692743225e-06), np.float64(-1.5602580401151393e-06), np.float64(-3.1204182532541224e-06), np.float64(-6.551288090535186e-07), np.float64(-5.1349894127358855e-05), np.float64(-2.03252191826147e-09), np.float64(-5.889315557597522e-08), np.float64(-8.801180225880326e-07), np.float64(-1.163401855097279e-05), np.float64(-2.3726998543959608e-07), np.float64(-2.1280603289310906e-05), np.float64(-1.998829581759564e-09), np.float64(-2.148732764702815e-05), np.float64(-1.8926973731186954e-05), np.float64(-7.737517155068346e-10), np.float64(-5.939194889550998e-05), np.float64(-2.029134034892367e-06), np.float64(-8.810605264619072e-09), np.float64(-2.418817018530321e-05), np.float64(-3.9468427478448385e-06), np.float64(-1.8875031265159763e-06), np.float64(-2.0978770742164032e-05), np.float64(-8.398121680587574e-07), np.float64(-7.655378909611726e-06), np.float64(-5.3537762815987194e-05), np.float64(-0.0002296928400774983), np.float64(-6.025134283203645e-08), np.float64(-6.038556134657596e-07), np.float64(-1.3532930329127962e-07), np.float64(-2.1544651885513835e-07), np.float64(-6.1545033892777e-07), np.float64(-1.0135779009458369e-07), np.float64(-2.174956563982426e-07), np.float64(-8.104335083712014e-07), np.float64(-1.2139250992585619e-08), np.float64(-1.4043974082070819e-08), np.float64(-1.5502885515299743e-07), np.float64(-7.074587385767051e-07), np.float64(-4.883408493725281e-07), np.float64(-3.25142747387185e-10), np.float64(-4.762635090574079e-08), np.float64(-1.6551383862676256e-07), np.float64(-2.1036864728784918e-07), np.float64(-4.004749734108793e-09), np.float64(-4.4728938658154496e-08), np.float64(-9.931421348940026e-08), np.float64(-2.2172823797291454e-07), np.float64(-5.253474864630949e-07), np.float64(-9.184655722743251e-08), np.float64(-4.6035006205595606e-08), np.float64(-9.452749644322963e-07), np.float64(-1.391116351067999e-07), np.float64(-2.2428027784002485e-07), np.float64(-4.774601158041356e-08), np.float64(-1.523305070674815e-07), np.float64(-1.3722511764320214e-10), np.float64(-1.9486179997023902e-07), np.float64(-1.690917284518314e-07), np.float64(-6.59813446018596e-08), np.float64(-4.790544231699412e-07), np.float64(-2.485151409528575e-08), np.float64(-1.0685473261409908e-08), np.float64(-4.858790930684349e-08), np.float64(-6.435762922537218e-08), np.float64(-2.2068772315162738e-09), np.float64(-8.113844309844007e-08), np.float64(-4.8885445920685205e-08), np.float64(-1.4534397433153832e-07), np.float64(-1.7089578825037277e-06), np.float64(-1.3378496893625462e-08), np.float64(-3.6082393486575174e-07), np.float64(-4.915290712902679e-08), np.float64(-1.1440905667045501e-07), np.float64(-1.0304002449046673e-09), np.float64(-4.7433890904196467e-07), np.float64(-4.707182748569838e-08), np.float64(-4.809166412272041e-07), np.float64(-5.679082022839937e-08), np.float64(-8.123701537716862e-07), np.float64(-2.5172139101507416e-08), np.float64(-1.747911398799126e-07), np.float64(-2.3036219974242614e-07), np.float64(-1.3962807497785784e-07), np.float64(-5.043598609073177e-08), np.float64(-2.2552333608644506e-07), np.float64(-2.1342509559679058e-07), np.float64(-3.097878724164142e-07), np.float64(-5.062360847764434e-07), np.float64(-2.4029613428955305e-08), np.float64(-8.353307008521408e-08), np.float64(-1.4471976967620043e-07), np.float64(-5.944621768017205e-09), np.float64(-6.451406110361201e-08), np.float64(-3.597965674500221e-08), np.float64(-7.440109028746064e-08), np.float64(-1.0899832339892107e-07), np.float64(-4.922278884071752e-07), np.float64(-1.80993155531222e-08), np.float64(-1.5961374865042268e-07), np.float64(-6.995542307948369e-09), np.float64(-3.437563322761697e-08), np.float64(-1.8191999450198585e-07), np.float64(-1.87012545415598e-08), np.float64(-1.0867449106982028e-09), np.float64(-4.052988509770518e-09), np.float64(-1.386534745485673e-09), np.float64(-1.1508813536440387e-08), np.float64(-9.515519509927189e-08), np.float64(-1.140704928854332e-07), np.float64(-6.468315798267615e-08), np.float64(-2.4154579721104365e-08), np.float64(-4.4581480398122144e-10), np.float64(-3.4678867328081153e-10), np.float64(-1.8577838006900392e-09), np.float64(-3.4481893350655196e-09), np.float64(-8.713522240128947e-10), np.float64(-5.575933327247267e-10), np.float64(-6.494503332651603e-12), np.float64(-3.342880371483082e-09), np.float64(-2.8122009010728518e-09), np.float64(-1.502060228427123e-11), np.float64(-4.81433301761385e-09), np.float64(-7.979840687965161e-14), np.float64(-3.646881103900375e-10), np.float64(-2.8142380453544243e-10), np.float64(-1.987836518593049e-11), np.float64(-4.731083220711562e-10), np.float64(-1.928477067301907e-09), np.float64(-2.5946742713319516e-11), np.float64(-9.061266969366262e-13), np.float64(-9.704864707719475e-10), np.float64(-7.282291385019141e-12), np.float64(-1.2555139743148493e-10), np.float64(-1.6009755273757632e-09), np.float64(-5.548286971621291e-10), np.float64(-9.471029406751105e-10), np.float64(-4.899391574339489e-10), np.float64(-3.1342691240453346e-09), np.float64(-1.415960366520673e-11), np.float64(-7.29897066175056e-10), np.float64(-2.3623434414253226e-10), np.float64(-6.874796371859356e-14), np.float64(-3.148748618102101e-10), np.float64(-7.439126689405972e-12), np.float64(-4.777206453443225e-10), np.float64(-1.1187110627969279e-11), np.float64(-3.709879134885563e-10), np.float64(-2.8962030014064185e-09), np.float64(-3.858712390922487e-12), np.float64(-2.1500935690232978e-11), np.float64(-3.2603546485832113e-10), np.float64(-2.6987660878128875e-11), np.float64(-1.0093928553620172e-10), np.float64(-1.447799621579443e-10), np.float64(-3.0384963822737494e-11), np.float64(-3.4423158288021662e-12), np.float64(-4.334367366603105e-12), np.float64(-5.514501929203322e-12), np.float64(-2.162201222121074e-12), np.float64(-9.840825604938335e-12), np.float64(-1.0750625862046698e-12), np.float64(-7.909960790233632e-12), np.float64(-1.5266228780694357e-12), np.float64(-1.3526119732581836e-11), np.float64(-5.54009266021512e-12), np.float64(-1.6418370927570075e-11), np.float64(-1.2959561761066861e-11), np.float64(-1.711504390107459e-11), np.float64(-6.6459516029374065e-12), np.float64(-1.9251475166251525e-11), np.float64(-4.905640586764967e-13), np.float64(-5.628327829770258e-12), np.float64(-1.1878557822802675e-12), np.float64(-1.0741773372274125e-11), np.float64(-1.3873682270435365e-11), np.float64(-9.132072625928266e-12), np.float64(-2.2706214204871845e-11), np.float64(-2.222294992948355e-12), np.float64(-3.0686733763560758e-12), np.float64(-2.1721876854461912e-11), np.float64(-1.292586475826596e-12), np.float64(-8.122205498680928e-11), np.float64(-8.483920019825702e-14), np.float64(-3.408782166586441e-11), np.float64(-3.199056625796336e-11), np.float64(-2.333121597613342e-10), np.float64(-3.935731792551236e-11), np.float64(-9.668417250824142e-11), np.float64(-8.393330414059842e-12), np.float64(-1.860285090698642e-10), np.float64(-2.986607681864966e-12), np.float64(-1.9300249963975544e-11), np.float64(-3.7468791340706086e-11), np.float64(-6.313347623486676e-14), np.float64(-2.6847457766208316e-12), np.float64(-4.0872935462662465e-11), np.float64(-6.425975690519133e-11), np.float64(-1.1250697513973706e-12), np.float64(-3.693007757201996e-12), np.float64(-9.28808127320189e-15), np.float64(-1.1201968333838025e-12), np.float64(-1.1578678991942354e-10), np.float64(-7.653983529380796e-14), np.float64(-5.938869853988312e-11), np.float64(-1.1440095361069547e-11), np.float64(-5.907242487902037e-11), np.float64(-6.930394692522266e-14), np.float64(-2.517409483591872e-11), np.float64(-2.728364300363679e-12), np.float64(-1.4279434286681656e-12), np.float64(-1.222646649308397e-11), np.float64(-5.414694090814311e-12), np.float64(-5.8560315974164174e-12), np.float64(-2.0264163985671193e-12), np.float64(-4.673699953739791e-15), np.float64(-8.38568495662599e-12), np.float64(-4.0109381653530175e-13), np.float64(-5.918022708411487e-12), np.float64(-6.279517511300752e-13), np.float64(-6.216485630555212e-13), np.float64(-1.860380744360171e-12), np.float64(-4.6787284482701655e-12), np.float64(-2.8501480871378165e-13), np.float64(-2.629365707055547e-13), np.float64(-2.503382865092828e-13), np.float64(-1.2123475888698664e-12), np.float64(-1.579899205460955e-13), np.float64(-3.3572319881899156e-12), np.float64(-3.1411533334582766e-14), np.float64(-3.7592120124399615e-13), np.float64(-3.1248599639589455e-12), np.float64(-1.3177316654092026e-13), np.float64(-2.2592334048680163e-12), np.float64(-4.440351599261878e-13), np.float64(-3.6257732658729283e-13), np.float64(-2.536731204637585e-14), np.float64(-3.1342400692062934e-13), np.float64(-1.7352675020108538e-12), np.float64(-4.453153105473396e-13), np.float64(-7.761397141707861e-13), np.float64(-2.1603190713185855e-15), np.float64(-1.071505515331451e-13), np.float64(-1.4263967062643098e-12), np.float64(-5.024989842061161e-15), np.float64(-3.888275057047837e-15), np.float64(-2.101928830874076e-14), np.float64(-4.208584114826265e-14), np.float64(-5.73403765880633e-17), np.float64(-2.2695311804004568e-15), np.float64(-3.117010803131218e-13), np.float64(-2.609447209219077e-16), np.float64(-6.191955010262666e-13), np.float64(-9.363713125859906e-15), np.float64(-4.644125636777832e-15), np.float64(-9.960644258510108e-15), np.float64(-3.439259998920385e-13), np.float64(-3.0415244282529504e-13), np.float64(-8.89242065716283e-14), np.float64(-1.6680642240758016e-14), np.float64(-1.284608675432882e-13), np.float64(-1.4662835620422566e-13), np.float64(-3.2387438378828693e-13), np.float64(-9.865142383312282e-15), np.float64(-5.348495021796042e-14), np.float64(-3.9764786888131246e-14), np.float64(-9.632392205605275e-14), np.float64(-1.0459019884871434e-14), np.float64(-4.217488310002788e-12), np.float64(-7.537263730807026e-12), np.float64(-2.595550704231317e-15), np.float64(-1.564504781324161e-13), np.float64(-8.384181361573471e-15), np.float64(-2.480609241125105e-13), np.float64(-1.7970144300341673e-12), np.float64(-4.227119711944356e-12), np.float64(-1.845599928882527e-13), np.float64(-2.923752065500936e-13), np.float64(-1.1892355161714498e-12), np.float64(-2.4996662765360946e-14), np.float64(-1.910675064763597e-12), np.float64(-9.400298740262417e-13), np.float64(-1.4968554220850896e-13), np.float64(-5.5048515376644456e-15), np.float64(-7.898834840963243e-13)]\n"
     ]
    }
   ],
   "source": [
    "\n",
    "1"
   ]
  },
  {
   "cell_type": "code",
   "execution_count": 124,
   "metadata": {},
   "outputs": [
    {
     "data": {
      "text/plain": [
       "1172"
      ]
     },
     "execution_count": 124,
     "metadata": {},
     "output_type": "execute_result"
    }
   ],
   "source": [
    "len(pnl)"
   ]
  }
 ],
 "metadata": {
  "kernelspec": {
   "display_name": "Pythonkurs",
   "language": "python",
   "name": "python3"
  },
  "language_info": {
   "codemirror_mode": {
    "name": "ipython",
    "version": 3
   },
   "file_extension": ".py",
   "mimetype": "text/x-python",
   "name": "python",
   "nbconvert_exporter": "python",
   "pygments_lexer": "ipython3",
   "version": "3.13.2"
  },
  "orig_nbformat": 4
 },
 "nbformat": 4,
 "nbformat_minor": 2
}
